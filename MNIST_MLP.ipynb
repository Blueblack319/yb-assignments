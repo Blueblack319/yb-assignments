{
  "nbformat": 4,
  "nbformat_minor": 0,
  "metadata": {
    "colab": {
      "provenance": [],
      "include_colab_link": true
    },
    "kernelspec": {
      "name": "python3",
      "display_name": "Python 3"
    },
    "language_info": {
      "name": "python"
    },
    "accelerator": "GPU",
    "gpuClass": "standard"
  },
  "cells": [
    {
      "cell_type": "markdown",
      "metadata": {
        "id": "view-in-github",
        "colab_type": "text"
      },
      "source": [
        "<a href=\"https://colab.research.google.com/github/Blueblack319/yb-assignments/blob/main/MNIST_MLP.ipynb\" target=\"_parent\"><img src=\"https://colab.research.google.com/assets/colab-badge.svg\" alt=\"Open In Colab\"/></a>"
      ]
    },
    {
      "cell_type": "code",
      "execution_count": null,
      "metadata": {
        "colab": {
          "base_uri": "https://localhost:8080/"
        },
        "id": "w75BJHj6qukF",
        "outputId": "ce68eba7-c58a-410a-8728-ed5b289c3a13"
      },
      "outputs": [
        {
          "output_type": "stream",
          "name": "stdout",
          "text": [
            "Mounted at /content/drive\n"
          ]
        }
      ],
      "source": [
        "from google.colab import drive\n",
        "drive.mount('/content/drive')"
      ]
    },
    {
      "cell_type": "markdown",
      "source": [
        "# Import pacakages\n",
        "---"
      ],
      "metadata": {
        "id": "KenFYB_0nvlO"
      }
    },
    {
      "cell_type": "code",
      "source": [
        "'''\n",
        "import modules\n",
        "  - Basic tool\n",
        "  - DL tool\n",
        "  - OS tool\n",
        "'''\n",
        "# Basic tools\n",
        "import numpy as np\n",
        "import pandas as pd\n",
        "import matplotlib.pyplot as plt\n",
        "\n",
        "# DL tools\n",
        "import torch \n",
        "import torch.nn as nn\n",
        "import torch.nn.functional as F\n",
        "from sklearn.model_selection import train_test_split\n",
        "import tensorflow as tf\n",
        "from tensorflow import keras\n",
        "from tensorflow.keras.utils import to_categorical\n",
        "\n",
        "# OS tool\n",
        "import os"
      ],
      "metadata": {
        "id": "sRTTu9VPiQ2f"
      },
      "execution_count": null,
      "outputs": []
    },
    {
      "cell_type": "markdown",
      "source": [
        "# Device Setting\n",
        "---"
      ],
      "metadata": {
        "id": "k4xKgk9Xosgh"
      }
    },
    {
      "cell_type": "code",
      "source": [
        "'''\n",
        "  Setting \n",
        "    - Path setting to the current directory\n",
        "    - GPU device setting (device: cuda)\n",
        "'''\n",
        "# Show all columns for the dataframe\n",
        "pd.set_option('display.max_columns', None)\n",
        "\n",
        "# Path\n",
        "my_PATH = \"/content/drive/MyDrive/Colab Notebooks\"\n",
        "os.chdir(my_PATH)\n",
        "# show file list in the current directory\n",
        "!dir\n",
        "\n",
        "'''\n",
        " (!!!!!!!!!!!!!!중요!!!!!!!!!!!!!!!!)\n",
        " GPU 설정을 해줘야 더 효율적인 학습이 가능합니다.\n",
        " \"device: cuda\"로 출력되면 Good!\n",
        " \"device: cpu\"일 경우 현재 코랩에서'런타임 → 런타임 유형 변경 → GPU' 설정을 해줍시다.\n",
        " 코랩이 기본제공하는 GPU는 하루 최대 12시간 사용 가능합니다. 런타임이 연결되는 동안 시간이 차감됩니다.\n",
        " 만약 코랩이 기본제공하는 GPU를 다 썼다면 약 하루를 기다리거나 다른 구글계정을 이용해야합니다. \n",
        "'''\n",
        "# Device setting & configuration\n",
        "# cuda가 available하면 cuda(GPU)로 아니면 CPU 연결\n",
        "if torch.cuda.is_available():\n",
        "    device = torch.device('cuda')\n",
        "else:\n",
        "    device = torch.device('cpu')\n",
        "\n",
        "print('device:', device)"
      ],
      "metadata": {
        "colab": {
          "base_uri": "https://localhost:8080/"
        },
        "id": "FhqicXF8oFDF",
        "outputId": "251b8259-f599-46fa-b362-9bebf6744610"
      },
      "execution_count": null,
      "outputs": [
        {
          "output_type": "stream",
          "name": "stdout",
          "text": [
            "Handling\\ multiple\\ sequences\\ (PyTorch)의\\ 사본\n",
            "hugging\\ face\n",
            "MLP_assignment_2.ipynb\n",
            "Models\\ (PyTorch)의\\ 사본\n",
            "Putting\\ it\\ all\\ together\\ (PyTorch)의\\ 사본\n",
            "Tokenizers\\ (PyTorch)의\\ 사본\n",
            "Untitled0.ipynb\n",
            "YBIGTA\n",
            "device: cuda\n"
          ]
        }
      ]
    },
    {
      "cell_type": "markdown",
      "source": [
        "# Data Load\n",
        "---"
      ],
      "metadata": {
        "id": "Vek_Cdd6ocmE"
      }
    },
    {
      "cell_type": "code",
      "source": [
        "'''\n",
        "  Load MNIST Data\n",
        "    - Train & &Validation & Test data \n",
        "    - Image and Label\n",
        "    - Min-Max scaling\n",
        "'''\n",
        "# Loading the data\n",
        "(x_train, y_train), (x_test, y_test) = tf.keras.datasets.mnist.load_data()\n",
        "\n",
        "# Min-Max scaling\n",
        "x_train = x_train/255.0\n",
        "x_test = x_test/255.0\n",
        "\n",
        "'''\n",
        " train_test_split은 sklearn으로 import한 모듈입니다.\n",
        " train_test_split을 통해 쉽게 데이터를 분리할 수 있습니다.\n",
        " 이 코드는 train데이터를 0.8 : 0.2로 train과 validation 데이터로 분리하는 코드입니다,\n",
        " print 결과 Train 데이터는 28x28 사이즈의 이미지 데이터가 48,000장 있으며 이미지에 대응하는 label이 48,000개 존재함을 알 수 있습니다.  \n",
        "'''\n",
        "# Split train data into Train/Validation data\n",
        "x_train, x_val, y_train, y_val = train_test_split(x_train, y_train, test_size = 0.2, shuffle=True)\n",
        "\n",
        "# Check data shape\n",
        "print(f\"Train 데이터 크기: {x_train.shape, y_train.shape}\")\n",
        "print(f\"Validation 데이터 크기: {x_val.shape, y_val.shape}\")\n",
        "print(f\"Test 데이터 크기:{x_test.shape, y_test.shape}\")\n"
      ],
      "metadata": {
        "id": "kHTK06rSiY8V",
        "colab": {
          "base_uri": "https://localhost:8080/"
        },
        "outputId": "c8631fc3-4c7c-428e-f722-69840aa61813"
      },
      "execution_count": null,
      "outputs": [
        {
          "output_type": "stream",
          "name": "stdout",
          "text": [
            "Downloading data from https://storage.googleapis.com/tensorflow/tf-keras-datasets/mnist.npz\n",
            "11490434/11490434 [==============================] - 0s 0us/step\n",
            "Train 데이터 크기: ((48000, 28, 28), (48000,))\n",
            "Validation 데이터 크기: ((12000, 28, 28), (12000,))\n",
            "Test 데이터 크기:((10000, 28, 28), (10000,))\n"
          ]
        }
      ]
    },
    {
      "cell_type": "code",
      "source": [
        "# Check\n",
        "fig = plt.figure(figsize=(18,8))\n",
        "ax1 = fig.add_subplot(211)\n",
        "img1 = plt.imshow(x_train[0].reshape(28, 28)).set_cmap('Greys')\n",
        "ax2 = fig.add_subplot(222)\n",
        "img2 = plt.imshow(x_train[1].reshape(28, 28)).set_cmap('Greys')\n",
        "print(f\"첫번째 이미지 라벨: {y_train[0]} \")\n",
        "print(f\"두번째 이미지 라벨: {y_train[1]} \")"
      ],
      "metadata": {
        "id": "SgsWDp8DimYz",
        "colab": {
          "base_uri": "https://localhost:8080/",
          "height": 282
        },
        "outputId": "8f55b2ba-9946-4b4c-f48f-fb80896f176a"
      },
      "execution_count": null,
      "outputs": [
        {
          "output_type": "stream",
          "name": "stdout",
          "text": [
            "첫번째 이미지 라벨: 0 \n",
            "두번째 이미지 라벨: 3 \n"
          ]
        },
        {
          "output_type": "display_data",
          "data": {
            "text/plain": [
              "<Figure size 1296x576 with 2 Axes>"
            ],
            "image/png": "[encoded data removed]"
          },
          "metadata": {
            "needs_background": "light"
          }
        }
      ]
    },
    {
      "cell_type": "code",
      "source": [
        "'''\n",
        "  Data Preparation\n",
        "    - No augmentation\n",
        "    - Min-Max scaling (already done at the first)    \n",
        "    - Label(target) -> One hot encoding\n",
        "    \n",
        "    MyDataset은 현재 데이터 set에 다음 속성들을 부여합니다.\n",
        "    Pytorch의 DataLoader를 활용하기 위해 필요합니다.\n",
        "'''\n",
        "\n",
        "class Mydataset(torch.utils.data.Dataset):\n",
        "\n",
        "    # 데이터 전처리 \n",
        "    def __init__(self, dataX_np , dataY_np):\n",
        "        self.data_X = dataX_np.astype(np.float32)\n",
        "        self.data_Y = dataY_np.astype(np.float32) \n",
        "\n",
        "        print(f\"My_dataset __init__ received : {self.data_X.shape}, {self.data_Y.shape} \")\n",
        "\n",
        "    # 인덱스를 입력받아 인덱스에 알맞는 입출력 데이터를 Return\n",
        "    def __getitem__(self, index):\n",
        "        image = self.data_X[index]\n",
        "        label = self.data_Y[index]\n",
        "        # One hot encoding\n",
        "        # 0~9 숫자로 되어있는 라벨을 one hot encoding 형식으로 변환합니다. 이는 이후 MLP의 출력이 10차원이기에 Loss를 계산하기 위해 진행하였습니다.  \n",
        "        label = to_categorical(label, num_classes = 10)\n",
        "\n",
        "        return image, label\n",
        "    \n",
        "    # 총 데이터 개수를 Return\n",
        "    def __len__(self):\n",
        "        return len(self.data_X)"
      ],
      "metadata": {
        "id": "hYk7WJbiint1"
      },
      "execution_count": null,
      "outputs": []
    },
    {
      "cell_type": "code",
      "source": [
        "'''\n",
        " DataLoader는 데이터를 batch_size에 맞게 나눠주거나 shuffle해 주는 등의 기능을 지원합니다.\n",
        " DataLoader는 데이터를 index로 접근가능하도록 하고 for문에서 사용할 수 있는 iterable 객체로 감싸줍니다.\n",
        "\n",
        " batch_size 변수는 train 데이터의 batch 크기를 결정합니다.\n",
        " batch_size를 1로 할 경우 SGD가 되며 (모든 데이터의 배치크기가 1이므로 배치 = 하나의 데이터 이기 떄문입니다)\n",
        " batch_size를 현재 데이터의 수보다 같거나 크게 할 경우 BGD가 됩니다. (배치하나가 모든 데이터를 포함하기 때문입니다.)\n",
        " 현재 batch_size를 32로 설정하였기에 48000//32 = 1500. 1500개의 배치가 생성되며 배치 한개당 32개의 이미지데이터와 라벨데이터가 존재합니다.\n",
        " drop_last = False로 설정하여 배치로 나눴을 떄 32개가 채워지지 못하는 마지막 배치를 그대로 살리도록 하였습니다.\n",
        " \n",
        " train_loader의 경우 batch_size=32로 설정하여 Mini-batch Gradient Descent를 사용하도록 하였습니다. \n",
        " valid_lodaer와 test_loader의 batch_size를 데이터의 수보다 크게하여 모든 데이터에 대한 Loss와 Accuracy가 구해질 수 있도록 하였습니다.\n",
        "\n",
        " x_train, x_val, x_test 모두 (-1,28*28)로 reshape하였습니다. 즉, 28x28의 크기로 이뤄진 이미지 데이터를 28*28 = 784 차원의 벡터로 Flatten하였습니다. 이미지 데이터를 일자로 폈다고 생각하시면 됩니다.\n",
        " 따라서 MLP 모델에 입력되는 데이터는 784차원의 벡터입니다.\n",
        "'''\n",
        "\n",
        "batch_size = 32\n",
        "train_loader = torch.utils.data.DataLoader(Mydataset(x_train.reshape(-1,28*28), y_train), batch_size=batch_size, shuffle=False, drop_last = False)\n",
        "valid_loader = torch.utils.data.DataLoader(Mydataset(x_val.reshape(-1,28*28), y_val), batch_size = 1000000000, shuffle=False, drop_last = False)\n",
        "test_loader = torch.utils.data.DataLoader(Mydataset(x_test.reshape(-1,28*28), y_test), batch_size = 100000000, shuffle=False, drop_last = False)"
      ],
      "metadata": {
        "id": "D3eHRHz0ixFl",
        "colab": {
          "base_uri": "https://localhost:8080/"
        },
        "outputId": "decc3938-bef3-4c99-a217-5e24c74895a0"
      },
      "execution_count": null,
      "outputs": [
        {
          "output_type": "stream",
          "name": "stdout",
          "text": [
            "My_dataset __init__ received : (48000, 784), (48000,) \n",
            "My_dataset __init__ received : (12000, 784), (12000,) \n",
            "My_dataset __init__ received : (10000, 784), (10000,) \n"
          ]
        }
      ]
    },
    {
      "cell_type": "markdown",
      "source": [
        "# MLP Model\n",
        "---"
      ],
      "metadata": {
        "id": "HbBLZjwNRs3a"
      }
    },
    {
      "cell_type": "code",
      "source": [
        "'''\n",
        "  MLP 모델을 정의하는 Class 입니다.\n",
        "\n",
        "  self.fc1 에서 fc1은 layer의 이름이며 fc1을 nn.Linear(input_dimension, output_dimension, bias=False)로 정의 할 수 있습니다.\n",
        "  즉 fc1은 784차원의 input을 wx+b의 Linear 함수를 적용하여 2048차원으로 보냅니다.(input 뉴련 784개, output 뉴런 2048개로 이뤄진 두 layer를 연결합니다.) \n",
        "  bias를 True로 설정할 경우 bias를 추가할 수 있습니다.\n",
        "\n",
        "'''\n",
        "class MLP_overfit(nn.Module):\n",
        "    def __init__(self):\n",
        "        super(MLP_overfit, self).__init__()\n",
        "        self.fc1 = nn.Linear(784, 2048)\n",
        "        self.fc3 = nn.Linear(2048, 1024)\n",
        "        self.fc4 = nn.Linear(1024, 512)\n",
        "        self.fc5 = nn.Linear(512,256)\n",
        "        self.fc6 = nn.Linear(256, 128)\n",
        "        self.fc7 = nn.Linear(128, 64)\n",
        "        self.fc8 = nn.Linear(64, 10)\n",
        "\n",
        "    def forward(self, x):\n",
        "        x = self.fc1(x)\n",
        "        x = F.relu(x)\n",
        "        x = self.fc3(x)\n",
        "        x = F.relu(x) \n",
        "        x = self.fc4(x)\n",
        "        x = F.relu(x)\n",
        "        x = self.fc5(x)\n",
        "        x = F.relu(x) \n",
        "        x = self.fc6(x)\n",
        "        x = F.relu(x) \n",
        "        x = self.fc7(x)\n",
        "        x = F.relu(x) \n",
        "        x = self.fc8(x)\n",
        "\n",
        "        # Pytorch에서는 Softmax가 CrossEntropy함수안에 내장되어있기에 없어도 됩니다. \n",
        "        # 이후 Loss를 CrossEntropy를 사용할 것이기에 제외하였습니다.\n",
        "        # x = F.log_softmax(x, dim=1)\n",
        "\n",
        "        return x"
      ],
      "metadata": {
        "id": "gxloDOf49T2g"
      },
      "execution_count": null,
      "outputs": []
    },
    {
      "cell_type": "code",
      "source": [
        "class MLP_underfit(nn.Module):\n",
        "    def __init__(self):\n",
        "        super(MLP_underfit, self).__init__()\n",
        "        self.fc1 = nn.Linear(784, 4)\n",
        "        self.fc2 = nn.Linear(4, 10)\n",
        "        \n",
        "        # Weight Initialization\n",
        "        torch.nn.init.xavier_normal_(self.fc1.weight.data, gain=1.0)\n",
        "        torch.nn.init.xavier_normal_(self.fc2.weight.data, gain=1.0)\n",
        "\n",
        "    def forward(self, x):\n",
        "        x = self.fc1(x)\n",
        "        x = F.relu(x) \n",
        "        x = self.fc2(x)\n",
        "\n",
        "        return x"
      ],
      "metadata": {
        "id": "HwVUgRrC7kk5"
      },
      "execution_count": null,
      "outputs": []
    },
    {
      "cell_type": "markdown",
      "source": [
        "# Train\n",
        "---"
      ],
      "metadata": {
        "id": "RadXUxDNR4JZ"
      }
    },
    {
      "cell_type": "code",
      "source": [
        "from statistics import mean \n",
        "import time\n",
        "\n",
        "'''\n",
        " 모델의 학습을 정의하는 함수입니다.\n",
        " model, Lossfunction, Optimizer, Scheduler 등을 입력받습니다.\n",
        " 출력은 train, valdation, test의 loss 리스트로 하였습니다.\n",
        " train함수를 사용하면 입력받은 loss와 optimizer, lr scheduler, num_epoch에 따라 model을 학습시킵니다.\n",
        "'''\n",
        "\n",
        "def train(model, criterion_, optimizer_, scheduler_, num_epochs=40, first_epoch=1):\n",
        "    \n",
        "    train_losses = []\n",
        "    valid_losses = []\n",
        "    test_losses = []\n",
        "\n",
        "    print(\"----------------------------------------------------------------------------\")\n",
        "\n",
        "    start_time = time.time()\n",
        "    for epoch in range(first_epoch, first_epoch + num_epochs):\n",
        "        # train phase\n",
        "        model.train()\n",
        "        \n",
        "        # batch_loss \n",
        "        batch_losses = []\n",
        "\n",
        "        for images, labels in train_loader:\n",
        "            \n",
        "            # Move the training data to the GPU\n",
        "            images = images.to(device)   \n",
        "            labels = labels.to(device)\n",
        "\n",
        "            # clear previous gradient computation\n",
        "            optimizer_.zero_grad()\n",
        "\n",
        "            # forward propagation\n",
        "            outputs = model(images)\n",
        "\n",
        "            # calculate the loss\n",
        "            loss = criterion_.forward(outputs, labels)\n",
        "            batch_losses.append(loss.item())\n",
        "\n",
        "            # backpropagate to compute gradients\n",
        "            loss.backward()\n",
        "\n",
        "            # update model weights\n",
        "            optimizer_.step()\n",
        "\n",
        "        # Train loss를 저장합니다.\n",
        "        train_losses.append(mean(batch_losses))\n",
        "\n",
        "        # validation phase\n",
        "        # Dropout, BatchNormalization과 같은 layer가 동작하지 않도록 합니다.\n",
        "        model.eval()\n",
        "\n",
        "        # We don't need gradients for test, so wrap in \n",
        "        # no_grad to save memory\n",
        "        # 기울기 Gradient를 계산하지 않으며 backpropagation을 하지 않습니다. \n",
        "        with torch.no_grad():\n",
        "            \n",
        "            correct_test = 0\n",
        "\n",
        "            for images, labels in valid_loader:\n",
        "\n",
        "                # Move the training batch to the GPU\n",
        "                images = images.to(device)\n",
        "                labels = labels.to(device)\n",
        "\n",
        "                # forward propagation\n",
        "                outputs = model(images)\n",
        "\n",
        "                # calculate the loss\n",
        "                loss = criterion_(outputs, labels)\n",
        "                valid_losses.append(loss.item())\n",
        "\n",
        "            for images, labels in test_loader:\n",
        "                # Move the training batch to the GPU\n",
        "                images = images.to(device)\n",
        "                labels = labels.to(device)\n",
        "\n",
        "                # forward propagation\n",
        "                outputs = model(images)\n",
        "\n",
        "                # calculate the loss\n",
        "                loss = criterion_(outputs, labels)\n",
        "                test_losses.append(loss.item())\n",
        "\n",
        "                # Check Accuracy\n",
        "                # preds 는 output 중에서 가장 높은 값의 index를 가집니다. \n",
        "                _, preds = torch.max(outputs, 1)\n",
        "\n",
        "                # label이 현재 one hot encoding 형태로 되어있기에 preds를 index로 받아 1인지 확인합니다. \n",
        "                # ex) 숫자 2 : label = [0,0,1,0,0,...,0] , label[i][preds] == 1 -> 정답\n",
        "                for i in range(len(preds)):\n",
        "                  if labels[i][preds[i]] == 1:\n",
        "                    correct_test +=1\n",
        "        \n",
        "        # 원하는 Epoch마다 결과 출력 \n",
        "        if (epoch) % 1== 0 :\n",
        "            curr_time = round(time.time()-start_time)\n",
        "            train_rec = round(train_losses[-1],5)\n",
        "            valid_rec = round(valid_losses[-1],5)\n",
        "            test_rec = round(test_losses[-1],5)\n",
        "            test_acc = round(100*(correct_test)/len(labels),3)\n",
        "            print('Epoch', epoch, ' / ',num_epochs)\n",
        "            print(f\"\\t [Train loss : {train_rec}]  [Validation loss : {valid_rec}] [Test loss : {test_rec}], [Test Accuracy : {test_acc}%],[curr LR = {scheduler_.get_last_lr()}],[elapsed_time = {curr_time}sec] \")\n",
        "\n",
        "        # Learning rate Scheduling\n",
        "        # Scheduler에 따라 learning rate를 조절합니다. \n",
        "        scheduler_.step()\n",
        "        \n",
        "      \n",
        "    print(f\"\\nTrain Ended, total_elapsed_time = {round(time.time()-start_time)} \")\n",
        "    print(\"--------------------------------------------------------------------\")\n",
        "    \n",
        "    # Loss 값 반환\n",
        "    return train_losses, valid_losses, test_losses"
      ],
      "metadata": {
        "id": "ZgoDO9pgk0eu"
      },
      "execution_count": null,
      "outputs": []
    },
    {
      "cell_type": "markdown",
      "source": [
        "## Setting"
      ],
      "metadata": {
        "id": "Vn80AsOCYGMe"
      }
    },
    {
      "cell_type": "code",
      "source": [
        "# Moodel Setting \n",
        "model = MLP_overfit()\n",
        "model.to(device)\n",
        "\n",
        "# Optimizer\n",
        "# Optimzer와 Learning rate를 설정해줍니다.\n",
        "optimizer = torch.optim.Adam(model.parameters(), lr=0.001)\n",
        "\n",
        "# Loss Function\n",
        "criterion = nn.CrossEntropyLoss()\n",
        "\n",
        "# Learning rate scheduler\n",
        "# epoch가 10번 돌때마다 learning rate를 gamma만큼 곱해 사용합니다. ex) 0.01 -> 0.005\n",
        "scheduler = torch.optim.lr_scheduler.StepLR(optimizer, step_size=10, gamma=0.5)"
      ],
      "metadata": {
        "id": "9G2STZq9YDYk"
      },
      "execution_count": null,
      "outputs": []
    },
    {
      "cell_type": "markdown",
      "source": [
        "## Training"
      ],
      "metadata": {
        "id": "7CZOAkyaYMx8"
      }
    },
    {
      "cell_type": "markdown",
      "source": [
        "### Overfitting"
      ],
      "metadata": {
        "id": "cgn_VREkgxX-"
      }
    },
    {
      "cell_type": "code",
      "source": [
        "train_losses, valid_losses, test_losses = train(model, criterion_ = criterion, optimizer_ = optimizer, scheduler_ = scheduler, num_epochs=30)"
      ],
      "metadata": {
        "colab": {
          "base_uri": "https://localhost:8080/"
        },
        "id": "7O8pE28EcZ2j",
        "outputId": "62454ea8-0298-48f6-a51b-36d33a3e0450"
      },
      "execution_count": null,
      "outputs": [
        {
          "output_type": "stream",
          "name": "stdout",
          "text": [
            "----------------------------------------------------------------------------\n",
            "Epoch 1  /  30\n",
            "\t [Train loss : 0.31207]  [Validation loss : 0.18177] [Test loss : 0.17119], [Test Accuracy : 94.99%],[curr LR = [0.001]],[elapsed_time = 37sec] \n",
            "Epoch 2  /  30\n",
            "\t [Train loss : 0.13252]  [Validation loss : 0.14349] [Test loss : 0.13243], [Test Accuracy : 96.35%],[curr LR = [0.001]],[elapsed_time = 57sec] \n",
            "Epoch 3  /  30\n",
            "\t [Train loss : 0.09968]  [Validation loss : 0.12501] [Test loss : 0.11542], [Test Accuracy : 97.32%],[curr LR = [0.001]],[elapsed_time = 77sec] \n",
            "Epoch 4  /  30\n",
            "\t [Train loss : 0.0814]  [Validation loss : 0.14388] [Test loss : 0.13094], [Test Accuracy : 96.75%],[curr LR = [0.001]],[elapsed_time = 97sec] \n",
            "Epoch 5  /  30\n",
            "\t [Train loss : 0.06562]  [Validation loss : 0.13205] [Test loss : 0.10504], [Test Accuracy : 97.59%],[curr LR = [0.001]],[elapsed_time = 116sec] \n",
            "Epoch 6  /  30\n",
            "\t [Train loss : 0.05448]  [Validation loss : 0.13363] [Test loss : 0.12109], [Test Accuracy : 97.49%],[curr LR = [0.001]],[elapsed_time = 136sec] \n",
            "Epoch 7  /  30\n",
            "\t [Train loss : 0.04658]  [Validation loss : 0.15008] [Test loss : 0.13302], [Test Accuracy : 97.56%],[curr LR = [0.001]],[elapsed_time = 154sec] \n",
            "Epoch 8  /  30\n",
            "\t [Train loss : 0.04679]  [Validation loss : 0.13556] [Test loss : 0.13713], [Test Accuracy : 97.37%],[curr LR = [0.001]],[elapsed_time = 174sec] \n",
            "Epoch 9  /  30\n",
            "\t [Train loss : 0.041]  [Validation loss : 0.13548] [Test loss : 0.15786], [Test Accuracy : 97.3%],[curr LR = [0.001]],[elapsed_time = 189sec] \n",
            "Epoch 10  /  30\n",
            "\t [Train loss : 0.03447]  [Validation loss : 0.14346] [Test loss : 0.14634], [Test Accuracy : 97.67%],[curr LR = [0.001]],[elapsed_time = 212sec] \n",
            "Epoch 11  /  30\n",
            "\t [Train loss : 0.01663]  [Validation loss : 0.1094] [Test loss : 0.1021], [Test Accuracy : 98.33%],[curr LR = [0.0005]],[elapsed_time = 232sec] \n",
            "Epoch 12  /  30\n",
            "\t [Train loss : 0.01018]  [Validation loss : 0.12298] [Test loss : 0.11663], [Test Accuracy : 98.34%],[curr LR = [0.0005]],[elapsed_time = 252sec] \n",
            "Epoch 13  /  30\n",
            "\t [Train loss : 0.00992]  [Validation loss : 0.11941] [Test loss : 0.11213], [Test Accuracy : 98.33%],[curr LR = [0.0005]],[elapsed_time = 271sec] \n",
            "Epoch 14  /  30\n",
            "\t [Train loss : 0.01193]  [Validation loss : 0.1346] [Test loss : 0.13382], [Test Accuracy : 98.39%],[curr LR = [0.0005]],[elapsed_time = 286sec] \n",
            "Epoch 15  /  30\n",
            "\t [Train loss : 0.00996]  [Validation loss : 0.15732] [Test loss : 0.15124], [Test Accuracy : 98.27%],[curr LR = [0.0005]],[elapsed_time = 306sec] \n",
            "Epoch 16  /  30\n",
            "\t [Train loss : 0.00976]  [Validation loss : 0.15801] [Test loss : 0.14566], [Test Accuracy : 98.34%],[curr LR = [0.0005]],[elapsed_time = 324sec] \n",
            "Epoch 17  /  30\n",
            "\t [Train loss : 0.0101]  [Validation loss : 0.17569] [Test loss : 0.17686], [Test Accuracy : 98.17%],[curr LR = [0.0005]],[elapsed_time = 343sec] \n",
            "Epoch 18  /  30\n",
            "\t [Train loss : 0.00647]  [Validation loss : 0.21131] [Test loss : 0.21058], [Test Accuracy : 98.32%],[curr LR = [0.0005]],[elapsed_time = 366sec] \n",
            "Epoch 19  /  30\n",
            "\t [Train loss : 0.01016]  [Validation loss : 0.17414] [Test loss : 0.18145], [Test Accuracy : 98.1%],[curr LR = [0.0005]],[elapsed_time = 383sec] \n",
            "Epoch 20  /  30\n",
            "\t [Train loss : 0.00716]  [Validation loss : 0.22095] [Test loss : 0.24334], [Test Accuracy : 98.2%],[curr LR = [0.0005]],[elapsed_time = 402sec] \n",
            "Epoch 21  /  30\n",
            "\t [Train loss : 0.00208]  [Validation loss : 0.20407] [Test loss : 0.21505], [Test Accuracy : 98.44%],[curr LR = [0.00025]],[elapsed_time = 424sec] \n",
            "Epoch 22  /  30\n",
            "\t [Train loss : 0.00052]  [Validation loss : 0.2533] [Test loss : 0.28956], [Test Accuracy : 98.4%],[curr LR = [0.00025]],[elapsed_time = 444sec] \n",
            "Epoch 23  /  30\n",
            "\t [Train loss : 0.00068]  [Validation loss : 0.26494] [Test loss : 0.2965], [Test Accuracy : 98.28%],[curr LR = [0.00025]],[elapsed_time = 462sec] \n",
            "Epoch 24  /  30\n",
            "\t [Train loss : 0.00294]  [Validation loss : 0.26473] [Test loss : 0.28933], [Test Accuracy : 98.23%],[curr LR = [0.00025]],[elapsed_time = 486sec] \n",
            "Epoch 25  /  30\n",
            "\t [Train loss : 0.00078]  [Validation loss : 0.33734] [Test loss : 0.35783], [Test Accuracy : 98.39%],[curr LR = [0.00025]],[elapsed_time = 505sec] \n",
            "Epoch 26  /  30\n",
            "\t [Train loss : 0.00168]  [Validation loss : 0.32857] [Test loss : 0.31655], [Test Accuracy : 98.37%],[curr LR = [0.00025]],[elapsed_time = 524sec] \n",
            "Epoch 27  /  30\n",
            "\t [Train loss : 0.00041]  [Validation loss : 0.39461] [Test loss : 0.38562], [Test Accuracy : 98.43%],[curr LR = [0.00025]],[elapsed_time = 543sec] \n",
            "Epoch 28  /  30\n",
            "\t [Train loss : 0.00013]  [Validation loss : 0.43583] [Test loss : 0.42124], [Test Accuracy : 98.39%],[curr LR = [0.00025]],[elapsed_time = 562sec] \n",
            "Epoch 29  /  30\n",
            "\t [Train loss : 0.00076]  [Validation loss : 0.49692] [Test loss : 0.49938], [Test Accuracy : 98.27%],[curr LR = [0.00025]],[elapsed_time = 585sec] \n",
            "Epoch 30  /  30\n",
            "\t [Train loss : 0.00197]  [Validation loss : 0.53353] [Test loss : 0.52975], [Test Accuracy : 98.18%],[curr LR = [0.00025]],[elapsed_time = 604sec] \n",
            "\n",
            "Train Ended, total_elapsed_time = 604 \n",
            "--------------------------------------------------------------------\n"
          ]
        }
      ]
    },
    {
      "cell_type": "markdown",
      "source": [
        "### Underfitting"
      ],
      "metadata": {
        "id": "kbpOwHRPg1Qd"
      }
    },
    {
      "cell_type": "code",
      "source": [
        "# Moodel Setting \n",
        "model = MLP_underfit()\n",
        "model.to(device)\n",
        "\n",
        "# Optimizer\n",
        "# Optimzer와 Learning rate를 설정해줍니다.\n",
        "optimizer = torch.optim.Adam(model.parameters(), lr=0.001)\n",
        "\n",
        "# Loss Function\n",
        "criterion = nn.CrossEntropyLoss()\n",
        "\n",
        "# Learning rate scheduler\n",
        "# epoch가 10번 돌때마다 learning rate를 gamma만큼 곱해 사용합니다. ex) 0.01 -> 0.005\n",
        "scheduler = torch.optim.lr_scheduler.StepLR(optimizer, step_size=10, gamma=0.5)"
      ],
      "metadata": {
        "id": "41bbMl-Rg-z9"
      },
      "execution_count": null,
      "outputs": []
    },
    {
      "cell_type": "code",
      "source": [
        "train_losses_2, valid_losses_2, test_losses_2 = train(model, criterion_ = criterion, optimizer_ = optimizer, scheduler_ = scheduler, num_epochs=20)"
      ],
      "metadata": {
        "colab": {
          "base_uri": "https://localhost:8080/"
        },
        "id": "vzL10ME5g4FV",
        "outputId": "30c32d16-c07b-47cb-c045-50479cb4441a"
      },
      "execution_count": null,
      "outputs": [
        {
          "output_type": "stream",
          "name": "stdout",
          "text": [
            "----------------------------------------------------------------------------\n",
            "Epoch 1  /  20\n",
            "\t [Train loss : 0.99774]  [Validation loss : 0.68626] [Test loss : 0.66711], [Test Accuracy : 80.11%],[curr LR = [0.001]],[elapsed_time = 18sec] \n",
            "Epoch 2  /  20\n",
            "\t [Train loss : 0.63083]  [Validation loss : 0.61187] [Test loss : 0.59647], [Test Accuracy : 82.97%],[curr LR = [0.001]],[elapsed_time = 38sec] \n",
            "Epoch 3  /  20\n",
            "\t [Train loss : 0.57247]  [Validation loss : 0.57077] [Test loss : 0.55578], [Test Accuracy : 84.36%],[curr LR = [0.001]],[elapsed_time = 53sec] \n",
            "Epoch 4  /  20\n",
            "\t [Train loss : 0.53214]  [Validation loss : 0.54055] [Test loss : 0.52851], [Test Accuracy : 85.13%],[curr LR = [0.001]],[elapsed_time = 70sec] \n",
            "Epoch 5  /  20\n",
            "\t [Train loss : 0.50416]  [Validation loss : 0.52302] [Test loss : 0.51357], [Test Accuracy : 85.28%],[curr LR = [0.001]],[elapsed_time = 86sec] \n",
            "Epoch 6  /  20\n",
            "\t [Train loss : 0.4871]  [Validation loss : 0.5121] [Test loss : 0.50443], [Test Accuracy : 85.67%],[curr LR = [0.001]],[elapsed_time = 104sec] \n",
            "Epoch 7  /  20\n",
            "\t [Train loss : 0.47578]  [Validation loss : 0.50443] [Test loss : 0.49753], [Test Accuracy : 85.62%],[curr LR = [0.001]],[elapsed_time = 124sec] \n",
            "Epoch 8  /  20\n",
            "\t [Train loss : 0.46743]  [Validation loss : 0.49836] [Test loss : 0.49177], [Test Accuracy : 85.88%],[curr LR = [0.001]],[elapsed_time = 140sec] \n",
            "Epoch 9  /  20\n",
            "\t [Train loss : 0.46092]  [Validation loss : 0.49299] [Test loss : 0.48661], [Test Accuracy : 85.99%],[curr LR = [0.001]],[elapsed_time = 159sec] \n",
            "Epoch 10  /  20\n",
            "\t [Train loss : 0.45563]  [Validation loss : 0.48861] [Test loss : 0.48234], [Test Accuracy : 86.18%],[curr LR = [0.001]],[elapsed_time = 175sec] \n",
            "Epoch 11  /  20\n",
            "\t [Train loss : 0.44703]  [Validation loss : 0.4859] [Test loss : 0.47788], [Test Accuracy : 86.55%],[curr LR = [0.0005]],[elapsed_time = 193sec] \n",
            "Epoch 12  /  20\n",
            "\t [Train loss : 0.44466]  [Validation loss : 0.48411] [Test loss : 0.47604], [Test Accuracy : 86.59%],[curr LR = [0.0005]],[elapsed_time = 212sec] \n",
            "Epoch 13  /  20\n",
            "\t [Train loss : 0.4427]  [Validation loss : 0.48194] [Test loss : 0.47415], [Test Accuracy : 86.64%],[curr LR = [0.0005]],[elapsed_time = 229sec] \n",
            "Epoch 14  /  20\n",
            "\t [Train loss : 0.44089]  [Validation loss : 0.48064] [Test loss : 0.47273], [Test Accuracy : 86.63%],[curr LR = [0.0005]],[elapsed_time = 247sec] \n",
            "Epoch 15  /  20\n",
            "\t [Train loss : 0.43924]  [Validation loss : 0.47945] [Test loss : 0.47144], [Test Accuracy : 86.66%],[curr LR = [0.0005]],[elapsed_time = 263sec] \n",
            "Epoch 16  /  20\n",
            "\t [Train loss : 0.43769]  [Validation loss : 0.47845] [Test loss : 0.47036], [Test Accuracy : 86.67%],[curr LR = [0.0005]],[elapsed_time = 279sec] \n",
            "Epoch 17  /  20\n",
            "\t [Train loss : 0.43623]  [Validation loss : 0.47736] [Test loss : 0.46916], [Test Accuracy : 86.73%],[curr LR = [0.0005]],[elapsed_time = 301sec] \n",
            "Epoch 18  /  20\n",
            "\t [Train loss : 0.4349]  [Validation loss : 0.47648] [Test loss : 0.46811], [Test Accuracy : 86.77%],[curr LR = [0.0005]],[elapsed_time = 317sec] \n",
            "Epoch 19  /  20\n",
            "\t [Train loss : 0.43363]  [Validation loss : 0.47565] [Test loss : 0.46718], [Test Accuracy : 86.8%],[curr LR = [0.0005]],[elapsed_time = 336sec] \n",
            "Epoch 20  /  20\n",
            "\t [Train loss : 0.43245]  [Validation loss : 0.47525] [Test loss : 0.46649], [Test Accuracy : 86.83%],[curr LR = [0.0005]],[elapsed_time = 354sec] \n",
            "\n",
            "Train Ended, total_elapsed_time = 354 \n",
            "--------------------------------------------------------------------\n"
          ]
        }
      ]
    },
    {
      "cell_type": "markdown",
      "source": [
        "# Plot Result\n",
        "---"
      ],
      "metadata": {
        "id": "Cs8DOtIaX7_K"
      }
    },
    {
      "cell_type": "code",
      "source": [
        "def plot_result(train_loss, val_loss, test_loss):\n",
        "  plt.figure(figsize=(20,8))\n",
        "  plt.plot(train_loss, label='Train Loss', linewidth='3')\n",
        "  plt.plot(val_loss, label='Validation Loss', linewidth='3')\n",
        "  plt.plot(test_loss, label='Test Loss', linewidth='3')\n",
        "  plt.grid()\n",
        "  plt.rc('xtick', labelsize=12)\n",
        "  plt.rc('ytick', labelsize=12)  \n",
        "  plt.legend()\n",
        "  plt.rc('legend', fontsize=15)  \n",
        "  plt.xlabel('Number of Eopch')\n",
        "  plt.ylabel('Cross Entropy Loss')\n",
        "  plt.rc('axes', labelsize=17)  \n"
      ],
      "metadata": {
        "id": "dzQ0Fcek5lRt"
      },
      "execution_count": null,
      "outputs": []
    },
    {
      "cell_type": "markdown",
      "source": [
        "#### Overfitting graph"
      ],
      "metadata": {
        "id": "IFOGXZ5qhE3V"
      }
    },
    {
      "cell_type": "code",
      "source": [
        "plot_result(train_losses, valid_losses, test_losses)"
      ],
      "metadata": {
        "colab": {
          "base_uri": "https://localhost:8080/",
          "height": 497
        },
        "id": "Tkh-ihpJge0M",
        "outputId": "06058afe-86b2-4bf3-ce21-78b94d19ceef"
      },
      "execution_count": null,
      "outputs": [
        {
          "output_type": "display_data",
          "data": {
            "text/plain": [
              "<Figure size 1440x576 with 1 Axes>"
            ],
            "image/png": "[encoded data removed]"
          },
          "metadata": {
            "needs_background": "light"
          }
        }
      ]
    },
    {
      "cell_type": "markdown",
      "source": [
        "#### Underfitting graph"
      ],
      "metadata": {
        "id": "M_GD04ZWkT0j"
      }
    },
    {
      "cell_type": "code",
      "source": [
        "plot_result(train_losses_2, valid_losses_2, test_losses_2)"
      ],
      "metadata": {
        "colab": {
          "base_uri": "https://localhost:8080/",
          "height": 508
        },
        "id": "D4HLho6KkJDG",
        "outputId": "9be2f970-a7c7-484f-c972-ca3ffb73b6df"
      },
      "execution_count": null,
      "outputs": [
        {
          "output_type": "display_data",
          "data": {
            "text/plain": [
              "<Figure size 1440x576 with 1 Axes>"
            ],
            "image/png": "[encoded data removed]"
          },
          "metadata": {
            "needs_background": "light"
          }
        }
      ]
    },
    {
      "cell_type": "markdown",
      "source": [
        "# Model Save & Load (참고용)\n",
        "---"
      ],
      "metadata": {
        "id": "da9VvapHfnqd"
      }
    },
    {
      "cell_type": "code",
      "source": [
        "''' \n",
        "  Modle Save & Load\n",
        "'''\n",
        "def save_model_info(model,model_name=\"ver_1\", train_losses=train_losses, valid_losses=valid_losses, test_losses=test_losses):\n",
        "\n",
        "    if not os.path.isdir(\"./models\"):\n",
        "        os.makedirs(\"./models\")\n",
        "    # 모델 정보 저장\n",
        "    torch.save({'model_state_dict': model.state_dict(),\n",
        "                'record_list' : [train_losses, valid_losses, test_losses]\n",
        "                }, f\"./models/model_{model_name}.pth\") \n",
        "\n",
        "    print(f\"model_saved : model_{model_name}\")\n",
        "\n",
        "\n",
        "def load_model_info(model_name=\"ver_1\"):\n",
        "\n",
        "    file_path = f\"./models/model_{model_name}.pth\"\n",
        "\n",
        "\n",
        "    if not os.path.exists(file_path):\n",
        "        print(\"FATAL ERROR : model path not exist\")\n",
        "    model_info = torch.load(file_path)\n",
        "    print(f\"model_loaded : model_{model_name}\")\n",
        "\n",
        "    model = MLP_underfit()\n",
        "    model.load_state_dict(model_info['model_state_dict'])\n",
        "    model.to(device)\n",
        "    model.eval()\n",
        "\n",
        "    return model"
      ],
      "metadata": {
        "id": "ZNRX1MEI7U2u"
      },
      "execution_count": null,
      "outputs": []
    },
    {
      "cell_type": "code",
      "source": [
        "save_model_info(model, \"underfit\", train_losses, valid_losses, test_losses)"
      ],
      "metadata": {
        "colab": {
          "base_uri": "https://localhost:8080/"
        },
        "id": "gwiuK0pN7hZw",
        "outputId": "1f02f9c7-ff87-4dc3-e1e1-1318dfb4b7b8"
      },
      "execution_count": null,
      "outputs": [
        {
          "output_type": "stream",
          "name": "stdout",
          "text": [
            "model_saved : model_underfit\n"
          ]
        }
      ]
    },
    {
      "cell_type": "code",
      "source": [
        "model = load_model_info(\"underfit\")"
      ],
      "metadata": {
        "colab": {
          "base_uri": "https://localhost:8080/"
        },
        "id": "j7ZeExgqh5ud",
        "outputId": "1218dae2-5abe-47b3-c776-67fa401c9b2c"
      },
      "execution_count": null,
      "outputs": [
        {
          "output_type": "stream",
          "name": "stdout",
          "text": [
            "model_loaded : model_underfit\n"
          ]
        }
      ]
    },
    {
      "cell_type": "markdown",
      "source": [
        "# Generalized MLP"
      ],
      "metadata": {
        "id": "OpyjRjw4HYPH"
      }
    },
    {
      "cell_type": "code",
      "source": [
        "class MLP(nn.Module):\n",
        "    def __init__(self):\n",
        "        super(MLP, self).__init__()\n",
        "        self.fc1 = nn.Linear(784, 512)\n",
        "        self.dropout1 = nn.Dropout(0.5)\n",
        "        self.fc3 = nn.Linear(512, 256)\n",
        "        self.dropout2 = nn.Dropout(0.5)\n",
        "        self.fc6 = nn.Linear(256, 10)\n",
        "\n",
        "    def forward(self, x):\n",
        "        x = F.relu(self.fc1(x)) \n",
        "        x = self.dropout1(x)\n",
        "        x = F.relu(self.fc3(x))\n",
        "        x = self.dropout2(x) \n",
        "        x = self.fc6(x)\n",
        "\n",
        "        return x"
      ],
      "metadata": {
        "id": "SgNU8dfhTxzM"
      },
      "execution_count": null,
      "outputs": []
    },
    {
      "cell_type": "code",
      "source": [
        "# Moodel Setting \n",
        "model = MLP()\n",
        "model.to(device)\n",
        "\n",
        "# Optimizer\n",
        "# Optimzer와 Learning rate를 설정해줍니다.\n",
        "optimizer = torch.optim.Adam(model.parameters(), lr=0.001)\n",
        "\n",
        "# Loss Function\n",
        "criterion = nn.CrossEntropyLoss()\n",
        "\n",
        "# Learning rate scheduler\n",
        "# epoch가 10번 돌때마다 learning rate를 gamma만큼 곱해 사용합니다. ex) 0.01 -> 0.005\n",
        "scheduler = torch.optim.lr_scheduler.StepLR(optimizer, step_size=10, gamma=0.5)"
      ],
      "metadata": {
        "id": "bN0Ft_Z1UjWq"
      },
      "execution_count": null,
      "outputs": []
    },
    {
      "cell_type": "code",
      "source": [
        "train_losses, valid_losses, test_losses = train(model, criterion_ = criterion, optimizer_ = optimizer, scheduler_ = scheduler, num_epochs=40)"
      ],
      "metadata": {
        "colab": {
          "base_uri": "https://localhost:8080/"
        },
        "id": "aTMU-f2YlTjQ",
        "outputId": "f2476fa1-5624-411e-c5c8-857262d5bff8"
      },
      "execution_count": null,
      "outputs": [
        {
          "output_type": "stream",
          "name": "stdout",
          "text": [
            "----------------------------------------------------------------------------\n",
            "Epoch 1  /  40\n",
            "\t [Train loss : 0.34446]  [Validation loss : 0.14991] [Test loss : 0.14119], [Test Accuracy : 95.51%],[curr LR = [0.001]],[elapsed_time = 17sec] \n",
            "Epoch 2  /  40\n",
            "\t [Train loss : 0.17899]  [Validation loss : 0.11705] [Test loss : 0.11168], [Test Accuracy : 96.69%],[curr LR = [0.001]],[elapsed_time = 34sec] \n",
            "Epoch 3  /  40\n",
            "\t [Train loss : 0.14482]  [Validation loss : 0.10989] [Test loss : 0.10185], [Test Accuracy : 97.14%],[curr LR = [0.001]],[elapsed_time = 47sec] \n",
            "Epoch 4  /  40\n",
            "\t [Train loss : 0.1276]  [Validation loss : 0.10181] [Test loss : 0.09268], [Test Accuracy : 97.34%],[curr LR = [0.001]],[elapsed_time = 64sec] \n",
            "Epoch 5  /  40\n",
            "\t [Train loss : 0.12077]  [Validation loss : 0.09153] [Test loss : 0.09167], [Test Accuracy : 97.54%],[curr LR = [0.001]],[elapsed_time = 81sec] \n",
            "Epoch 6  /  40\n",
            "\t [Train loss : 0.1108]  [Validation loss : 0.08902] [Test loss : 0.08905], [Test Accuracy : 97.4%],[curr LR = [0.001]],[elapsed_time = 98sec] \n",
            "Epoch 7  /  40\n",
            "\t [Train loss : 0.10287]  [Validation loss : 0.09255] [Test loss : 0.08916], [Test Accuracy : 97.58%],[curr LR = [0.001]],[elapsed_time = 115sec] \n",
            "Epoch 8  /  40\n",
            "\t [Train loss : 0.09773]  [Validation loss : 0.08178] [Test loss : 0.08177], [Test Accuracy : 97.76%],[curr LR = [0.001]],[elapsed_time = 136sec] \n",
            "Epoch 9  /  40\n",
            "\t [Train loss : 0.09518]  [Validation loss : 0.08933] [Test loss : 0.09209], [Test Accuracy : 97.46%],[curr LR = [0.001]],[elapsed_time = 152sec] \n",
            "Epoch 10  /  40\n",
            "\t [Train loss : 0.0856]  [Validation loss : 0.08606] [Test loss : 0.08412], [Test Accuracy : 97.86%],[curr LR = [0.001]],[elapsed_time = 170sec] \n",
            "Epoch 11  /  40\n",
            "\t [Train loss : 0.06412]  [Validation loss : 0.0721] [Test loss : 0.06893], [Test Accuracy : 98.18%],[curr LR = [0.0005]],[elapsed_time = 186sec] \n",
            "Epoch 12  /  40\n",
            "\t [Train loss : 0.05672]  [Validation loss : 0.07173] [Test loss : 0.07059], [Test Accuracy : 98.14%],[curr LR = [0.0005]],[elapsed_time = 203sec] \n",
            "Epoch 13  /  40\n",
            "\t [Train loss : 0.05388]  [Validation loss : 0.0665] [Test loss : 0.06378], [Test Accuracy : 98.35%],[curr LR = [0.0005]],[elapsed_time = 224sec] \n",
            "Epoch 14  /  40\n",
            "\t [Train loss : 0.05039]  [Validation loss : 0.07175] [Test loss : 0.0669], [Test Accuracy : 98.32%],[curr LR = [0.0005]],[elapsed_time = 241sec] \n",
            "Epoch 15  /  40\n",
            "\t [Train loss : 0.04744]  [Validation loss : 0.07571] [Test loss : 0.06841], [Test Accuracy : 98.29%],[curr LR = [0.0005]],[elapsed_time = 257sec] \n",
            "Epoch 16  /  40\n",
            "\t [Train loss : 0.04715]  [Validation loss : 0.07934] [Test loss : 0.07532], [Test Accuracy : 98.21%],[curr LR = [0.0005]],[elapsed_time = 278sec] \n",
            "Epoch 17  /  40\n",
            "\t [Train loss : 0.04545]  [Validation loss : 0.074] [Test loss : 0.07171], [Test Accuracy : 98.28%],[curr LR = [0.0005]],[elapsed_time = 295sec] \n",
            "Epoch 18  /  40\n",
            "\t [Train loss : 0.0423]  [Validation loss : 0.07838] [Test loss : 0.07565], [Test Accuracy : 98.3%],[curr LR = [0.0005]],[elapsed_time = 312sec] \n",
            "Epoch 19  /  40\n",
            "\t [Train loss : 0.03974]  [Validation loss : 0.07929] [Test loss : 0.07503], [Test Accuracy : 98.23%],[curr LR = [0.0005]],[elapsed_time = 331sec] \n",
            "Epoch 20  /  40\n",
            "\t [Train loss : 0.04114]  [Validation loss : 0.07474] [Test loss : 0.07364], [Test Accuracy : 98.25%],[curr LR = [0.0005]],[elapsed_time = 348sec] \n",
            "Epoch 21  /  40\n",
            "\t [Train loss : 0.03397]  [Validation loss : 0.07834] [Test loss : 0.07219], [Test Accuracy : 98.29%],[curr LR = [0.00025]],[elapsed_time = 369sec] \n",
            "Epoch 22  /  40\n",
            "\t [Train loss : 0.02696]  [Validation loss : 0.07878] [Test loss : 0.07858], [Test Accuracy : 98.31%],[curr LR = [0.00025]],[elapsed_time = 386sec] \n",
            "Epoch 23  /  40\n",
            "\t [Train loss : 0.02718]  [Validation loss : 0.07668] [Test loss : 0.07258], [Test Accuracy : 98.42%],[curr LR = [0.00025]],[elapsed_time = 403sec] \n",
            "Epoch 24  /  40\n",
            "\t [Train loss : 0.02724]  [Validation loss : 0.07887] [Test loss : 0.07405], [Test Accuracy : 98.36%],[curr LR = [0.00025]],[elapsed_time = 420sec] \n",
            "Epoch 25  /  40\n",
            "\t [Train loss : 0.02442]  [Validation loss : 0.08374] [Test loss : 0.08243], [Test Accuracy : 98.27%],[curr LR = [0.00025]],[elapsed_time = 436sec] \n",
            "Epoch 26  /  40\n",
            "\t [Train loss : 0.02354]  [Validation loss : 0.08207] [Test loss : 0.08076], [Test Accuracy : 98.34%],[curr LR = [0.00025]],[elapsed_time = 457sec] \n",
            "Epoch 27  /  40\n",
            "\t [Train loss : 0.02363]  [Validation loss : 0.08411] [Test loss : 0.08226], [Test Accuracy : 98.35%],[curr LR = [0.00025]],[elapsed_time = 474sec] \n",
            "Epoch 28  /  40\n",
            "\t [Train loss : 0.02283]  [Validation loss : 0.08488] [Test loss : 0.07954], [Test Accuracy : 98.49%],[curr LR = [0.00025]],[elapsed_time = 491sec] \n",
            "Epoch 29  /  40\n",
            "\t [Train loss : 0.02354]  [Validation loss : 0.08308] [Test loss : 0.08118], [Test Accuracy : 98.3%],[curr LR = [0.00025]],[elapsed_time = 508sec] \n",
            "Epoch 30  /  40\n",
            "\t [Train loss : 0.02169]  [Validation loss : 0.08425] [Test loss : 0.08113], [Test Accuracy : 98.39%],[curr LR = [0.00025]],[elapsed_time = 525sec] \n",
            "Epoch 31  /  40\n",
            "\t [Train loss : 0.01726]  [Validation loss : 0.08432] [Test loss : 0.07976], [Test Accuracy : 98.48%],[curr LR = [0.000125]],[elapsed_time = 546sec] \n",
            "Epoch 32  /  40\n",
            "\t [Train loss : 0.01787]  [Validation loss : 0.08624] [Test loss : 0.08384], [Test Accuracy : 98.39%],[curr LR = [0.000125]],[elapsed_time = 563sec] \n",
            "Epoch 33  /  40\n",
            "\t [Train loss : 0.01832]  [Validation loss : 0.08672] [Test loss : 0.08478], [Test Accuracy : 98.4%],[curr LR = [0.000125]],[elapsed_time = 580sec] \n",
            "Epoch 34  /  40\n",
            "\t [Train loss : 0.01737]  [Validation loss : 0.08643] [Test loss : 0.08358], [Test Accuracy : 98.49%],[curr LR = [0.000125]],[elapsed_time = 597sec] \n",
            "Epoch 35  /  40\n",
            "\t [Train loss : 0.01357]  [Validation loss : 0.09019] [Test loss : 0.08806], [Test Accuracy : 98.51%],[curr LR = [0.000125]],[elapsed_time = 614sec] \n",
            "Epoch 36  /  40\n",
            "\t [Train loss : 0.01507]  [Validation loss : 0.09021] [Test loss : 0.09137], [Test Accuracy : 98.45%],[curr LR = [0.000125]],[elapsed_time = 635sec] \n",
            "Epoch 37  /  40\n",
            "\t [Train loss : 0.0153]  [Validation loss : 0.08686] [Test loss : 0.08829], [Test Accuracy : 98.38%],[curr LR = [0.000125]],[elapsed_time = 652sec] \n",
            "Epoch 38  /  40\n",
            "\t [Train loss : 0.01676]  [Validation loss : 0.08829] [Test loss : 0.08721], [Test Accuracy : 98.43%],[curr LR = [0.000125]],[elapsed_time = 669sec] \n",
            "Epoch 39  /  40\n",
            "\t [Train loss : 0.01393]  [Validation loss : 0.08774] [Test loss : 0.0866], [Test Accuracy : 98.41%],[curr LR = [0.000125]],[elapsed_time = 686sec] \n",
            "Epoch 40  /  40\n",
            "\t [Train loss : 0.01535]  [Validation loss : 0.09136] [Test loss : 0.09175], [Test Accuracy : 98.3%],[curr LR = [0.000125]],[elapsed_time = 702sec] \n",
            "\n",
            "Train Ended, total_elapsed_time = 702 \n",
            "--------------------------------------------------------------------\n"
          ]
        }
      ]
    },
    {
      "cell_type": "code",
      "source": [
        "plot_result(train_losses, valid_losses, test_losses )"
      ],
      "metadata": {
        "colab": {
          "base_uri": "https://localhost:8080/",
          "height": 508
        },
        "id": "vFouvm_b5l7E",
        "outputId": "fcd87711-2274-4f46-adfc-952d1c1958b7"
      },
      "execution_count": null,
      "outputs": [
        {
          "output_type": "display_data",
          "data": {
            "text/plain": [
              "<Figure size 1440x576 with 1 Axes>"
            ],
            "image/png": "[encoded data removed]"
          },
          "metadata": {
            "needs_background": "light"
          }
        }
      ]
    },
    {
      "cell_type": "code",
      "source": [],
      "metadata": {
        "id": "kkOH4MPXVInW"
      },
      "execution_count": null,
      "outputs": []
    }
  ]
}