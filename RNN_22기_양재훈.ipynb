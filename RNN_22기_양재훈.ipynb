{
  "cells": [
    {
      "cell_type": "markdown",
      "metadata": {
        "id": "view-in-github",
        "colab_type": "text"
      },
      "source": [
        "<a href=\"https://colab.research.google.com/github/Blueblack319/yb-assignments/blob/main/RNN_22%E1%84%80%E1%85%B5_%EC%96%91%EC%9E%AC%ED%9B%88_ipynb%EC%9D%98_%EC%82%AC%EB%B3%B8.ipynb\" target=\"_parent\"><img src=\"https://colab.research.google.com/assets/colab-badge.svg\" alt=\"Open In Colab\"/></a>"
      ]
    },
    {
      "cell_type": "markdown",
      "id": "2c03830c",
      "metadata": {
        "id": "2c03830c"
      },
      "source": [
        "# LSTM으로 음악 생성해보기\n",
        "\n",
        "### YBIGTA 22기 양재훈\n",
        "\n",
        "\n",
        "## 1. Introduction\n",
        "\n",
        "LSTM은 string의 series가 들어왔을 때 다음에 나올 string을 예측하는 역할을 할 수 있습니다.\n",
        "\n",
        "MIDI라는 파일 규격을 통해 컴퓨터에서 음악을 작곡하고 재생할 수 있습니다. MIDI 파일은 명령어를 통해 '피아노로 도를 치고 드럼으로 몇 박자를 치는' 등의 악보를 기술할 수 있습니다. 이는 string 형태이므로 LSTM을 적용하기에 좋은 예제가 됩니다.\n",
        "\n",
        "파이썬의 music21 라이브러리를 활용하면 MIDI 데이터를 전처리하고 시각화할 수 있습니다.\n",
        "\n",
        "[참고] <b>1/1 수요일 22:00부터 구글 미트</b> 열어놓을테니 과제 관련 질문 있으신 분들은 들어오셔도 됩니다.\n",
        "\n",
        "Original code: https://www.kaggle.com/code/karnikakapoor/music-generation-lstm/data"
      ]
    },
    {
      "cell_type": "markdown",
      "id": "8ce3d291",
      "metadata": {
        "id": "8ce3d291"
      },
      "source": [
        "## 2. GPU 사용 설정\n",
        "런타임 -> 런타임 유형 변경 -> 하드웨어 가속기 GPU로 반드시 설정해주세요!"
      ]
    },
    {
      "cell_type": "code",
      "execution_count": 1,
      "id": "beca4804",
      "metadata": {
        "colab": {
          "base_uri": "https://localhost:8080/"
        },
        "id": "beca4804",
        "outputId": "09c8738b-7c39-4c33-9d62-22057b830173"
      },
      "outputs": [
        {
          "output_type": "stream",
          "name": "stdout",
          "text": [
            "GPU 0: Tesla T4 (UUID: GPU-3e04d689-b8d7-3f7c-f23b-9e36043fc1a9)\n",
            "Sat Jan 28 06:29:30 2023       \n",
            "+-----------------------------------------------------------------------------+\n",
            "| NVIDIA-SMI 510.47.03    Driver Version: 510.47.03    CUDA Version: 11.6     |\n",
            "|-------------------------------+----------------------+----------------------+\n",
            "| GPU  Name        Persistence-M| Bus-Id        Disp.A | Volatile Uncorr. ECC |\n",
            "| Fan  Temp  Perf  Pwr:Usage/Cap|         Memory-Usage | GPU-Util  Compute M. |\n",
            "|                               |                      |               MIG M. |\n",
            "|===============================+======================+======================|\n",
            "|   0  Tesla T4            Off  | 00000000:00:04.0 Off |                    0 |\n",
            "| N/A   40C    P0    27W /  70W |      0MiB / 15360MiB |      0%      Default |\n",
            "|                               |                      |                  N/A |\n",
            "+-------------------------------+----------------------+----------------------+\n",
            "                                                                               \n",
            "+-----------------------------------------------------------------------------+\n",
            "| Processes:                                                                  |\n",
            "|  GPU   GI   CI        PID   Type   Process name                  GPU Memory |\n",
            "|        ID   ID                                                   Usage      |\n",
            "|=============================================================================|\n",
            "|  No running processes found                                                 |\n",
            "+-----------------------------------------------------------------------------+\n"
          ]
        }
      ],
      "source": [
        "## GPU 확인: GPU 이름과 GPU 메모리 점유율 확인하기\n",
        "!nvidia-smi -L\n",
        "!nvidia-smi"
      ]
    },
    {
      "cell_type": "markdown",
      "id": "0447342e",
      "metadata": {
        "id": "0447342e"
      },
      "source": [
        "## 3. 현재 런타임에 데이터 업로드, 압축 풀기\n",
        "구글 드라이브에 마운트하는 대신 현재 런타임에 데이터를 업로드해서 사용하시면 됩니다. 파일은 교육세션 드라이브에 업로드 되어있으니 로컬로 다운받으신 후 업로드하시면 됩니다.\n",
        "1. 파일 -> 세션 저장소의 업로드 버튼 클릭 (구글 드라이브 마운트 버튼 기준 왼쪽에 있습니다.)\n",
        "2. chopin.zip 파일 업로드\n",
        "3. 아래의 리눅스 명령어로 압축 해제"
      ]
    },
    {
      "cell_type": "code",
      "execution_count": 2,
      "id": "92329044",
      "metadata": {
        "id": "92329044"
      },
      "outputs": [],
      "source": [
        "!unzip -qq 'chopin.zip'"
      ]
    },
    {
      "cell_type": "markdown",
      "id": "bc1f85c2",
      "metadata": {
        "id": "bc1f85c2"
      },
      "source": [
        "## 4. Dependency 설치\n",
        "1. 설치된 패키지들 업데이트\n",
        "2. lilypond (음악 악보편집) 패키지 설치\n",
        "3. music21 (MIDI 라이브러리) 설치\n",
        "\n",
        "* '!'를 앞에 붙이면 리눅스 명령어를 실행하게 됩니다."
      ]
    },
    {
      "cell_type": "code",
      "execution_count": 3,
      "id": "e1e654f0",
      "metadata": {
        "id": "e1e654f0",
        "colab": {
          "base_uri": "https://localhost:8080/"
        },
        "outputId": "979e68b4-514f-4e47-b413-8cbe82e89c94"
      },
      "outputs": [
        {
          "output_type": "stream",
          "name": "stdout",
          "text": [
            "Get:1 https://cloud.r-project.org/bin/linux/ubuntu focal-cran40/ InRelease [3,622 B]\n",
            "Get:2 http://security.ubuntu.com/ubuntu focal-security InRelease [114 kB]\n",
            "Hit:3 http://ppa.launchpad.net/c2d4u.team/c2d4u4.0+/ubuntu focal InRelease\n",
            "Hit:4 http://archive.ubuntu.com/ubuntu focal InRelease\n",
            "Ign:5 https://developer.download.nvidia.com/compute/machine-learning/repos/ubuntu2004/x86_64  InRelease\n",
            "Get:6 http://archive.ubuntu.com/ubuntu focal-updates InRelease [114 kB]\n",
            "Hit:7 https://developer.download.nvidia.com/compute/cuda/repos/ubuntu2004/x86_64  InRelease\n",
            "Hit:8 https://developer.download.nvidia.com/compute/machine-learning/repos/ubuntu2004/x86_64  Release\n",
            "Hit:9 http://ppa.launchpad.net/cran/libgit2/ubuntu focal InRelease\n",
            "Hit:10 http://ppa.launchpad.net/deadsnakes/ppa/ubuntu focal InRelease\n",
            "Get:11 http://archive.ubuntu.com/ubuntu focal-backports InRelease [108 kB]\n",
            "Hit:12 http://ppa.launchpad.net/graphics-drivers/ppa/ubuntu focal InRelease\n",
            "Get:14 http://archive.ubuntu.com/ubuntu focal-updates/universe amd64 Packages [1,290 kB]\n",
            "Get:15 http://security.ubuntu.com/ubuntu focal-security/universe amd64 Packages [988 kB]\n",
            "Get:16 http://archive.ubuntu.com/ubuntu focal-updates/main amd64 Packages [2,920 kB]\n",
            "Get:17 http://archive.ubuntu.com/ubuntu focal-updates/restricted amd64 Packages [2,009 kB]\n",
            "Get:18 http://security.ubuntu.com/ubuntu focal-security/restricted amd64 Packages [1,882 kB]\n",
            "Get:19 http://security.ubuntu.com/ubuntu focal-security/main amd64 Packages [2,442 kB]\n",
            "Fetched 11.9 MB in 3s (3,448 kB/s)\n",
            "Reading package lists... Done\n",
            "Reading package lists... Done\n",
            "Building dependency tree       \n",
            "Reading state information... Done\n",
            "The following additional packages will be installed:\n",
            "  dvisvgm fonts-droid-fallback fonts-lmodern fonts-noto-mono fonts-urw-base35\n",
            "  ghostscript libauthen-sasl-perl libdata-dump-perl libencode-locale-perl\n",
            "  libfile-listing-perl libfont-afm-perl libgs9 libgs9-common libhtml-form-perl\n",
            "  libhtml-format-perl libhtml-parser-perl libhtml-tagset-perl\n",
            "  libhtml-tree-perl libhttp-cookies-perl libhttp-daemon-perl libhttp-date-perl\n",
            "  libhttp-message-perl libhttp-negotiate-perl libidn11 libijs-0.35\n",
            "  libio-html-perl libio-socket-ssl-perl libjbig2dec0 libkpathsea6\n",
            "  liblwp-mediatypes-perl liblwp-protocol-https-perl libmailtools-perl\n",
            "  libnet-http-perl libnet-smtp-ssl-perl libnet-ssleay-perl libptexenc1\n",
            "  libpython2-stdlib libsynctex2 libteckit0 libtexlua53 libtexluajit2\n",
            "  libtext-unidecode-perl libtry-tiny-perl liburi-perl libwww-perl\n",
            "  libwww-robotrules-perl libxml-libxml-perl libxml-namespacesupport-perl\n",
            "  libxml-parser-perl libxml-sax-base-perl libxml-sax-expat-perl\n",
            "  libxml-sax-perl libzzip-0-13 lilypond-data lmodern netbase\n",
            "  perl-openssl-defaults poppler-data python2 python2-minimal t1utils\n",
            "  tex-common texinfo texlive-base texlive-binaries texlive-latex-base\n",
            "  xfonts-encodings xfonts-utils\n",
            "Suggested packages:\n",
            "  fonts-noto fonts-freefont-otf | fonts-freefont-ttf fonts-texgyre\n",
            "  ghostscript-x libdigest-hmac-perl libgssapi-perl libcrypt-ssleay-perl\n",
            "  libauthen-ntlm-perl libxml-sax-expatxs-perl lilypond-doc poppler-utils\n",
            "  fonts-japanese-mincho | fonts-ipafont-mincho fonts-japanese-gothic\n",
            "  | fonts-ipafont-gothic fonts-arphic-ukai fonts-arphic-uming fonts-nanum\n",
            "  python2-doc python-tk debhelper texlive-plain-generic\n",
            "  texlive-fonts-recommended perl-tk xpdf | pdf-viewer xzdec\n",
            "  texlive-latex-base-doc\n",
            "The following NEW packages will be installed:\n",
            "  dvisvgm fonts-droid-fallback fonts-lmodern fonts-noto-mono fonts-urw-base35\n",
            "  ghostscript libauthen-sasl-perl libdata-dump-perl libencode-locale-perl\n",
            "  libfile-listing-perl libfont-afm-perl libgs9 libgs9-common libhtml-form-perl\n",
            "  libhtml-format-perl libhtml-parser-perl libhtml-tagset-perl\n",
            "  libhtml-tree-perl libhttp-cookies-perl libhttp-daemon-perl libhttp-date-perl\n",
            "  libhttp-message-perl libhttp-negotiate-perl libidn11 libijs-0.35\n",
            "  libio-html-perl libio-socket-ssl-perl libjbig2dec0 libkpathsea6\n",
            "  liblwp-mediatypes-perl liblwp-protocol-https-perl libmailtools-perl\n",
            "  libnet-http-perl libnet-smtp-ssl-perl libnet-ssleay-perl libptexenc1\n",
            "  libpython2-stdlib libsynctex2 libteckit0 libtexlua53 libtexluajit2\n",
            "  libtext-unidecode-perl libtry-tiny-perl liburi-perl libwww-perl\n",
            "  libwww-robotrules-perl libxml-libxml-perl libxml-namespacesupport-perl\n",
            "  libxml-parser-perl libxml-sax-base-perl libxml-sax-expat-perl\n",
            "  libxml-sax-perl libzzip-0-13 lilypond lilypond-data lmodern netbase\n",
            "  perl-openssl-defaults poppler-data python2 python2-minimal t1utils\n",
            "  tex-common texinfo texlive-base texlive-binaries texlive-latex-base\n",
            "  xfonts-encodings xfonts-utils\n",
            "0 upgraded, 69 newly installed, 0 to remove and 27 not upgraded.\n",
            "Need to get 67.8 MB of archives.\n",
            "After this operation, 267 MB of additional disk space will be used.\n",
            "Get:1 http://archive.ubuntu.com/ubuntu focal/main amd64 fonts-droid-fallback all 1:6.0.1r16-1.1 [1,805 kB]\n",
            "Get:2 http://archive.ubuntu.com/ubuntu focal/main amd64 poppler-data all 0.4.9-2 [1,475 kB]\n",
            "Get:3 http://archive.ubuntu.com/ubuntu focal/universe amd64 python2-minimal amd64 2.7.17-2ubuntu4 [27.5 kB]\n",
            "Get:4 http://archive.ubuntu.com/ubuntu focal/universe amd64 libpython2-stdlib amd64 2.7.17-2ubuntu4 [7,072 B]\n",
            "Get:5 http://archive.ubuntu.com/ubuntu focal/universe amd64 python2 amd64 2.7.17-2ubuntu4 [26.5 kB]\n",
            "Get:6 http://archive.ubuntu.com/ubuntu focal/universe amd64 tex-common all 6.13 [32.7 kB]\n",
            "Get:7 http://archive.ubuntu.com/ubuntu focal/main amd64 netbase all 6.1 [13.1 kB]\n",
            "Get:8 http://archive.ubuntu.com/ubuntu focal/main amd64 fonts-urw-base35 all 20170801.1-3 [6,333 kB]\n",
            "Get:9 http://archive.ubuntu.com/ubuntu focal-updates/main amd64 libgs9-common all 9.50~dfsg-5ubuntu4.6 [681 kB]\n",
            "Get:10 http://archive.ubuntu.com/ubuntu focal/main amd64 libidn11 amd64 1.33-2.2ubuntu2 [46.2 kB]\n",
            "Get:11 http://archive.ubuntu.com/ubuntu focal/main amd64 libijs-0.35 amd64 0.35-15 [15.7 kB]\n",
            "Get:12 http://archive.ubuntu.com/ubuntu focal/main amd64 libjbig2dec0 amd64 0.18-1ubuntu1 [60.0 kB]\n",
            "Get:13 http://archive.ubuntu.com/ubuntu focal-updates/main amd64 libgs9 amd64 9.50~dfsg-5ubuntu4.6 [2,173 kB]\n",
            "Get:14 http://archive.ubuntu.com/ubuntu focal/main amd64 libkpathsea6 amd64 2019.20190605.51237-3build2 [57.0 kB]\n",
            "Get:15 http://archive.ubuntu.com/ubuntu focal/universe amd64 dvisvgm amd64 2.8.1-1build1 [1,048 kB]\n",
            "Get:16 http://archive.ubuntu.com/ubuntu focal/universe amd64 fonts-lmodern all 2.004.5-6 [4,532 kB]\n",
            "Get:17 http://archive.ubuntu.com/ubuntu focal-updates/main amd64 fonts-noto-mono all 20200323-1build1~ubuntu20.04.1 [80.6 kB]\n",
            "Get:18 http://archive.ubuntu.com/ubuntu focal-updates/main amd64 ghostscript amd64 9.50~dfsg-5ubuntu4.6 [51.8 kB]\n",
            "Get:19 http://archive.ubuntu.com/ubuntu focal/main amd64 libdata-dump-perl all 1.23-1 [27.0 kB]\n",
            "Get:20 http://archive.ubuntu.com/ubuntu focal/main amd64 libencode-locale-perl all 1.05-1 [12.3 kB]\n",
            "Get:21 http://archive.ubuntu.com/ubuntu focal/main amd64 libhttp-date-perl all 6.05-1 [9,920 B]\n",
            "Get:22 http://archive.ubuntu.com/ubuntu focal/main amd64 libfile-listing-perl all 6.04-1 [9,774 B]\n",
            "Get:23 http://archive.ubuntu.com/ubuntu focal/main amd64 libfont-afm-perl all 1.20-2 [13.2 kB]\n",
            "Get:24 http://archive.ubuntu.com/ubuntu focal/main amd64 libhtml-tagset-perl all 3.20-4 [12.5 kB]\n",
            "Get:25 http://archive.ubuntu.com/ubuntu focal/main amd64 liburi-perl all 1.76-2 [77.5 kB]\n",
            "Get:26 http://archive.ubuntu.com/ubuntu focal/main amd64 libhtml-parser-perl amd64 3.72-5 [86.3 kB]\n",
            "Get:27 http://archive.ubuntu.com/ubuntu focal/main amd64 libio-html-perl all 1.001-1 [14.9 kB]\n",
            "Get:28 http://archive.ubuntu.com/ubuntu focal/main amd64 liblwp-mediatypes-perl all 6.04-1 [19.5 kB]\n",
            "Get:29 http://archive.ubuntu.com/ubuntu focal/main amd64 libhttp-message-perl all 6.22-1 [76.1 kB]\n",
            "Get:30 http://archive.ubuntu.com/ubuntu focal/main amd64 libhtml-form-perl all 6.07-1 [22.2 kB]\n",
            "Get:31 http://archive.ubuntu.com/ubuntu focal/main amd64 libhtml-tree-perl all 5.07-2 [200 kB]\n",
            "Get:32 http://archive.ubuntu.com/ubuntu focal/main amd64 libhtml-format-perl all 2.12-1 [41.3 kB]\n",
            "Get:33 http://archive.ubuntu.com/ubuntu focal/main amd64 libhttp-cookies-perl all 6.08-1 [18.3 kB]\n",
            "Get:34 http://archive.ubuntu.com/ubuntu focal-updates/main amd64 libhttp-daemon-perl all 6.06-1ubuntu0.1 [22.0 kB]\n",
            "Get:35 http://archive.ubuntu.com/ubuntu focal/main amd64 libhttp-negotiate-perl all 6.01-1 [12.5 kB]\n",
            "Get:36 http://archive.ubuntu.com/ubuntu focal/main amd64 perl-openssl-defaults amd64 4 [7,192 B]\n",
            "Get:37 http://archive.ubuntu.com/ubuntu focal/main amd64 libnet-ssleay-perl amd64 1.88-2ubuntu1 [291 kB]\n",
            "Get:38 http://archive.ubuntu.com/ubuntu focal/main amd64 libio-socket-ssl-perl all 2.067-1 [176 kB]\n",
            "Get:39 http://archive.ubuntu.com/ubuntu focal/main amd64 libnet-http-perl all 6.19-1 [22.8 kB]\n",
            "Get:40 http://archive.ubuntu.com/ubuntu focal/main amd64 libtry-tiny-perl all 0.30-1 [20.5 kB]\n",
            "Get:41 http://archive.ubuntu.com/ubuntu focal/main amd64 libwww-robotrules-perl all 6.02-1 [12.6 kB]\n",
            "Get:42 http://archive.ubuntu.com/ubuntu focal/main amd64 libwww-perl all 6.43-1 [140 kB]\n",
            "Get:43 http://archive.ubuntu.com/ubuntu focal/main amd64 liblwp-protocol-https-perl all 6.07-2ubuntu2 [8,560 B]\n",
            "Get:44 http://archive.ubuntu.com/ubuntu focal/main amd64 libnet-smtp-ssl-perl all 1.04-1 [5,948 B]\n",
            "Get:45 http://archive.ubuntu.com/ubuntu focal/main amd64 libmailtools-perl all 2.21-1 [80.7 kB]\n",
            "Get:46 http://archive.ubuntu.com/ubuntu focal/main amd64 libptexenc1 amd64 2019.20190605.51237-3build2 [35.5 kB]\n",
            "Get:47 http://archive.ubuntu.com/ubuntu focal/main amd64 libsynctex2 amd64 2019.20190605.51237-3build2 [55.0 kB]\n",
            "Get:48 http://archive.ubuntu.com/ubuntu focal/universe amd64 libteckit0 amd64 2.5.8+ds2-5ubuntu2 [320 kB]\n",
            "Get:49 http://archive.ubuntu.com/ubuntu focal/main amd64 libtexlua53 amd64 2019.20190605.51237-3build2 [105 kB]\n",
            "Get:50 http://archive.ubuntu.com/ubuntu focal/main amd64 libtexluajit2 amd64 2019.20190605.51237-3build2 [235 kB]\n",
            "Get:51 http://archive.ubuntu.com/ubuntu focal/universe amd64 libtext-unidecode-perl all 1.30-1 [99.0 kB]\n",
            "Get:52 http://archive.ubuntu.com/ubuntu focal/main amd64 libxml-namespacesupport-perl all 1.12-1 [13.2 kB]\n",
            "Get:53 http://archive.ubuntu.com/ubuntu focal/main amd64 libxml-sax-base-perl all 1.09-1 [18.8 kB]\n",
            "Get:54 http://archive.ubuntu.com/ubuntu focal/main amd64 libxml-sax-perl all 1.02+dfsg-1 [56.2 kB]\n",
            "Get:55 http://archive.ubuntu.com/ubuntu focal/main amd64 libxml-libxml-perl amd64 2.0134+dfsg-1build1 [320 kB]\n",
            "Get:56 http://archive.ubuntu.com/ubuntu focal/main amd64 libxml-parser-perl amd64 2.46-1 [193 kB]\n",
            "Get:57 http://archive.ubuntu.com/ubuntu focal/main amd64 libxml-sax-expat-perl all 0.51-1 [10.5 kB]\n",
            "Get:58 http://archive.ubuntu.com/ubuntu focal/universe amd64 libzzip-0-13 amd64 0.13.62-3.2ubuntu1 [26.2 kB]\n",
            "Get:59 http://archive.ubuntu.com/ubuntu focal/universe amd64 texinfo amd64 6.7.0.dfsg.2-5 [1,375 kB]\n",
            "Get:60 http://archive.ubuntu.com/ubuntu focal/main amd64 t1utils amd64 1.41-3 [56.1 kB]\n",
            "Get:61 http://archive.ubuntu.com/ubuntu focal/universe amd64 texlive-binaries amd64 2019.20190605.51237-3build2 [8,041 kB]\n",
            "Get:62 http://archive.ubuntu.com/ubuntu focal/universe amd64 lilypond-data all 2.20.0-1 [2,786 kB]\n",
            "Get:63 http://archive.ubuntu.com/ubuntu focal/universe amd64 lilypond amd64 2.20.0-1 [2,117 kB]\n",
            "Get:64 http://archive.ubuntu.com/ubuntu focal/main amd64 xfonts-encodings all 1:1.0.5-0ubuntu1 [573 kB]\n",
            "Get:65 http://archive.ubuntu.com/ubuntu focal/main amd64 xfonts-utils amd64 1:7.7+6 [91.5 kB]\n",
            "Get:66 http://archive.ubuntu.com/ubuntu focal/universe amd64 lmodern all 2.004.5-6 [9,474 kB]\n",
            "Get:67 http://archive.ubuntu.com/ubuntu focal/universe amd64 texlive-base all 2019.20200218-1 [20.8 MB]\n",
            "Get:68 http://archive.ubuntu.com/ubuntu focal/universe amd64 texlive-latex-base all 2019.20200218-1 [990 kB]\n",
            "Get:69 http://archive.ubuntu.com/ubuntu focal/main amd64 libauthen-sasl-perl all 2.1600-1 [48.7 kB]\n",
            "Fetched 67.8 MB in 3s (22.5 MB/s)\n",
            "debconf: unable to initialize frontend: Dialog\n",
            "debconf: (No usable dialog-like program is installed, so the dialog based frontend cannot be used. at /usr/share/perl5/Debconf/FrontEnd/Dialog.pm line 76, <> line 69.)\n",
            "debconf: falling back to frontend: Readline\n",
            "debconf: unable to initialize frontend: Readline\n",
            "debconf: (This frontend requires a controlling tty.)\n",
            "debconf: falling back to frontend: Teletype\n",
            "dpkg-preconfigure: unable to re-open stdin: \n",
            "Selecting previously unselected package fonts-droid-fallback.\n",
            "(Reading database ... 129499 files and directories currently installed.)\n",
            "Preparing to unpack .../fonts-droid-fallback_1%3a6.0.1r16-1.1_all.deb ...\n",
            "Unpacking fonts-droid-fallback (1:6.0.1r16-1.1) ...\n",
            "Selecting previously unselected package poppler-data.\n",
            "Preparing to unpack .../poppler-data_0.4.9-2_all.deb ...\n",
            "Unpacking poppler-data (0.4.9-2) ...\n",
            "Selecting previously unselected package python2-minimal.\n",
            "Preparing to unpack .../python2-minimal_2.7.17-2ubuntu4_amd64.deb ...\n",
            "Unpacking python2-minimal (2.7.17-2ubuntu4) ...\n",
            "Selecting previously unselected package libpython2-stdlib:amd64.\n",
            "Preparing to unpack .../libpython2-stdlib_2.7.17-2ubuntu4_amd64.deb ...\n",
            "Unpacking libpython2-stdlib:amd64 (2.7.17-2ubuntu4) ...\n",
            "Setting up python2-minimal (2.7.17-2ubuntu4) ...\n",
            "Selecting previously unselected package python2.\n",
            "(Reading database ... 130057 files and directories currently installed.)\n",
            "Preparing to unpack .../00-python2_2.7.17-2ubuntu4_amd64.deb ...\n",
            "Unpacking python2 (2.7.17-2ubuntu4) ...\n",
            "Selecting previously unselected package tex-common.\n",
            "Preparing to unpack .../01-tex-common_6.13_all.deb ...\n",
            "Unpacking tex-common (6.13) ...\n",
            "Selecting previously unselected package netbase.\n",
            "Preparing to unpack .../02-netbase_6.1_all.deb ...\n",
            "Unpacking netbase (6.1) ...\n",
            "Selecting previously unselected package fonts-urw-base35.\n",
            "Preparing to unpack .../03-fonts-urw-base35_20170801.1-3_all.deb ...\n",
            "Unpacking fonts-urw-base35 (20170801.1-3) ...\n",
            "Selecting previously unselected package libgs9-common.\n",
            "Preparing to unpack .../04-libgs9-common_9.50~dfsg-5ubuntu4.6_all.deb ...\n",
            "Unpacking libgs9-common (9.50~dfsg-5ubuntu4.6) ...\n",
            "Selecting previously unselected package libidn11:amd64.\n",
            "Preparing to unpack .../05-libidn11_1.33-2.2ubuntu2_amd64.deb ...\n",
            "Unpacking libidn11:amd64 (1.33-2.2ubuntu2) ...\n",
            "Selecting previously unselected package libijs-0.35:amd64.\n",
            "Preparing to unpack .../06-libijs-0.35_0.35-15_amd64.deb ...\n",
            "Unpacking libijs-0.35:amd64 (0.35-15) ...\n",
            "Selecting previously unselected package libjbig2dec0:amd64.\n",
            "Preparing to unpack .../07-libjbig2dec0_0.18-1ubuntu1_amd64.deb ...\n",
            "Unpacking libjbig2dec0:amd64 (0.18-1ubuntu1) ...\n",
            "Selecting previously unselected package libgs9:amd64.\n",
            "Preparing to unpack .../08-libgs9_9.50~dfsg-5ubuntu4.6_amd64.deb ...\n",
            "Unpacking libgs9:amd64 (9.50~dfsg-5ubuntu4.6) ...\n",
            "Selecting previously unselected package libkpathsea6:amd64.\n",
            "Preparing to unpack .../09-libkpathsea6_2019.20190605.51237-3build2_amd64.deb ...\n",
            "Unpacking libkpathsea6:amd64 (2019.20190605.51237-3build2) ...\n",
            "Selecting previously unselected package dvisvgm.\n",
            "Preparing to unpack .../10-dvisvgm_2.8.1-1build1_amd64.deb ...\n",
            "Unpacking dvisvgm (2.8.1-1build1) ...\n",
            "Selecting previously unselected package fonts-lmodern.\n",
            "Preparing to unpack .../11-fonts-lmodern_2.004.5-6_all.deb ...\n",
            "Unpacking fonts-lmodern (2.004.5-6) ...\n",
            "Selecting previously unselected package fonts-noto-mono.\n",
            "Preparing to unpack .../12-fonts-noto-mono_20200323-1build1~ubuntu20.04.1_all.deb ...\n",
            "Unpacking fonts-noto-mono (20200323-1build1~ubuntu20.04.1) ...\n",
            "Selecting previously unselected package ghostscript.\n",
            "Preparing to unpack .../13-ghostscript_9.50~dfsg-5ubuntu4.6_amd64.deb ...\n",
            "Unpacking ghostscript (9.50~dfsg-5ubuntu4.6) ...\n",
            "Selecting previously unselected package libdata-dump-perl.\n",
            "Preparing to unpack .../14-libdata-dump-perl_1.23-1_all.deb ...\n",
            "Unpacking libdata-dump-perl (1.23-1) ...\n",
            "Selecting previously unselected package libencode-locale-perl.\n",
            "Preparing to unpack .../15-libencode-locale-perl_1.05-1_all.deb ...\n",
            "Unpacking libencode-locale-perl (1.05-1) ...\n",
            "Selecting previously unselected package libhttp-date-perl.\n",
            "Preparing to unpack .../16-libhttp-date-perl_6.05-1_all.deb ...\n",
            "Unpacking libhttp-date-perl (6.05-1) ...\n",
            "Selecting previously unselected package libfile-listing-perl.\n",
            "Preparing to unpack .../17-libfile-listing-perl_6.04-1_all.deb ...\n",
            "Unpacking libfile-listing-perl (6.04-1) ...\n",
            "Selecting previously unselected package libfont-afm-perl.\n",
            "Preparing to unpack .../18-libfont-afm-perl_1.20-2_all.deb ...\n",
            "Unpacking libfont-afm-perl (1.20-2) ...\n",
            "Selecting previously unselected package libhtml-tagset-perl.\n",
            "Preparing to unpack .../19-libhtml-tagset-perl_3.20-4_all.deb ...\n",
            "Unpacking libhtml-tagset-perl (3.20-4) ...\n",
            "Selecting previously unselected package liburi-perl.\n",
            "Preparing to unpack .../20-liburi-perl_1.76-2_all.deb ...\n",
            "Unpacking liburi-perl (1.76-2) ...\n",
            "Selecting previously unselected package libhtml-parser-perl.\n",
            "Preparing to unpack .../21-libhtml-parser-perl_3.72-5_amd64.deb ...\n",
            "Unpacking libhtml-parser-perl (3.72-5) ...\n",
            "Selecting previously unselected package libio-html-perl.\n",
            "Preparing to unpack .../22-libio-html-perl_1.001-1_all.deb ...\n",
            "Unpacking libio-html-perl (1.001-1) ...\n",
            "Selecting previously unselected package liblwp-mediatypes-perl.\n",
            "Preparing to unpack .../23-liblwp-mediatypes-perl_6.04-1_all.deb ...\n",
            "Unpacking liblwp-mediatypes-perl (6.04-1) ...\n",
            "Selecting previously unselected package libhttp-message-perl.\n",
            "Preparing to unpack .../24-libhttp-message-perl_6.22-1_all.deb ...\n",
            "Unpacking libhttp-message-perl (6.22-1) ...\n",
            "Selecting previously unselected package libhtml-form-perl.\n",
            "Preparing to unpack .../25-libhtml-form-perl_6.07-1_all.deb ...\n",
            "Unpacking libhtml-form-perl (6.07-1) ...\n",
            "Selecting previously unselected package libhtml-tree-perl.\n",
            "Preparing to unpack .../26-libhtml-tree-perl_5.07-2_all.deb ...\n",
            "Unpacking libhtml-tree-perl (5.07-2) ...\n",
            "Selecting previously unselected package libhtml-format-perl.\n",
            "Preparing to unpack .../27-libhtml-format-perl_2.12-1_all.deb ...\n",
            "Unpacking libhtml-format-perl (2.12-1) ...\n",
            "Selecting previously unselected package libhttp-cookies-perl.\n",
            "Preparing to unpack .../28-libhttp-cookies-perl_6.08-1_all.deb ...\n",
            "Unpacking libhttp-cookies-perl (6.08-1) ...\n",
            "Selecting previously unselected package libhttp-daemon-perl.\n",
            "Preparing to unpack .../29-libhttp-daemon-perl_6.06-1ubuntu0.1_all.deb ...\n",
            "Unpacking libhttp-daemon-perl (6.06-1ubuntu0.1) ...\n",
            "Selecting previously unselected package libhttp-negotiate-perl.\n",
            "Preparing to unpack .../30-libhttp-negotiate-perl_6.01-1_all.deb ...\n",
            "Unpacking libhttp-negotiate-perl (6.01-1) ...\n",
            "Selecting previously unselected package perl-openssl-defaults:amd64.\n",
            "Preparing to unpack .../31-perl-openssl-defaults_4_amd64.deb ...\n",
            "Unpacking perl-openssl-defaults:amd64 (4) ...\n",
            "Selecting previously unselected package libnet-ssleay-perl.\n",
            "Preparing to unpack .../32-libnet-ssleay-perl_1.88-2ubuntu1_amd64.deb ...\n",
            "Unpacking libnet-ssleay-perl (1.88-2ubuntu1) ...\n",
            "Selecting previously unselected package libio-socket-ssl-perl.\n",
            "Preparing to unpack .../33-libio-socket-ssl-perl_2.067-1_all.deb ...\n",
            "Unpacking libio-socket-ssl-perl (2.067-1) ...\n",
            "Selecting previously unselected package libnet-http-perl.\n",
            "Preparing to unpack .../34-libnet-http-perl_6.19-1_all.deb ...\n",
            "Unpacking libnet-http-perl (6.19-1) ...\n",
            "Selecting previously unselected package libtry-tiny-perl.\n",
            "Preparing to unpack .../35-libtry-tiny-perl_0.30-1_all.deb ...\n",
            "Unpacking libtry-tiny-perl (0.30-1) ...\n",
            "Selecting previously unselected package libwww-robotrules-perl.\n",
            "Preparing to unpack .../36-libwww-robotrules-perl_6.02-1_all.deb ...\n",
            "Unpacking libwww-robotrules-perl (6.02-1) ...\n",
            "Selecting previously unselected package libwww-perl.\n",
            "Preparing to unpack .../37-libwww-perl_6.43-1_all.deb ...\n",
            "Unpacking libwww-perl (6.43-1) ...\n",
            "Selecting previously unselected package liblwp-protocol-https-perl.\n",
            "Preparing to unpack .../38-liblwp-protocol-https-perl_6.07-2ubuntu2_all.deb ...\n",
            "Unpacking liblwp-protocol-https-perl (6.07-2ubuntu2) ...\n",
            "Selecting previously unselected package libnet-smtp-ssl-perl.\n",
            "Preparing to unpack .../39-libnet-smtp-ssl-perl_1.04-1_all.deb ...\n",
            "Unpacking libnet-smtp-ssl-perl (1.04-1) ...\n",
            "Selecting previously unselected package libmailtools-perl.\n",
            "Preparing to unpack .../40-libmailtools-perl_2.21-1_all.deb ...\n",
            "Unpacking libmailtools-perl (2.21-1) ...\n",
            "Selecting previously unselected package libptexenc1:amd64.\n",
            "Preparing to unpack .../41-libptexenc1_2019.20190605.51237-3build2_amd64.deb ...\n",
            "Unpacking libptexenc1:amd64 (2019.20190605.51237-3build2) ...\n",
            "Selecting previously unselected package libsynctex2:amd64.\n",
            "Preparing to unpack .../42-libsynctex2_2019.20190605.51237-3build2_amd64.deb ...\n",
            "Unpacking libsynctex2:amd64 (2019.20190605.51237-3build2) ...\n",
            "Selecting previously unselected package libteckit0:amd64.\n",
            "Preparing to unpack .../43-libteckit0_2.5.8+ds2-5ubuntu2_amd64.deb ...\n",
            "Unpacking libteckit0:amd64 (2.5.8+ds2-5ubuntu2) ...\n",
            "Selecting previously unselected package libtexlua53:amd64.\n",
            "Preparing to unpack .../44-libtexlua53_2019.20190605.51237-3build2_amd64.deb ...\n",
            "Unpacking libtexlua53:amd64 (2019.20190605.51237-3build2) ...\n",
            "Selecting previously unselected package libtexluajit2:amd64.\n",
            "Preparing to unpack .../45-libtexluajit2_2019.20190605.51237-3build2_amd64.deb ...\n",
            "Unpacking libtexluajit2:amd64 (2019.20190605.51237-3build2) ...\n",
            "Selecting previously unselected package libtext-unidecode-perl.\n",
            "Preparing to unpack .../46-libtext-unidecode-perl_1.30-1_all.deb ...\n",
            "Unpacking libtext-unidecode-perl (1.30-1) ...\n",
            "Selecting previously unselected package libxml-namespacesupport-perl.\n",
            "Preparing to unpack .../47-libxml-namespacesupport-perl_1.12-1_all.deb ...\n",
            "Unpacking libxml-namespacesupport-perl (1.12-1) ...\n",
            "Selecting previously unselected package libxml-sax-base-perl.\n",
            "Preparing to unpack .../48-libxml-sax-base-perl_1.09-1_all.deb ...\n",
            "Unpacking libxml-sax-base-perl (1.09-1) ...\n",
            "Selecting previously unselected package libxml-sax-perl.\n",
            "Preparing to unpack .../49-libxml-sax-perl_1.02+dfsg-1_all.deb ...\n",
            "Unpacking libxml-sax-perl (1.02+dfsg-1) ...\n",
            "Selecting previously unselected package libxml-libxml-perl.\n",
            "Preparing to unpack .../50-libxml-libxml-perl_2.0134+dfsg-1build1_amd64.deb ...\n",
            "Unpacking libxml-libxml-perl (2.0134+dfsg-1build1) ...\n",
            "Selecting previously unselected package libxml-parser-perl.\n",
            "Preparing to unpack .../51-libxml-parser-perl_2.46-1_amd64.deb ...\n",
            "Unpacking libxml-parser-perl (2.46-1) ...\n",
            "Selecting previously unselected package libxml-sax-expat-perl.\n",
            "Preparing to unpack .../52-libxml-sax-expat-perl_0.51-1_all.deb ...\n",
            "Unpacking libxml-sax-expat-perl (0.51-1) ...\n",
            "Selecting previously unselected package libzzip-0-13:amd64.\n",
            "Preparing to unpack .../53-libzzip-0-13_0.13.62-3.2ubuntu1_amd64.deb ...\n",
            "Unpacking libzzip-0-13:amd64 (0.13.62-3.2ubuntu1) ...\n",
            "Selecting previously unselected package texinfo.\n",
            "Preparing to unpack .../54-texinfo_6.7.0.dfsg.2-5_amd64.deb ...\n",
            "Unpacking texinfo (6.7.0.dfsg.2-5) ...\n",
            "Selecting previously unselected package t1utils.\n",
            "Preparing to unpack .../55-t1utils_1.41-3_amd64.deb ...\n",
            "Unpacking t1utils (1.41-3) ...\n",
            "Selecting previously unselected package texlive-binaries.\n",
            "Preparing to unpack .../56-texlive-binaries_2019.20190605.51237-3build2_amd64.deb ...\n",
            "Unpacking texlive-binaries (2019.20190605.51237-3build2) ...\n",
            "Selecting previously unselected package lilypond-data.\n",
            "Preparing to unpack .../57-lilypond-data_2.20.0-1_all.deb ...\n",
            "Unpacking lilypond-data (2.20.0-1) ...\n",
            "Selecting previously unselected package lilypond.\n",
            "Preparing to unpack .../58-lilypond_2.20.0-1_amd64.deb ...\n",
            "warning: kpathsea: configuration file texmf.cnf not found in these directories: /etc/texmf/web2c:/usr/local/share/texmf/web2c:/usr/share/texmf/web2c:/usr/share/texlive/texmf-dist/web2c://share/texmf/web2c.\n",
            "warning: kpathsea: configuration file texmf.cnf not found in these directories: /etc/texmf/web2c:/usr/local/share/texmf/web2c:/usr/share/texmf/web2c:/usr/share/texlive/texmf-dist/web2c://share/texmf/web2c.\n",
            "Unpacking lilypond (2.20.0-1) ...\n",
            "Selecting previously unselected package xfonts-encodings.\n",
            "Preparing to unpack .../59-xfonts-encodings_1%3a1.0.5-0ubuntu1_all.deb ...\n",
            "Unpacking xfonts-encodings (1:1.0.5-0ubuntu1) ...\n",
            "Selecting previously unselected package xfonts-utils.\n",
            "Preparing to unpack .../60-xfonts-utils_1%3a7.7+6_amd64.deb ...\n",
            "Unpacking xfonts-utils (1:7.7+6) ...\n",
            "Selecting previously unselected package lmodern.\n",
            "Preparing to unpack .../61-lmodern_2.004.5-6_all.deb ...\n",
            "Unpacking lmodern (2.004.5-6) ...\n",
            "Selecting previously unselected package texlive-base.\n",
            "Preparing to unpack .../62-texlive-base_2019.20200218-1_all.deb ...\n",
            "Unpacking texlive-base (2019.20200218-1) ...\n",
            "Selecting previously unselected package texlive-latex-base.\n",
            "Preparing to unpack .../63-texlive-latex-base_2019.20200218-1_all.deb ...\n",
            "Unpacking texlive-latex-base (2019.20200218-1) ...\n",
            "Selecting previously unselected package libauthen-sasl-perl.\n",
            "Preparing to unpack .../64-libauthen-sasl-perl_2.1600-1_all.deb ...\n",
            "Unpacking libauthen-sasl-perl (2.1600-1) ...\n",
            "Setting up libhttp-date-perl (6.05-1) ...\n",
            "Setting up libfile-listing-perl (6.04-1) ...\n",
            "Setting up fonts-noto-mono (20200323-1build1~ubuntu20.04.1) ...\n",
            "Setting up libfont-afm-perl (1.20-2) ...\n",
            "Setting up libpython2-stdlib:amd64 (2.7.17-2ubuntu4) ...\n",
            "Setting up libtexlua53:amd64 (2019.20190605.51237-3build2) ...\n",
            "Setting up libhtml-tagset-perl (3.20-4) ...\n",
            "Setting up libijs-0.35:amd64 (0.35-15) ...\n",
            "Setting up libauthen-sasl-perl (2.1600-1) ...\n",
            "Setting up libtexluajit2:amd64 (2019.20190605.51237-3build2) ...\n",
            "Setting up liblwp-mediatypes-perl (6.04-1) ...\n",
            "Setting up libtry-tiny-perl (0.30-1) ...\n",
            "Setting up perl-openssl-defaults:amd64 (4) ...\n",
            "Setting up libxml-namespacesupport-perl (1.12-1) ...\n",
            "Setting up libencode-locale-perl (1.05-1) ...\n",
            "Setting up libzzip-0-13:amd64 (0.13.62-3.2ubuntu1) ...\n",
            "Setting up fonts-urw-base35 (20170801.1-3) ...\n",
            "Setting up python2 (2.7.17-2ubuntu4) ...\n",
            "Setting up poppler-data (0.4.9-2) ...\n",
            "Setting up tex-common (6.13) ...\n",
            "debconf: unable to initialize frontend: Dialog\n",
            "debconf: (No usable dialog-like program is installed, so the dialog based frontend cannot be used. at /usr/share/perl5/Debconf/FrontEnd/Dialog.pm line 76.)\n",
            "debconf: falling back to frontend: Readline\n",
            "update-language: texlive-base not installed and configured, doing nothing!\n",
            "Setting up libxml-sax-base-perl (1.09-1) ...\n",
            "Setting up libdata-dump-perl (1.23-1) ...\n",
            "Setting up libjbig2dec0:amd64 (0.18-1ubuntu1) ...\n",
            "Setting up libidn11:amd64 (1.33-2.2ubuntu2) ...\n",
            "Setting up libteckit0:amd64 (2.5.8+ds2-5ubuntu2) ...\n",
            "Setting up xfonts-encodings (1:1.0.5-0ubuntu1) ...\n",
            "Setting up t1utils (1.41-3) ...\n",
            "Setting up libio-html-perl (1.001-1) ...\n",
            "Setting up libkpathsea6:amd64 (2019.20190605.51237-3build2) ...\n",
            "Setting up fonts-lmodern (2.004.5-6) ...\n",
            "Setting up netbase (6.1) ...\n",
            "Setting up fonts-droid-fallback (1:6.0.1r16-1.1) ...\n",
            "Setting up libtext-unidecode-perl (1.30-1) ...\n",
            "Setting up liburi-perl (1.76-2) ...\n",
            "Setting up libsynctex2:amd64 (2019.20190605.51237-3build2) ...\n",
            "Setting up libhttp-message-perl (6.22-1) ...\n",
            "Setting up libnet-ssleay-perl (1.88-2ubuntu1) ...\n",
            "Setting up libgs9-common (9.50~dfsg-5ubuntu4.6) ...\n",
            "Setting up libhttp-negotiate-perl (6.01-1) ...\n",
            "Setting up libgs9:amd64 (9.50~dfsg-5ubuntu4.6) ...\n",
            "Setting up libhttp-cookies-perl (6.08-1) ...\n",
            "Setting up dvisvgm (2.8.1-1build1) ...\n",
            "Setting up libnet-http-perl (6.19-1) ...\n",
            "Setting up ghostscript (9.50~dfsg-5ubuntu4.6) ...\n",
            "Setting up xfonts-utils (1:7.7+6) ...\n",
            "Setting up libxml-sax-perl (1.02+dfsg-1) ...\n",
            "update-perl-sax-parsers: Registering Perl SAX parser XML::SAX::PurePerl with priority 10...\n",
            "update-perl-sax-parsers: Updating overall Perl SAX parser modules info file...\n",
            "debconf: unable to initialize frontend: Dialog\n",
            "debconf: (No usable dialog-like program is installed, so the dialog based frontend cannot be used. at /usr/share/perl5/Debconf/FrontEnd/Dialog.pm line 76.)\n",
            "debconf: falling back to frontend: Readline\n",
            "\n",
            "Creating config file /etc/perl/XML/SAX/ParserDetails.ini with new version\n",
            "Setting up libptexenc1:amd64 (2019.20190605.51237-3build2) ...\n",
            "Setting up libxml-libxml-perl (2.0134+dfsg-1build1) ...\n",
            "update-perl-sax-parsers: Registering Perl SAX parser XML::LibXML::SAX::Parser with priority 50...\n",
            "update-perl-sax-parsers: Registering Perl SAX parser XML::LibXML::SAX with priority 50...\n",
            "update-perl-sax-parsers: Updating overall Perl SAX parser modules info file...\n",
            "debconf: unable to initialize frontend: Dialog\n",
            "debconf: (No usable dialog-like program is installed, so the dialog based frontend cannot be used. at /usr/share/perl5/Debconf/FrontEnd/Dialog.pm line 76.)\n",
            "debconf: falling back to frontend: Readline\n",
            "Replacing config file /etc/perl/XML/SAX/ParserDetails.ini with new version\n",
            "Setting up libwww-robotrules-perl (6.02-1) ...\n",
            "Setting up libhttp-daemon-perl (6.06-1ubuntu0.1) ...\n",
            "Setting up texlive-binaries (2019.20190605.51237-3build2) ...\n",
            "update-alternatives: using /usr/bin/xdvi-xaw to provide /usr/bin/xdvi.bin (xdvi.bin) in auto mode\n",
            "update-alternatives: using /usr/bin/bibtex.original to provide /usr/bin/bibtex (bibtex) in auto mode\n",
            "Setting up lmodern (2.004.5-6) ...\n",
            "Setting up libhtml-parser-perl (3.72-5) ...\n",
            "Setting up texlive-base (2019.20200218-1) ...\n",
            "mktexlsr: Updating /var/lib/texmf/ls-R-TEXLIVEDIST... \n",
            "mktexlsr: Updating /var/lib/texmf/ls-R-TEXMFMAIN... \n",
            "mktexlsr: Updating /var/lib/texmf/ls-R... \n",
            "mktexlsr: Done.\n",
            "tl-paper: setting paper size for dvips to a4: /var/lib/texmf/dvips/config/config-paper.ps\n",
            "tl-paper: setting paper size for dvipdfmx to a4: /var/lib/texmf/dvipdfmx/dvipdfmx-paper.cfg\n",
            "tl-paper: setting paper size for xdvi to a4: /var/lib/texmf/xdvi/XDvi-paper\n",
            "tl-paper: setting paper size for pdftex to a4: /var/lib/texmf/tex/generic/config/pdftexconfig.tex\n",
            "debconf: unable to initialize frontend: Dialog\n",
            "debconf: (No usable dialog-like program is installed, so the dialog based frontend cannot be used. at /usr/share/perl5/Debconf/FrontEnd/Dialog.pm line 76.)\n",
            "debconf: falling back to frontend: Readline\n",
            "Setting up libio-socket-ssl-perl (2.067-1) ...\n",
            "Setting up libhtml-form-perl (6.07-1) ...\n",
            "Setting up libhtml-tree-perl (5.07-2) ...\n",
            "Setting up libhtml-format-perl (2.12-1) ...\n",
            "Setting up libnet-smtp-ssl-perl (1.04-1) ...\n",
            "Setting up texlive-latex-base (2019.20200218-1) ...\n",
            "Setting up libmailtools-perl (2.21-1) ...\n",
            "Setting up texinfo (6.7.0.dfsg.2-5) ...\n",
            "Running mktexlsr. This may take some time. ... done.\n",
            "Setting up lilypond-data (2.20.0-1) ...\n",
            "Setting up lilypond (2.20.0-1) ...\n",
            "Setting up liblwp-protocol-https-perl (6.07-2ubuntu2) ...\n",
            "Setting up libwww-perl (6.43-1) ...\n",
            "Setting up libxml-parser-perl (2.46-1) ...\n",
            "Setting up libxml-sax-expat-perl (0.51-1) ...\n",
            "update-perl-sax-parsers: Registering Perl SAX parser XML::SAX::Expat with priority 50...\n",
            "update-perl-sax-parsers: Updating overall Perl SAX parser modules info file...\n",
            "debconf: unable to initialize frontend: Dialog\n",
            "debconf: (No usable dialog-like program is installed, so the dialog based frontend cannot be used. at /usr/share/perl5/Debconf/FrontEnd/Dialog.pm line 76.)\n",
            "debconf: falling back to frontend: Readline\n",
            "Replacing config file /etc/perl/XML/SAX/ParserDetails.ini with new version\n",
            "Processing triggers for fontconfig (2.13.1-2ubuntu3) ...\n",
            "Processing triggers for mime-support (3.64ubuntu1) ...\n",
            "Processing triggers for libc-bin (2.31-0ubuntu9.9) ...\n",
            "Processing triggers for man-db (2.9.1-1) ...\n",
            "Processing triggers for tex-common (6.13) ...\n",
            "debconf: unable to initialize frontend: Dialog\n",
            "debconf: (No usable dialog-like program is installed, so the dialog based frontend cannot be used. at /usr/share/perl5/Debconf/FrontEnd/Dialog.pm line 76.)\n",
            "debconf: falling back to frontend: Readline\n",
            "Running updmap-sys. This may take some time... done.\n",
            "Running mktexlsr /var/lib/texmf ... done.\n",
            "Building format(s) --all.\n",
            "\tThis may take some time... done.\n",
            "Looking in indexes: https://pypi.org/simple, https://us-python.pkg.dev/colab-wheels/public/simple/\n",
            "Requirement already satisfied: music21 in /usr/local/lib/python3.8/dist-packages (5.5.0)\n"
          ]
        }
      ],
      "source": [
        "!sudo apt-get update -y\n",
        "!sudo apt-get install -y lilypond\n",
        "!pip install music21"
      ]
    },
    {
      "cell_type": "markdown",
      "id": "1e2583f8",
      "metadata": {
        "id": "1e2583f8"
      },
      "source": [
        "## 5. 필요한 라이브러리 import"
      ]
    },
    {
      "cell_type": "code",
      "execution_count": 4,
      "id": "b3c2075c",
      "metadata": {
        "id": "b3c2075c"
      },
      "outputs": [],
      "source": [
        "import tensorflow\n",
        "import numpy as np\n",
        "import pandas as pd\n",
        "from collections import Counter\n",
        "import random\n",
        "import IPython\n",
        "from IPython.display import Image, Audio\n",
        "import music21\n",
        "import os\n",
        "from music21 import *\n",
        "import matplotlib.pyplot as plt \n",
        "from sklearn.model_selection import train_test_split\n",
        "from tensorflow.keras.models import Sequential\n",
        "from tensorflow.keras.layers import LSTM, Dense, Dropout\n",
        "import tensorflow.keras.backend as K\n",
        "from tensorflow.keras.optimizers import Adamax\n",
        "import seaborn as sns\n",
        "import matplotlib.pyplot as plt\n",
        "import matplotlib.patches as mpatches\n",
        "%matplotlib inline\n",
        "import sys\n",
        "import warnings\n",
        "from tqdm import tqdm\n",
        "warnings.filterwarnings(\"ignore\")\n",
        "warnings.simplefilter(\"ignore\")\n",
        "np.random.seed(42)"
      ]
    },
    {
      "cell_type": "markdown",
      "id": "cf0bc72a",
      "metadata": {
        "id": "cf0bc72a"
      },
      "source": [
        "## 6. 업로드한 MIDI 파일들 불러오기"
      ]
    },
    {
      "cell_type": "code",
      "execution_count": 5,
      "id": "b4b3fe6b",
      "metadata": {
        "id": "b4b3fe6b",
        "colab": {
          "base_uri": "https://localhost:8080/"
        },
        "outputId": "16e9fac1-18f7-4118-9e5e-e4ac2993c402"
      },
      "outputs": [
        {
          "output_type": "stream",
          "name": "stderr",
          "text": [
            "100%|██████████| 48/48 [02:21<00:00,  2.94s/it]\n"
          ]
        }
      ],
      "source": [
        "filepath = \"./chopin/\"\n",
        "#Getting midi files\n",
        "all_midis= []\n",
        "for i in tqdm(os.listdir(filepath)):\n",
        "    if i.endswith(\".mid\"):\n",
        "        tr = filepath+i\n",
        "        midi = converter.parse(tr)\n",
        "        all_midis.append(midi)"
      ]
    },
    {
      "cell_type": "markdown",
      "id": "54874086",
      "metadata": {
        "id": "54874086"
      },
      "source": [
        "## 7. Note 추출하기\n",
        "음표는 음악의 building block의 역할을 합니다. 본 예제의 MIDI 파일은 피아노 음악만을 포함하고 있으므로 이를 음표의 형태로 추출하게 됩니다.\n",
        "\n",
        "앞서 MIDI 파일들을 모아놓은 `all_midis` 리스트를 순회하며 음표들을 추출하고, 이를 리스트에 넣어 return하는 함수를 정의합니다.\n",
        "\n",
        "### music21 library\n",
        "모든 코드를 이해할 필요는 없지만 `partitionByInstrument()` 등의 메소드가 궁금하다면 `music21` 라이브러리의 공식 document를 참고하시면 됩니다. https://web.mit.edu/music21/doc/moduleReference/moduleInstrument.html\n",
        "\n",
        "*참고: NLP에서 모델 학습을 위한 말뭉치를 `Corpus`라고 합니다. 아래에서 추출한 note들의 리스트가 Corpus의 역할을 합니다."
      ]
    },
    {
      "cell_type": "code",
      "execution_count": 15,
      "id": "3be13229",
      "metadata": {
        "id": "3be13229",
        "colab": {
          "base_uri": "https://localhost:8080/"
        },
        "outputId": "763bb3c1-a18c-412a-9b35-3bbb263143ec"
      },
      "outputs": [
        {
          "output_type": "stream",
          "name": "stderr",
          "text": [
            "100%|██████████| 48/48 [00:06<00:00,  6.89it/s]"
          ]
        },
        {
          "output_type": "stream",
          "name": "stdout",
          "text": [
            "Total notes in all the Chopin midis in the dataset: 63429\n"
          ]
        },
        {
          "output_type": "stream",
          "name": "stderr",
          "text": [
            "\n"
          ]
        }
      ],
      "source": [
        "# Helping function        \n",
        "def extract_notes(file):\n",
        "    notes = []\n",
        "    pick = None\n",
        "    for j in tqdm(file):\n",
        "        songs = instrument.partitionByInstrument(j)\n",
        "        for part in songs.parts:\n",
        "            pick = part.recurse()\n",
        "            for element in pick:\n",
        "                if isinstance(element, note.Note):\n",
        "                    notes.append(str(element.pitch))\n",
        "                elif isinstance(element, chord.Chord):\n",
        "                    notes.append(\".\".join(str(n) for n in element.normalOrder))\n",
        "\n",
        "    return notes\n",
        "\n",
        "# Getting the list of notes as Corpus\n",
        "Corpus = extract_notes(all_midis)\n",
        "print(\"Total notes in all the Chopin midis in the dataset:\", len(Corpus))"
      ]
    },
    {
      "cell_type": "code",
      "execution_count": 7,
      "id": "40bd8646",
      "metadata": {
        "id": "40bd8646",
        "colab": {
          "base_uri": "https://localhost:8080/"
        },
        "outputId": "b6c2f263-0f06-4a37-bdd5-8efcead732d5"
      },
      "outputs": [
        {
          "output_type": "stream",
          "name": "stdout",
          "text": [
            "First fifty values in the Corpus: ['B-4', 'B-4', 'E-2', 'B-3', 'G3', 'G4', 'B-2', 'E-5', 'E-2', 'E-4', 'G3', 'B-4', 'B-2', 'G5', 'E-2', 'G4', 'B-3', 'E-5', 'B-2', 'B-5', 'E-2', 'B-4', 'E-4', 'G5', 'G3', 'E-6', 'B-2', 'E-5', 'G4', 'B-5', 'B-3', 'G6', 'E-3', 'G5', 'B-4', 'B-5', 'B-3', 'F6', 'E-3', 'D5', 'B4', 'G#5', 'B3', 'E-6', 'E-3', 'E-5', 'C5', 'G#5', 'C4', 'C6']\n"
          ]
        }
      ],
      "source": [
        "print(\"First fifty values in the Corpus:\", Corpus[:50])"
      ]
    },
    {
      "cell_type": "markdown",
      "id": "922188ed",
      "metadata": {
        "id": "922188ed"
      },
      "source": [
        "### 이제 corpus의 형태로 training data를 가지고 있습니다. 위에 보이는 각각의 string이 음표라고 생각하면 됩니다.\n",
        "## 8. Data Exploration\n",
        "### Printing the music sheet"
      ]
    },
    {
      "cell_type": "code",
      "execution_count": 8,
      "id": "ff95de6e",
      "metadata": {
        "id": "ff95de6e",
        "colab": {
          "base_uri": "https://localhost:8080/",
          "height": 367
        },
        "outputId": "06361929-115f-4474-919e-191c506902df"
      },
      "outputs": [
        {
          "output_type": "display_data",
          "data": {
            "image/png": "[encoded data removed]",
            "text/plain": [
              "<IPython.core.display.Image object>"
            ]
          },
          "metadata": {}
        }
      ],
      "source": [
        "# First Lets write some functions that we need to look into the data\n",
        "def show(music):\n",
        "    display(Image(str(music.write(\"lily.png\"))))\n",
        "    \n",
        "def chords_n_notes(Snippet):\n",
        "    Melody = []\n",
        "    offset = 0 #Incremental\n",
        "    for i in Snippet:\n",
        "        #If it is chord\n",
        "        if (\".\" in i or i.isdigit()):\n",
        "            chord_notes = i.split(\".\") #Seperating the notes in chord\n",
        "            notes = [] \n",
        "            for j in chord_notes:\n",
        "                inst_note=int(j)\n",
        "                note_snip = note.Note(inst_note)            \n",
        "                notes.append(note_snip)\n",
        "                chord_snip = chord.Chord(notes)\n",
        "                chord_snip.offset = offset\n",
        "                Melody.append(chord_snip)\n",
        "        # pattern is a note\n",
        "        else: \n",
        "            note_snip = note.Note(i)\n",
        "            note_snip.offset = offset\n",
        "            Melody.append(note_snip)\n",
        "        # increase offset each iteration so that notes do not stack\n",
        "        offset += 1\n",
        "    Melody_midi = stream.Stream(Melody)   \n",
        "    return Melody_midi\n",
        "\n",
        "Melody_Snippet = chords_n_notes(Corpus[:100])\n",
        "show(Melody_Snippet)"
      ]
    },
    {
      "cell_type": "markdown",
      "id": "cc23bbf7",
      "metadata": {
        "id": "cc23bbf7"
      },
      "source": [
        "### 전체 Corpus에 존재하는 음표의 개수를 확인해 봅니다.\n",
        "\n",
        "[참고] `Counter` 클래스를 모른다면?\n",
        "https://docs.python.org/ko/3/library/collections.html#collections.Counter\n",
        "\n",
        "Counter 클래스는 입력으로 들어온 Iterable에서 각 원소가 몇 번씩 나오는지를 알려주는 객체를 생성합니다. 딕셔너리처럼 key를 이용하여 값을 읽을 수 있고, 특정 key가 Counter에 존재하는지도 확인할 수 있습니다. 아래는 예시입니다.\n",
        "``` Python\n",
        ">>> Counter([\"hi\", \"hey\", \"hi\", \"hi\", \"hello\", \"hey\"])\n",
        "Counter({'hi': 3, 'hey': 2, 'hello': 1})\n",
        "```"
      ]
    },
    {
      "cell_type": "code",
      "execution_count": 16,
      "id": "e7496549",
      "metadata": {
        "id": "e7496549",
        "colab": {
          "base_uri": "https://localhost:8080/"
        },
        "outputId": "d3bd44d1-2e56-4fae-df87-5d55fe83e87b"
      },
      "outputs": [
        {
          "output_type": "stream",
          "name": "stdout",
          "text": [
            "Total unique notes in the Corpus: 317\n"
          ]
        }
      ],
      "source": [
        "# Creating a count dictionary\n",
        "count_num = Counter(Corpus)\n",
        "print(\"Total unique notes in the Corpus:\", len(count_num))"
      ]
    },
    {
      "cell_type": "markdown",
      "id": "108ba667",
      "metadata": {
        "id": "108ba667"
      },
      "source": [
        "## 음표의 등장 빈도를 확인해 봅니다.\n",
        "특정 멜로디에서 자주 등장하는 음표가 있을 것이고, 어떤 음표의 경우에는 아주 가끔씩만 등장할 것입니다. RNN / LSTM 모델링에서 빈도가 너무 낮게 등장하는 경우에는 문제가 발생합니다. 따라서 발생 빈도를 살펴보도록 합시다."
      ]
    },
    {
      "cell_type": "code",
      "execution_count": 17,
      "id": "1fad8922",
      "metadata": {
        "id": "1fad8922",
        "colab": {
          "base_uri": "https://localhost:8080/"
        },
        "outputId": "f268a8bf-462c-48b2-ec9d-9f51969ccfb4"
      },
      "outputs": [
        {
          "output_type": "stream",
          "name": "stdout",
          "text": [
            "Average recurrence for a note in Corpus: 200.09148264984228\n",
            "Most frequent note in Corpus appeared: 1869 times\n",
            "Least frequent note in Corpus appeared: 1 time\n"
          ]
        }
      ],
      "source": [
        "# Exploring the notes dictionary\n",
        "Notes = list(count_num.keys())\n",
        "Recurrence = list(count_num.values())\n",
        "\n",
        "# Average recurrence for a note in Corpus\n",
        "def Average(lst):\n",
        "    return sum(lst) / len(lst)\n",
        "print(\"Average recurrence for a note in Corpus:\", Average(Recurrence))\n",
        "print(\"Most frequent note in Corpus appeared:\", max(Recurrence), \"times\")\n",
        "print(\"Least frequent note in Corpus appeared:\", min(Recurrence), \"time\")"
      ]
    },
    {
      "cell_type": "code",
      "execution_count": 11,
      "id": "ddfc38f3",
      "metadata": {
        "id": "ddfc38f3",
        "colab": {
          "base_uri": "https://localhost:8080/",
          "height": 239
        },
        "outputId": "5e92249e-ff5e-4193-f536-90d0400483a2"
      },
      "outputs": [
        {
          "output_type": "display_data",
          "data": {
            "text/plain": [
              "<Figure size 1296x216 with 1 Axes>"
            ],
            "image/png": "[encoded data removed]"
          },
          "metadata": {
            "image/png": {
              "width": 1058,
              "height": 222
            }
          }
        }
      ],
      "source": [
        "# Plotting the distribution of Notes\n",
        "plt.figure(figsize=(18,3),facecolor=\"#97BACB\")\n",
        "bins = np.arange(0,(max(Recurrence)), 50) \n",
        "plt.hist(Recurrence, bins=bins, color=\"#97BACB\")\n",
        "plt.axvline(x=100,color=\"#DBACC1\")\n",
        "plt.title(\"Frequency Distribution Of Notes In The Corpus\")\n",
        "plt.xlabel(\"Frequency Of Chords in Corpus\")\n",
        "plt.ylabel(\"Number Of Chords\")\n",
        "plt.show()"
      ]
    },
    {
      "cell_type": "markdown",
      "id": "8a377bca",
      "metadata": {
        "id": "8a377bca"
      },
      "source": [
        "### 100번 미만으로 등장한 음표들은 제거\n",
        "`count_num` 객체에서 iteration을 하면서 `key`, `value`를 뽑아냅니다. `key`는 음표를 나타내는 string이고 `value`는 해당 음표가 등장한 횟수입니다. 따라서 등장 횟수가 100번 미만이면 `rare_note`라는 리스트에 집어넣어서 나중에 제거합니다."
      ]
    },
    {
      "cell_type": "code",
      "execution_count": 19,
      "id": "a8904b6c",
      "metadata": {
        "id": "a8904b6c",
        "colab": {
          "base_uri": "https://localhost:8080/"
        },
        "outputId": "5c74b054-20c6-4afe-c328-9c88c332ca08"
      },
      "outputs": [
        {
          "output_type": "stream",
          "name": "stdout",
          "text": [
            "Total number of notes that occur less than 100 times: 200\n"
          ]
        }
      ],
      "source": [
        "# Getting a list of rare chords\n",
        "rare_note = []\n",
        "for index, (key, value) in enumerate(count_num.items()):\n",
        "    if value < 100:\n",
        "        m =  key\n",
        "        rare_note.append(m)\n",
        "        \n",
        "print(\"Total number of notes that occur less than 100 times:\", len(rare_note))"
      ]
    },
    {
      "cell_type": "code",
      "execution_count": 20,
      "id": "8e7fdb95",
      "metadata": {
        "id": "8e7fdb95",
        "colab": {
          "base_uri": "https://localhost:8080/"
        },
        "outputId": "053b1ddd-8806-4494-c784-097918d2e597"
      },
      "outputs": [
        {
          "output_type": "stream",
          "name": "stdout",
          "text": [
            "Length of Corpus before elemination the rare notes: 63429\n",
            "Length of Corpus after elemination the rare notes: 59854\n"
          ]
        }
      ],
      "source": [
        "# Rare note에 해당하는 음표들을 제거해 줍니다.\n",
        "print(\"Length of Corpus before elemination the rare notes:\", len(Corpus))\n",
        "for element in Corpus:\n",
        "    if element in rare_note:\n",
        "        Corpus.remove(element)\n",
        "\n",
        "print(\"Length of Corpus after elemination the rare notes:\", len(Corpus))"
      ]
    },
    {
      "cell_type": "markdown",
      "id": "51d33cfc",
      "metadata": {
        "id": "51d33cfc"
      },
      "source": [
        "##  9. Data Prepreocessing\n",
        "음표들을 LSTM에 집어넣으려면 모두 인코딩을 해줘야 합니다. NLP에서 단어를 각각 벡터로 표현해준 것과 유사합니다. 순서는 다음과 같습니다.\n",
        "\n",
        "1. <b>Dictionary 생성</b>: 우선 각각의 음표를 index로 mapping해주는 dictionary를 만들어야 합니다. 음표는 string으로 표현되므로 각각의 string을 index로 바꾸어주면 됩니다.\n",
        "2. <b>Encodding and Splitting the corpus</b>: Corpus를 1번에서 만든 dictionary를 이용하여 인코딩 해주고, 다음으로 이를 동일한 길이의 sequence로 쪼개주어야 합니다.\n",
        "3. <b>Assigning X and y</b>: Label을 resize하고 normalize 해주고, target은 one-hot encoding을 해줍니다.\n",
        "\n",
        "* Reverse mapping을 굳이 따로 정의해주는 것은 시간 복잡도 관점에서 생각하면 됩니다. 만약 이를 정의하지 않는다면 디코딩 과정에서 매번 loop를 돌아야 하므로 비효율적입니다."
      ]
    },
    {
      "cell_type": "markdown",
      "id": "fe7b6c82",
      "metadata": {
        "id": "fe7b6c82"
      },
      "source": [
        "### Dictionary 생성"
      ]
    },
    {
      "cell_type": "code",
      "execution_count": 21,
      "id": "cf608f79",
      "metadata": {
        "id": "cf608f79",
        "colab": {
          "base_uri": "https://localhost:8080/"
        },
        "outputId": "f854c2d5-44d9-4612-cb5e-f2448f804f38"
      },
      "outputs": [
        {
          "output_type": "stream",
          "name": "stdout",
          "text": [
            "Total number of characters: 59854\n",
            "Number of unique characters: 228\n"
          ]
        }
      ],
      "source": [
        "# Storing all the unique characters present in my corpus to bult a mapping dic.\n",
        "symb = sorted(list(set(Corpus)))\n",
        "\n",
        "L_corpus = len(Corpus) # length of corpus\n",
        "L_symb = len(symb) # length of total unique characters\n",
        "\n",
        "# Building dictionary to access the vocabulary from indices and vice versa\n",
        "mapping = dict((c, i) for i, c in enumerate(symb))\n",
        "reverse_mapping = dict((i, c) for i, c in enumerate(symb))\n",
        "\n",
        "print(\"Total number of characters:\", L_corpus)\n",
        "print(\"Number of unique characters:\", L_symb)"
      ]
    },
    {
      "cell_type": "markdown",
      "id": "3a18bb23",
      "metadata": {
        "id": "3a18bb23"
      },
      "source": [
        "## [중요!] Encodding and Splitting the Corpus\n",
        "RNN 기반의 아키텍쳐를 사용할 때 가장 헷갈리는 부분입니다. RNN이나 LSTM은 input 데이터의 dimension을 정확하게 맞춰주어야 하는데, 이 과정이 조금 까다롭습니다. 😞 참고로 아래 이미지와 같이 고정된 길이의 sequence를 가지고 다음에 나올 부분을 예측하고, 그대로 한 칸 이동해서 동일한 방식으로 training이 진행됩니다. 흔히 말하는 sliding window 방식입니다.\n",
        "\n",
        "참고: https://data-analysis-expertise.tistory.com/67\n",
        "\n",
        "Keras LSTM documentation: https://www.tensorflow.org/api_docs/python/tf/keras/layers/LSTM\n",
        "\n",
        "![image](https://www.researchgate.net/publication/350511416/figure/fig1/AS:1007244028174337@1617157098300/LSTM-sliding-window-prediction-principle.png)\n",
        "\n",
        "우선, RNN에 들어가는 input은 반드시 (batch, timesteps, feature)으로 3개의 차원을 가져야 합니다. \n",
        "- Batch: 전체 데이터의 개수를 의미합니다.\n",
        "- Timesteps: Input data의 sequence 길이를 말합니다. 예를 들어 30일동안의 주가를 바탕으로 다음 날의 주가를 예측하고 싶다고 하면 sequence length가 30이 될 것입니다.\n",
        "- Feature: Input (X)에서 feature의 수를 의미합니다. 일반적으로 1이고, 만약 주식 가격 예측에서 open, high, low, close 가격을 모두 사용해서 close를 예측하겠다면 4가 될 것입니다.\n",
        "\n",
        "아래 모델에서는 40개의 음표를 가지고 다음 음표를 예측하는 task를 수행할 것입니다. 따라서 timesteps는 40이 됩니다. 실제로 문제를 풀다보면 timesteps만 잘 정해주면 나머지 두 개의 차원은 생각할 필요는 없습니다. Reshape만 잘 해서 차원을 맞춰주면 됩니다.\n"
      ]
    },
    {
      "cell_type": "code",
      "execution_count": 23,
      "id": "ba0308c2",
      "metadata": {
        "id": "ba0308c2",
        "colab": {
          "base_uri": "https://localhost:8080/"
        },
        "outputId": "ea4cea60-33ac-4e72-c694-40b075fedad1"
      },
      "outputs": [
        {
          "output_type": "stream",
          "name": "stdout",
          "text": [
            "Total number of sequences in the Corpus: 59814\n",
            "Make sure the total number of sequences:  True\n"
          ]
        }
      ],
      "source": [
        "# Splitting the Corpus in equal length of strings and output target\n",
        "# 앞서 설명한 sliding window 방식으로 데이터를 생성해주는 과정입니다.\n",
        "length = 40\n",
        "features = []\n",
        "targets = []\n",
        "for i in range(0, L_corpus - length, 1):\n",
        "    feature = Corpus[i:i + length]  # i번째부터 40개의 음표 string\n",
        "    target = Corpus[i + length]  # 40개의 음표 바로 다음의 음표 string\n",
        "    features.append([mapping[j] for j in feature])  # 40개를 모두 index로 바꾼 뒤 리스트에 넣어서 append\n",
        "    targets.append(mapping[target])  # 예측 대상인 음표도 index로 바꾼 뒤 append\n",
        "    \n",
        "    \n",
        "L_datapoints = len(targets)  # 결국 window를 계속 움직이며 총 target개의 예측을 수행해야 한다.\n",
        "print(\"Total number of sequences in the Corpus:\", L_datapoints)\n",
        "print('Make sure the total number of sequences: ', L_datapoints == L_corpus-length)"
      ]
    },
    {
      "cell_type": "code",
      "source": [
        "print(len(features))"
      ],
      "metadata": {
        "colab": {
          "base_uri": "https://localhost:8080/"
        },
        "id": "6yxdu9UmMs8u",
        "outputId": "c1a442e6-fd20-4fc8-ca6d-e4e22ceb6878"
      },
      "id": "6yxdu9UmMs8u",
      "execution_count": 29,
      "outputs": [
        {
          "output_type": "stream",
          "name": "stdout",
          "text": [
            "59814\n"
          ]
        }
      ]
    },
    {
      "cell_type": "code",
      "execution_count": 30,
      "id": "047bc69b",
      "metadata": {
        "id": "047bc69b"
      },
      "outputs": [],
      "source": [
        "# reshape X and normalize\n",
        "# float(L_symb)을 나누어서 X의 element를 0~1 사이로 만들기\n",
        "X = (np.reshape(features, (L_datapoints, length, 1))) / float(L_symb)\n",
        "# one hot encode the output variable\n",
        "y = tensorflow.keras.utils.to_categorical(targets)"
      ]
    },
    {
      "cell_type": "code",
      "execution_count": 33,
      "id": "03a042e0",
      "metadata": {
        "colab": {
          "base_uri": "https://localhost:8080/"
        },
        "id": "03a042e0",
        "outputId": "e4ae07d0-f123-4710-df60-9f53b04d680a"
      },
      "outputs": [
        {
          "output_type": "execute_result",
          "data": {
            "text/plain": [
              "((59814, 40, 1), (59814, 228))"
            ]
          },
          "metadata": {},
          "execution_count": 33
        }
      ],
      "source": [
        "# Batch, timesteps, features\n",
        "X.shape, y.shape"
      ]
    },
    {
      "cell_type": "code",
      "execution_count": 34,
      "id": "29d8bc76",
      "metadata": {
        "id": "29d8bc76"
      },
      "outputs": [],
      "source": [
        "# Taking out a subset of data to be used as seed\n",
        "X_train, X_seed, y_train, y_seed = train_test_split(X, y, test_size=0.2, random_state=42)"
      ]
    },
    {
      "cell_type": "markdown",
      "id": "3430edf1",
      "metadata": {
        "id": "3430edf1"
      },
      "source": [
        "## 10. LSTM layer 구성하기\n",
        "keras에서 `Sequential` 모델을 생성한 뒤, 모델에 layer를 하나씩 넘겨주면 쉽게 구현할 수 있습니다.\n",
        "\n",
        "참고: https://tykimos.github.io/2017/04/09/RNN_Getting_Started/\n",
        "- LSTM: 출력 벡터의 차원, input shape를 넘겨주면 됩니다. 이때 `return_sequences`는 마지막 sequence에서 output을 한 번만 출력할지 여부를 결정해 줍니다. LSTM을 여러 개 쌓거나 many to many 문제를 푼다면 `True`로 지정해주면 됩니다.\n",
        "- Dropout: Overfitting 문제를 해결하기 위해 input에 dropout을 적용합니다. Dropout은 training 과정에서만 수행하고 inference 과정에서는 해제해줘야 하는데, 이후에 `model.fit()` 함수에서 자동으로 이를 해결해 줍니다.\n",
        "- Dense: Fully Connected (FC) layer를 구성합니다. 이전 layer인 LSTM layer에서 길이가 256인 벡터를 반환하므로 input shape는 자동으로 256이 됩니다. 따라서 output shape만 256으로 지정해주면 됩니다.\n",
        "- Adamax optimizer: Adam optimizer의 변형 중 하나로, time-variant한 task에서 주로 사용됩니다.\n",
        "- `model.compile`: Training을 하기에 앞서서 loss와 optimizer 등을 지정해주고, 앞서 구성한 layer들을 모두 합쳐서 모델을 구성하게 됩니다."
      ]
    },
    {
      "cell_type": "code",
      "execution_count": 35,
      "id": "70f4edbc",
      "metadata": {
        "id": "70f4edbc"
      },
      "outputs": [],
      "source": [
        "#Initialising the Model\n",
        "model = Sequential()  # Keras에서 layer를 선형으로 연결할 때 사용\n",
        "\n",
        "# 필요한 layer들을 하나하나 추가해 준다\n",
        "model.add(LSTM(512, input_shape=(X.shape[1], X.shape[2]), return_sequences=True))\n",
        "model.add(Dropout(0.1))\n",
        "model.add(LSTM(256))\n",
        "model.add(Dense(256))\n",
        "model.add(Dropout(0.1))\n",
        "model.add(Dense(y.shape[1], activation='softmax'))\n",
        "# Compiling the model for training\n",
        "opt = Adamax(learning_rate=0.01)\n",
        "model.compile(loss='categorical_crossentropy', optimizer=opt)"
      ]
    },
    {
      "cell_type": "code",
      "execution_count": 36,
      "id": "d68a53ba",
      "metadata": {
        "id": "d68a53ba",
        "colab": {
          "base_uri": "https://localhost:8080/"
        },
        "outputId": "324dbeb2-32b8-45c8-a739-e9b9c1e229be"
      },
      "outputs": [
        {
          "output_type": "stream",
          "name": "stdout",
          "text": [
            "Model: \"sequential\"\n",
            "_________________________________________________________________\n",
            " Layer (type)                Output Shape              Param #   \n",
            "=================================================================\n",
            " lstm (LSTM)                 (None, 40, 512)           1052672   \n",
            "                                                                 \n",
            " dropout (Dropout)           (None, 40, 512)           0         \n",
            "                                                                 \n",
            " lstm_1 (LSTM)               (None, 256)               787456    \n",
            "                                                                 \n",
            " dense (Dense)               (None, 256)               65792     \n",
            "                                                                 \n",
            " dropout_1 (Dropout)         (None, 256)               0         \n",
            "                                                                 \n",
            " dense_1 (Dense)             (None, 228)               58596     \n",
            "                                                                 \n",
            "=================================================================\n",
            "Total params: 1,964,516\n",
            "Trainable params: 1,964,516\n",
            "Non-trainable params: 0\n",
            "_________________________________________________________________\n"
          ]
        }
      ],
      "source": [
        "# Model's Summary               \n",
        "model.summary()"
      ]
    },
    {
      "cell_type": "markdown",
      "id": "7ae755ee",
      "metadata": {
        "id": "7ae755ee"
      },
      "source": [
        "## 11. Training\n",
        "\n",
        "혹시라도 중간에 OOM (Cuda out of memory) 오류가 난다면 런타임을 재시작하고 다시 돌리셔야 합니다. nvidia-smi 결과에서 GPU 메모리 점유율을 확인해 보세요."
      ]
    },
    {
      "cell_type": "code",
      "execution_count": 37,
      "id": "fcba2097",
      "metadata": {
        "id": "fcba2097",
        "colab": {
          "base_uri": "https://localhost:8080/"
        },
        "outputId": "33eeb266-5045-4706-b82c-6f63d3686183"
      },
      "outputs": [
        {
          "output_type": "stream",
          "name": "stdout",
          "text": [
            "Epoch 1/200\n",
            "187/187 [==============================] - 15s 41ms/step - loss: 4.5716\n",
            "Epoch 2/200\n",
            "187/187 [==============================] - 8s 41ms/step - loss: 4.5123\n",
            "Epoch 3/200\n",
            "187/187 [==============================] - 8s 41ms/step - loss: 4.4935\n",
            "Epoch 4/200\n",
            "187/187 [==============================] - 8s 41ms/step - loss: 4.4393\n",
            "Epoch 5/200\n",
            "187/187 [==============================] - 8s 41ms/step - loss: 4.4481\n",
            "Epoch 6/200\n",
            "187/187 [==============================] - 8s 41ms/step - loss: 4.4573\n",
            "Epoch 7/200\n",
            "187/187 [==============================] - 8s 43ms/step - loss: 4.4480\n",
            "Epoch 8/200\n",
            "187/187 [==============================] - 8s 44ms/step - loss: 4.4283\n",
            "Epoch 9/200\n",
            "187/187 [==============================] - 8s 43ms/step - loss: 4.4257\n",
            "Epoch 10/200\n",
            "187/187 [==============================] - 8s 43ms/step - loss: 4.4217\n",
            "Epoch 11/200\n",
            "187/187 [==============================] - 8s 44ms/step - loss: 4.4196\n",
            "Epoch 12/200\n",
            "187/187 [==============================] - 8s 44ms/step - loss: 4.4181\n",
            "Epoch 13/200\n",
            "187/187 [==============================] - 8s 43ms/step - loss: 4.4144\n",
            "Epoch 14/200\n",
            "187/187 [==============================] - 8s 44ms/step - loss: 4.4121\n",
            "Epoch 15/200\n",
            "187/187 [==============================] - 9s 46ms/step - loss: 4.4084\n",
            "Epoch 16/200\n",
            "187/187 [==============================] - 8s 45ms/step - loss: 4.4087\n",
            "Epoch 17/200\n",
            "187/187 [==============================] - 8s 43ms/step - loss: 4.4073\n",
            "Epoch 18/200\n",
            "187/187 [==============================] - 8s 43ms/step - loss: 4.4039\n",
            "Epoch 19/200\n",
            "187/187 [==============================] - 8s 44ms/step - loss: 4.4042\n",
            "Epoch 20/200\n",
            "187/187 [==============================] - 8s 43ms/step - loss: 4.4039\n",
            "Epoch 21/200\n",
            "187/187 [==============================] - 8s 45ms/step - loss: 4.4037\n",
            "Epoch 22/200\n",
            "187/187 [==============================] - 8s 45ms/step - loss: 4.4037\n",
            "Epoch 23/200\n",
            "187/187 [==============================] - 8s 45ms/step - loss: 4.4016\n",
            "Epoch 24/200\n",
            "187/187 [==============================] - 8s 45ms/step - loss: 4.4011\n",
            "Epoch 25/200\n",
            "187/187 [==============================] - 8s 45ms/step - loss: 4.4005\n",
            "Epoch 26/200\n",
            "187/187 [==============================] - 9s 46ms/step - loss: 4.3984\n",
            "Epoch 27/200\n",
            "187/187 [==============================] - 8s 45ms/step - loss: 4.3966\n",
            "Epoch 28/200\n",
            "187/187 [==============================] - 8s 45ms/step - loss: 4.3976\n",
            "Epoch 29/200\n",
            "187/187 [==============================] - 8s 45ms/step - loss: 4.3955\n",
            "Epoch 30/200\n",
            "187/187 [==============================] - 9s 45ms/step - loss: 4.3948\n",
            "Epoch 31/200\n",
            "187/187 [==============================] - 8s 45ms/step - loss: 4.3929\n",
            "Epoch 32/200\n",
            "187/187 [==============================] - 8s 45ms/step - loss: 4.3870\n",
            "Epoch 33/200\n",
            "187/187 [==============================] - 8s 45ms/step - loss: 4.3578\n",
            "Epoch 34/200\n",
            "187/187 [==============================] - 8s 45ms/step - loss: 4.3274\n",
            "Epoch 35/200\n",
            "187/187 [==============================] - 9s 46ms/step - loss: 4.3096\n",
            "Epoch 36/200\n",
            "187/187 [==============================] - 8s 44ms/step - loss: 4.3147\n",
            "Epoch 37/200\n",
            "187/187 [==============================] - 8s 44ms/step - loss: 4.3102\n",
            "Epoch 38/200\n",
            "187/187 [==============================] - 8s 44ms/step - loss: 4.2997\n",
            "Epoch 39/200\n",
            "187/187 [==============================] - 8s 45ms/step - loss: 4.2932\n",
            "Epoch 40/200\n",
            "187/187 [==============================] - 8s 45ms/step - loss: 4.2957\n",
            "Epoch 41/200\n",
            "187/187 [==============================] - 8s 45ms/step - loss: 4.2768\n",
            "Epoch 42/200\n",
            "187/187 [==============================] - 8s 45ms/step - loss: 4.2710\n",
            "Epoch 43/200\n",
            "187/187 [==============================] - 8s 45ms/step - loss: 4.2567\n",
            "Epoch 44/200\n",
            "187/187 [==============================] - 9s 46ms/step - loss: 4.2478\n",
            "Epoch 45/200\n",
            "187/187 [==============================] - 9s 47ms/step - loss: 4.2462\n",
            "Epoch 46/200\n",
            "187/187 [==============================] - 9s 46ms/step - loss: 4.2403\n",
            "Epoch 47/200\n",
            "187/187 [==============================] - 8s 45ms/step - loss: 4.2313\n",
            "Epoch 48/200\n",
            "187/187 [==============================] - 8s 44ms/step - loss: 4.2274\n",
            "Epoch 49/200\n",
            "187/187 [==============================] - 8s 45ms/step - loss: 4.2169\n",
            "Epoch 50/200\n",
            "187/187 [==============================] - 8s 45ms/step - loss: 4.2106\n",
            "Epoch 51/200\n",
            "187/187 [==============================] - 8s 45ms/step - loss: 4.1949\n",
            "Epoch 52/200\n",
            "187/187 [==============================] - 8s 44ms/step - loss: 4.1743\n",
            "Epoch 53/200\n",
            "187/187 [==============================] - 8s 44ms/step - loss: 4.1453\n",
            "Epoch 54/200\n",
            "187/187 [==============================] - 8s 44ms/step - loss: 4.1166\n",
            "Epoch 55/200\n",
            "187/187 [==============================] - 8s 45ms/step - loss: 4.0944\n",
            "Epoch 56/200\n",
            "187/187 [==============================] - 8s 45ms/step - loss: 4.0649\n",
            "Epoch 57/200\n",
            "187/187 [==============================] - 9s 46ms/step - loss: 4.0168\n",
            "Epoch 58/200\n",
            "187/187 [==============================] - 9s 47ms/step - loss: 3.9708\n",
            "Epoch 59/200\n",
            "187/187 [==============================] - 9s 46ms/step - loss: 3.9261\n",
            "Epoch 60/200\n",
            "187/187 [==============================] - 9s 46ms/step - loss: 3.8646\n",
            "Epoch 61/200\n",
            "187/187 [==============================] - 8s 45ms/step - loss: 3.7953\n",
            "Epoch 62/200\n",
            "187/187 [==============================] - 8s 45ms/step - loss: 3.7242\n",
            "Epoch 63/200\n",
            "187/187 [==============================] - 8s 45ms/step - loss: 3.6455\n",
            "Epoch 64/200\n",
            "187/187 [==============================] - 8s 45ms/step - loss: 3.5570\n",
            "Epoch 65/200\n",
            "187/187 [==============================] - 9s 46ms/step - loss: 3.4752\n",
            "Epoch 66/200\n",
            "187/187 [==============================] - 9s 46ms/step - loss: 3.3704\n",
            "Epoch 67/200\n",
            "187/187 [==============================] - 8s 45ms/step - loss: 3.2688\n",
            "Epoch 68/200\n",
            "187/187 [==============================] - 9s 47ms/step - loss: 3.1604\n",
            "Epoch 69/200\n",
            "187/187 [==============================] - 9s 47ms/step - loss: 3.0562\n",
            "Epoch 70/200\n",
            "187/187 [==============================] - 9s 46ms/step - loss: 2.9434\n",
            "Epoch 71/200\n",
            "187/187 [==============================] - 9s 47ms/step - loss: 2.8195\n",
            "Epoch 72/200\n",
            "187/187 [==============================] - 9s 46ms/step - loss: 2.7034\n",
            "Epoch 73/200\n",
            "187/187 [==============================] - 9s 46ms/step - loss: 2.5984\n",
            "Epoch 74/200\n",
            "187/187 [==============================] - 9s 46ms/step - loss: 2.4822\n",
            "Epoch 75/200\n",
            "187/187 [==============================] - 8s 45ms/step - loss: 2.3661\n",
            "Epoch 76/200\n",
            "187/187 [==============================] - 8s 45ms/step - loss: 2.2618\n",
            "Epoch 77/200\n",
            "187/187 [==============================] - 9s 46ms/step - loss: 2.1453\n",
            "Epoch 78/200\n",
            "187/187 [==============================] - 9s 46ms/step - loss: 2.0452\n",
            "Epoch 79/200\n",
            "187/187 [==============================] - 8s 45ms/step - loss: 1.9426\n",
            "Epoch 80/200\n",
            "187/187 [==============================] - 9s 46ms/step - loss: 1.8439\n",
            "Epoch 81/200\n",
            "187/187 [==============================] - 8s 45ms/step - loss: 1.7511\n",
            "Epoch 82/200\n",
            "187/187 [==============================] - 8s 45ms/step - loss: 1.6528\n",
            "Epoch 83/200\n",
            "187/187 [==============================] - 9s 46ms/step - loss: 1.5611\n",
            "Epoch 84/200\n",
            "187/187 [==============================] - 9s 46ms/step - loss: 1.4811\n",
            "Epoch 85/200\n",
            "187/187 [==============================] - 9s 46ms/step - loss: 1.3951\n",
            "Epoch 86/200\n",
            "187/187 [==============================] - 9s 46ms/step - loss: 1.3308\n",
            "Epoch 87/200\n",
            "187/187 [==============================] - 8s 45ms/step - loss: 1.2570\n",
            "Epoch 88/200\n",
            "187/187 [==============================] - 8s 45ms/step - loss: 1.1837\n",
            "Epoch 89/200\n",
            "187/187 [==============================] - 8s 45ms/step - loss: 1.1061\n",
            "Epoch 90/200\n",
            "187/187 [==============================] - 8s 45ms/step - loss: 1.0456\n",
            "Epoch 91/200\n",
            "187/187 [==============================] - 8s 45ms/step - loss: 0.9965\n",
            "Epoch 92/200\n",
            "187/187 [==============================] - 9s 46ms/step - loss: 0.9522\n",
            "Epoch 93/200\n",
            "187/187 [==============================] - 9s 47ms/step - loss: 0.8857\n",
            "Epoch 94/200\n",
            "187/187 [==============================] - 9s 46ms/step - loss: 0.8543\n",
            "Epoch 95/200\n",
            "187/187 [==============================] - 8s 45ms/step - loss: 0.8028\n",
            "Epoch 96/200\n",
            "187/187 [==============================] - 8s 45ms/step - loss: 0.7512\n",
            "Epoch 97/200\n",
            "187/187 [==============================] - 8s 45ms/step - loss: 0.7438\n",
            "Epoch 98/200\n",
            "187/187 [==============================] - 8s 45ms/step - loss: 0.7018\n",
            "Epoch 99/200\n",
            "187/187 [==============================] - 8s 45ms/step - loss: 0.6607\n",
            "Epoch 100/200\n",
            "187/187 [==============================] - 8s 45ms/step - loss: 0.6148\n",
            "Epoch 101/200\n",
            "187/187 [==============================] - 8s 45ms/step - loss: 0.5999\n",
            "Epoch 102/200\n",
            "187/187 [==============================] - 8s 45ms/step - loss: 0.5853\n",
            "Epoch 103/200\n",
            "187/187 [==============================] - 8s 45ms/step - loss: 0.5420\n",
            "Epoch 104/200\n",
            "187/187 [==============================] - 8s 44ms/step - loss: 0.5204\n",
            "Epoch 105/200\n",
            "187/187 [==============================] - 8s 44ms/step - loss: 0.5147\n",
            "Epoch 106/200\n",
            "187/187 [==============================] - 8s 44ms/step - loss: 0.4799\n",
            "Epoch 107/200\n",
            "187/187 [==============================] - 8s 45ms/step - loss: 0.4661\n",
            "Epoch 108/200\n",
            "187/187 [==============================] - 8s 45ms/step - loss: 0.4490\n",
            "Epoch 109/200\n",
            "187/187 [==============================] - 8s 45ms/step - loss: 0.4275\n",
            "Epoch 110/200\n",
            "187/187 [==============================] - 8s 45ms/step - loss: 0.4165\n",
            "Epoch 111/200\n",
            "187/187 [==============================] - 8s 45ms/step - loss: 0.4093\n",
            "Epoch 112/200\n",
            "187/187 [==============================] - 8s 45ms/step - loss: 0.3911\n",
            "Epoch 113/200\n",
            "187/187 [==============================] - 8s 45ms/step - loss: 0.3560\n",
            "Epoch 114/200\n",
            "187/187 [==============================] - 8s 45ms/step - loss: 0.3650\n",
            "Epoch 115/200\n",
            "187/187 [==============================] - 8s 45ms/step - loss: 0.3620\n",
            "Epoch 116/200\n",
            "187/187 [==============================] - 8s 45ms/step - loss: 0.3343\n",
            "Epoch 117/200\n",
            "187/187 [==============================] - 8s 45ms/step - loss: 0.3450\n",
            "Epoch 118/200\n",
            "187/187 [==============================] - 8s 45ms/step - loss: 0.3377\n",
            "Epoch 119/200\n",
            "187/187 [==============================] - 8s 45ms/step - loss: 0.3051\n",
            "Epoch 120/200\n",
            "187/187 [==============================] - 8s 45ms/step - loss: 0.3033\n",
            "Epoch 121/200\n",
            "187/187 [==============================] - 8s 45ms/step - loss: 0.3002\n",
            "Epoch 122/200\n",
            "187/187 [==============================] - 8s 45ms/step - loss: 0.2919\n",
            "Epoch 123/200\n",
            "187/187 [==============================] - 8s 45ms/step - loss: 0.2853\n",
            "Epoch 124/200\n",
            "187/187 [==============================] - 8s 45ms/step - loss: 0.2822\n",
            "Epoch 125/200\n",
            "187/187 [==============================] - 8s 44ms/step - loss: 0.2725\n",
            "Epoch 126/200\n",
            "187/187 [==============================] - 8s 45ms/step - loss: 0.2848\n",
            "Epoch 127/200\n",
            "187/187 [==============================] - 8s 45ms/step - loss: 0.2557\n",
            "Epoch 128/200\n",
            "187/187 [==============================] - 8s 44ms/step - loss: 0.2576\n",
            "Epoch 129/200\n",
            "187/187 [==============================] - 8s 45ms/step - loss: 0.2546\n",
            "Epoch 130/200\n",
            "187/187 [==============================] - 9s 46ms/step - loss: 0.2501\n",
            "Epoch 131/200\n",
            "187/187 [==============================] - 9s 47ms/step - loss: 0.2435\n",
            "Epoch 132/200\n",
            "187/187 [==============================] - 9s 46ms/step - loss: 0.2359\n",
            "Epoch 133/200\n",
            "187/187 [==============================] - 9s 46ms/step - loss: 0.2264\n",
            "Epoch 134/200\n",
            "187/187 [==============================] - 9s 46ms/step - loss: 0.2206\n",
            "Epoch 135/200\n",
            "187/187 [==============================] - 9s 46ms/step - loss: 0.2332\n",
            "Epoch 136/200\n",
            "187/187 [==============================] - 9s 47ms/step - loss: 0.2238\n",
            "Epoch 137/200\n",
            "187/187 [==============================] - 9s 47ms/step - loss: 0.2175\n",
            "Epoch 138/200\n",
            "187/187 [==============================] - 9s 46ms/step - loss: 0.2227\n",
            "Epoch 139/200\n",
            "187/187 [==============================] - 9s 47ms/step - loss: 0.2141\n",
            "Epoch 140/200\n",
            "187/187 [==============================] - 9s 46ms/step - loss: 0.2190\n",
            "Epoch 141/200\n",
            "187/187 [==============================] - 9s 47ms/step - loss: 0.2048\n",
            "Epoch 142/200\n",
            "187/187 [==============================] - 9s 46ms/step - loss: 0.2049\n",
            "Epoch 143/200\n",
            "187/187 [==============================] - 8s 45ms/step - loss: 0.1936\n",
            "Epoch 144/200\n",
            "187/187 [==============================] - 8s 45ms/step - loss: 0.1882\n",
            "Epoch 145/200\n",
            "187/187 [==============================] - 9s 46ms/step - loss: 0.1953\n",
            "Epoch 146/200\n",
            "187/187 [==============================] - 9s 48ms/step - loss: 0.1884\n",
            "Epoch 147/200\n",
            "187/187 [==============================] - 9s 46ms/step - loss: 0.1814\n",
            "Epoch 148/200\n",
            "187/187 [==============================] - 9s 47ms/step - loss: 0.1895\n",
            "Epoch 149/200\n",
            "187/187 [==============================] - 9s 46ms/step - loss: 0.1827\n",
            "Epoch 150/200\n",
            "187/187 [==============================] - 9s 46ms/step - loss: 0.1753\n",
            "Epoch 151/200\n",
            "187/187 [==============================] - 9s 47ms/step - loss: 0.1892\n",
            "Epoch 152/200\n",
            "187/187 [==============================] - 9s 47ms/step - loss: 0.1792\n",
            "Epoch 153/200\n",
            "187/187 [==============================] - 9s 46ms/step - loss: 0.1718\n",
            "Epoch 154/200\n",
            "187/187 [==============================] - 9s 46ms/step - loss: 0.1697\n",
            "Epoch 155/200\n",
            "187/187 [==============================] - 9s 47ms/step - loss: 0.1763\n",
            "Epoch 156/200\n",
            "187/187 [==============================] - 9s 46ms/step - loss: 0.1703\n",
            "Epoch 157/200\n",
            "187/187 [==============================] - 9s 46ms/step - loss: 0.1650\n",
            "Epoch 158/200\n",
            "187/187 [==============================] - 9s 47ms/step - loss: 0.1590\n",
            "Epoch 159/200\n",
            "187/187 [==============================] - 9s 46ms/step - loss: 0.1672\n",
            "Epoch 160/200\n",
            "187/187 [==============================] - 9s 47ms/step - loss: 0.1711\n",
            "Epoch 161/200\n",
            "187/187 [==============================] - 9s 47ms/step - loss: 0.1553\n",
            "Epoch 162/200\n",
            "187/187 [==============================] - 8s 45ms/step - loss: 0.1529\n",
            "Epoch 163/200\n",
            "187/187 [==============================] - 8s 45ms/step - loss: 0.1485\n",
            "Epoch 164/200\n",
            "187/187 [==============================] - 8s 45ms/step - loss: 0.1593\n",
            "Epoch 165/200\n",
            "187/187 [==============================] - 8s 45ms/step - loss: 0.1517\n",
            "Epoch 166/200\n",
            "187/187 [==============================] - 8s 45ms/step - loss: 0.1416\n",
            "Epoch 167/200\n",
            "187/187 [==============================] - 8s 45ms/step - loss: 0.1417\n",
            "Epoch 168/200\n",
            "187/187 [==============================] - 9s 47ms/step - loss: 0.1531\n",
            "Epoch 169/200\n",
            "187/187 [==============================] - 9s 46ms/step - loss: 0.1436\n",
            "Epoch 170/200\n",
            "187/187 [==============================] - 9s 46ms/step - loss: 0.1414\n",
            "Epoch 171/200\n",
            "187/187 [==============================] - 8s 45ms/step - loss: 0.1537\n",
            "Epoch 172/200\n",
            "187/187 [==============================] - 9s 47ms/step - loss: 0.1455\n",
            "Epoch 173/200\n",
            "187/187 [==============================] - 9s 46ms/step - loss: 0.1433\n",
            "Epoch 174/200\n",
            "187/187 [==============================] - 8s 45ms/step - loss: 0.1387\n",
            "Epoch 175/200\n",
            "187/187 [==============================] - 8s 45ms/step - loss: 0.1410\n",
            "Epoch 176/200\n",
            "187/187 [==============================] - 9s 46ms/step - loss: 0.1436\n",
            "Epoch 177/200\n",
            "187/187 [==============================] - 8s 45ms/step - loss: 0.1329\n",
            "Epoch 178/200\n",
            "187/187 [==============================] - 8s 45ms/step - loss: 0.1385\n",
            "Epoch 179/200\n",
            "187/187 [==============================] - 9s 45ms/step - loss: 0.1341\n",
            "Epoch 180/200\n",
            "187/187 [==============================] - 9s 46ms/step - loss: 0.1325\n",
            "Epoch 181/200\n",
            "187/187 [==============================] - 9s 46ms/step - loss: 0.1301\n",
            "Epoch 182/200\n",
            "187/187 [==============================] - 9s 46ms/step - loss: 0.1285\n",
            "Epoch 183/200\n",
            "187/187 [==============================] - 9s 46ms/step - loss: 0.1207\n",
            "Epoch 184/200\n",
            "187/187 [==============================] - 9s 47ms/step - loss: 0.1368\n",
            "Epoch 185/200\n",
            "187/187 [==============================] - 9s 47ms/step - loss: 0.1344\n",
            "Epoch 186/200\n",
            "187/187 [==============================] - 9s 46ms/step - loss: 0.1242\n",
            "Epoch 187/200\n",
            "187/187 [==============================] - 8s 45ms/step - loss: 0.1238\n",
            "Epoch 188/200\n",
            "187/187 [==============================] - 9s 45ms/step - loss: 0.1310\n",
            "Epoch 189/200\n",
            "187/187 [==============================] - 8s 45ms/step - loss: 0.1229\n",
            "Epoch 190/200\n",
            "187/187 [==============================] - 9s 46ms/step - loss: 0.1265\n",
            "Epoch 191/200\n",
            "187/187 [==============================] - 9s 47ms/step - loss: 0.1303\n",
            "Epoch 192/200\n",
            "187/187 [==============================] - 9s 47ms/step - loss: 0.1150\n",
            "Epoch 193/200\n",
            "187/187 [==============================] - 9s 46ms/step - loss: 0.1072\n",
            "Epoch 194/200\n",
            "187/187 [==============================] - 9s 47ms/step - loss: 0.1276\n",
            "Epoch 195/200\n",
            "187/187 [==============================] - 9s 46ms/step - loss: 0.1104\n",
            "Epoch 196/200\n",
            "187/187 [==============================] - 8s 45ms/step - loss: 0.1235\n",
            "Epoch 197/200\n",
            "187/187 [==============================] - 8s 45ms/step - loss: 0.1124\n",
            "Epoch 198/200\n",
            "187/187 [==============================] - 8s 45ms/step - loss: 0.1120\n",
            "Epoch 199/200\n",
            "187/187 [==============================] - 9s 46ms/step - loss: 0.1230\n",
            "Epoch 200/200\n",
            "187/187 [==============================] - 9s 46ms/step - loss: 0.1147\n"
          ]
        }
      ],
      "source": [
        "# Training the Model\n",
        "history = model.fit(X_train, y_train, batch_size=256, epochs=200)"
      ]
    },
    {
      "cell_type": "code",
      "execution_count": 38,
      "id": "5bee24e0",
      "metadata": {
        "id": "5bee24e0",
        "colab": {
          "base_uri": "https://localhost:8080/",
          "height": 325
        },
        "outputId": "051ea204-8862-4b04-ce73-2dd3ee04e650"
      },
      "outputs": [
        {
          "output_type": "execute_result",
          "data": {
            "text/plain": [
              "[Text(0.5, 0, 'Epochs')]"
            ]
          },
          "metadata": {},
          "execution_count": 38
        },
        {
          "output_type": "display_data",
          "data": {
            "text/plain": [
              "<Figure size 1080x288 with 1 Axes>"
            ],
            "image/png": "[encoded data removed]"
          },
          "metadata": {
            "image/png": {
              "width": 878,
              "height": 290
            }
          }
        }
      ],
      "source": [
        "# Plotting the learnings \n",
        "history_df = pd.DataFrame(history.history)\n",
        "fig = plt.figure(figsize=(15,4), facecolor=\"#97BACB\")\n",
        "fig.suptitle(\"Learning Plot of Model for Loss\")\n",
        "pl=sns.lineplot(data=history_df[\"loss\"],color=\"#444160\")\n",
        "pl.set(ylabel =\"Training Loss\")\n",
        "pl.set(xlabel =\"Epochs\")"
      ]
    },
    {
      "cell_type": "markdown",
      "id": "8c4d651e",
      "metadata": {
        "id": "8c4d651e"
      },
      "source": [
        "## Training이 완료된 모델로 멜로디 생성"
      ]
    },
    {
      "cell_type": "code",
      "execution_count": 39,
      "id": "50a16510",
      "metadata": {
        "id": "50a16510",
        "colab": {
          "base_uri": "https://localhost:8080/",
          "height": 542
        },
        "outputId": "d856b8a5-7471-4fea-fe18-8b77c97f40f3"
      },
      "outputs": [
        {
          "output_type": "display_data",
          "data": {
            "image/png": "[encoded data removed]",
            "text/plain": [
              "<IPython.core.display.Image object>"
            ]
          },
          "metadata": {}
        }
      ],
      "source": [
        "def Malody_Generator(Note_Count):\n",
        "    seed = X_seed[np.random.randint(0,len(X_seed)-1)]\n",
        "    Music = \"\"\n",
        "    Notes_Generated=[]\n",
        "    for i in range(Note_Count):\n",
        "        seed = seed.reshape(1,length,1)\n",
        "        prediction = model.predict(seed, verbose=0)[0]\n",
        "        prediction = np.log(prediction) / 1.0 # diversity\n",
        "        exp_preds = np.exp(prediction)\n",
        "        prediction = exp_preds / np.sum(exp_preds)\n",
        "        index = np.argmax(prediction)\n",
        "        index_N = index/ float(L_symb)   \n",
        "        Notes_Generated.append(index)\n",
        "        Music = [reverse_mapping[char] for char in Notes_Generated]\n",
        "        seed = np.insert(seed[0],len(seed[0]),index_N)\n",
        "        seed = seed[1:]\n",
        "    # Now, we have music in form or a list of chords and notes and we want to be a midi file.\n",
        "    Melody = chords_n_notes(Music)\n",
        "    Melody_midi = stream.Stream(Melody)   \n",
        "    return Music,Melody_midi\n",
        "\n",
        "\n",
        "# Getting the Notes and Melody created by the model\n",
        "Music_notes, Melody = Malody_Generator(100)\n",
        "show(Melody)"
      ]
    },
    {
      "cell_type": "code",
      "execution_count": 41,
      "id": "90b31d94",
      "metadata": {
        "id": "90b31d94",
        "colab": {
          "base_uri": "https://localhost:8080/",
          "height": 17
        },
        "outputId": "80ae19af-4f9e-4415-ccdf-36c7e5ed3ece"
      },
      "outputs": [
        {
          "output_type": "display_data",
          "data": {
            "text/plain": [
              "<IPython.core.display.Javascript object>"
            ],
            "application/javascript": [
              "\n",
              "    async function download(id, filename, size) {\n",
              "      if (!google.colab.kernel.accessAllowed) {\n",
              "        return;\n",
              "      }\n",
              "      const div = document.createElement('div');\n",
              "      const label = document.createElement('label');\n",
              "      label.textContent = `Downloading \"${filename}\": `;\n",
              "      div.appendChild(label);\n",
              "      const progress = document.createElement('progress');\n",
              "      progress.max = size;\n",
              "      div.appendChild(progress);\n",
              "      document.body.appendChild(div);\n",
              "\n",
              "      const buffers = [];\n",
              "      let downloaded = 0;\n",
              "\n",
              "      const channel = await google.colab.kernel.comms.open(id);\n",
              "      // Send a message to notify the kernel that we're ready.\n",
              "      channel.send({})\n",
              "\n",
              "      for await (const message of channel.messages) {\n",
              "        // Send a message to notify the kernel that we're ready.\n",
              "        channel.send({})\n",
              "        if (message.buffers) {\n",
              "          for (const buffer of message.buffers) {\n",
              "            buffers.push(buffer);\n",
              "            downloaded += buffer.byteLength;\n",
              "            progress.value = downloaded;\n",
              "          }\n",
              "        }\n",
              "      }\n",
              "      const blob = new Blob(buffers, {type: 'application/binary'});\n",
              "      const a = document.createElement('a');\n",
              "      a.href = window.URL.createObjectURL(blob);\n",
              "      a.download = filename;\n",
              "      div.appendChild(a);\n",
              "      a.click();\n",
              "      div.remove();\n",
              "    }\n",
              "  "
            ]
          },
          "metadata": {}
        },
        {
          "output_type": "display_data",
          "data": {
            "text/plain": [
              "<IPython.core.display.Javascript object>"
            ],
            "application/javascript": [
              "download(\"download_8666811a-9cb0-4de1-b976-57f305419cb9\", \"melody_22\\uae30_\\uc591\\uc7ac\\ud6c8.mid\", 1479)"
            ]
          },
          "metadata": {}
        }
      ],
      "source": [
        "# 생성된 멜로디를 저장 (자동으로 다운로드 되니 본인 기수, 이름만 집어넣으면 됩니다.)\n",
        "from google.colab import files\n",
        "file_name = 'melody_22기_양재훈.mid'\n",
        "Melody.write('midi', file_name)\n",
        "\n",
        "files.download(file_name)"
      ]
    },
    {
      "cell_type": "markdown",
      "id": "d9daac68",
      "metadata": {
        "id": "d9daac68"
      },
      "source": [
        "## 과제 1: 생성된 MIDI file을 mp3 파일로 변환 후 업로드\n",
        "다음 링크에서 변환 후 이 ipynb 파일과 함께 Github에 업로드 해주세요.\n",
        "https://audio.online-convert.com/convert-to-mp3"
      ]
    },
    {
      "cell_type": "markdown",
      "source": [
        "## 과제 2: RNN, LSTM 관련 간단한 문제\n",
        "\n",
        "문항이 있는 cell에 답을 바로 입력해서 같이 제출해 주시면 됩니다. [ANSWER] 토큰을 지우고 답을 적으시면 됩니다. 발제 자료에 없는 내용이 있다면 구글링을 통해 해결하시면 됩니다.\n"
      ],
      "metadata": {
        "id": "MLzmItj60zgM"
      },
      "id": "MLzmItj60zgM"
    },
    {
      "cell_type": "markdown",
      "source": [
        "## Question 1 (True / False)\n",
        "1. RNN에 hidden layer를 더 많이 추가하면 vanishing gradient 문제를 해결할 수 있다: False <br/> vanishing gradient problem은 backpropagation 중 똑같은 Whh를 repeatedly multiplication 때문에 발생한 것이여서 hidden layer를 추가한다고 해결할 수 없다.\n",
        "\n",
        "2. RNN에서 L2-regularization을 추가하면 vanishing gradient 문제를 해결할 수 있다: False <br/> L2-regularization은 overfitting을 방지하기 위해 theta에 penalty를 부과한 것이기 때문에 exploding gradient를 해결할 수는 있지만 vanishing을 해결할 수는 없다."
      ],
      "metadata": {
        "id": "vJlV1Dj-dmLE"
      },
      "id": "vJlV1Dj-dmLE"
    },
    {
      "cell_type": "markdown",
      "source": [
        "## Question 2 (Long answer)\n",
        "\n",
        "[참고] 장문의 답변을 쓸 필요는 없습니다. 핵심만 간단하게 서술하셔도 됩니다. \n",
        "\n",
        "1. RNN과 기존의 MLP, CNN 모델의 차이점을 서술하시오: </br> 기존의 MLP, CNN model은 input, output size가 고정되어 있었다. 이런 형태의 model은 vision과 같은 분야의 tasks를 풀때는 도움이 되지만 NLP task에는 제한적이다. RNN은 input size가 flexible하고 hidden states를 두어 이전의 input(t-k)를 기억해서 context를 고려할 수 있는 구조이다.\n",
        "\n",
        "2. RNN에서 activation function으로 `tanh`를 사용하는 이유를 서술하시오: </br> 다른 대표적인 activation functions과 비교해서 설명하는게 쉬울 듯하다. 우선 sigmoid 대신 tanh를 사용하는 이유는 역전파에 더 강하여 vanishing gradient problem을 줄여주기 때문이다. 그리고 ReLU를 사용하지 않는 이유는 기울기가 0 아니면 1이가 때문에 exploding gradient가 발생한다. 따라서 RNN의 activation function으로 tanh를 사용한다.\n",
        "\n",
        "2. RNN에서 hidden state가 하는 역할이 무엇인가요?: </br> memory의 역할을 한다. 현재 input의 hidden state는 next hidden state를 만들 때 사용된다.\n",
        "\n",
        "3. RNN에서 일어나는 vanishing gradient 문제가 무엇인지, 그리고 그 원인이 무엇인지 설명하시오: </br> vanishing gradient problem은 RNN의 optimization 과정인 BPTT(Backpropagation through time)에서 max sequence length에 가까운 loss에 대한 gradient가 손실되는 현상을 나타내는 것입니다. 그 원인은 BPTT 와중에 activation function을 tanh로 가정하면 이 함수의 gradient는 1 보다 작기 때문에 반복적으로 multiplication이 발생하면 0으로 값이 0으로 수렴한다.\n",
        "\n",
        "4. (Open question) RNN 모델들은 앞에서 들어온 내용들을 보고 다음을 예측하는 방식으로 동작합니다. 그러나 sequence에서 앞부분만이 아니라 뒷부분의 내용을 참고해서 output을 만들어내야 하는 경우가 있습니다. 이처럼 뒷부분 내용을 반영하여 sequence를 처리하는 모델의 구조를 생각하고 간단하게 설명해 보세요: </br> Hint: Bidirectional LSTM 키워드로 구글링</br> hidden state의 종류를 2가지로 두어 prediction 하는 것입니다. forward hidden state는 기존의 LSTM처럼 학습하고 backward hidden state는 역순으로 학습하는 것입니다. 따라서 real hidden state는 fw hidden state와 bw hidden state를 concatenate 해서 만들고 이를 이용해 prediction 하면 좋을 것 같습니다.\n",
        "\n"
      ],
      "metadata": {
        "id": "lwkJVA5geXKJ"
      },
      "id": "lwkJVA5geXKJ"
    },
    {
      "cell_type": "markdown",
      "source": [
        "# Submission format\n",
        "1. RNN_22기_XXX.ipynb (과제 2, 3에 대한 답도 같이 포함)\n",
        "2. melody_22기_XXX.mp3"
      ],
      "metadata": {
        "id": "6xT0onOH2jh6"
      },
      "id": "6xT0onOH2jh6"
    },
    {
      "cell_type": "markdown",
      "source": [
        "## Question 3 (Optional)\n",
        "## Pytorch로 RNN 구현해보기"
      ],
      "metadata": {
        "id": "yMqVz4Xcy7zU"
      },
      "id": "yMqVz4Xcy7zU"
    },
    {
      "cell_type": "code",
      "source": [
        "import numpy as np\n",
        "import random\n",
        "import torch\n",
        "import torch.nn as nn\n",
        "import torch.optim as optim\n",
        "from torch.utils.data import Dataset, DataLoader"
      ],
      "metadata": {
        "id": "aPXeRAFHzJRp"
      },
      "id": "aPXeRAFHzJRp",
      "execution_count": 42,
      "outputs": []
    },
    {
      "cell_type": "markdown",
      "source": [
        "## 1. RNN 구현\n",
        "Pytorch로 neural network 모델을 구현할 때에는 `nn.Module`을 상속받아서 구현하게 됩니다. \n",
        "\n",
        "### [참고] 객체지향 개념을 잘 모른다면?\n",
        "객체지향 개념을 잘 모르신다면 <b>상속</b>이란 상속을 받은 클래스 (여기서는 CustomRNN)가 부모 클래스 (`nn.Module`)의 멤버 변수와 메소드를 그대로 넘겨받아 필요에 맞게 재정의하거나 기타 필요한 기능들을 추가해서 사용하는 행위로 쉽게 이해하시면 됩니다. 이를 통해 코드의 중복도를 낮추고 보다 효율적인 설계를 할 수 있습니다. \n",
        "\n",
        "예를 들어서 `nn.Module` 클래스를 상속받아 만든 모든 클래스들은 `__init()__` 생성자와 `forward()` 메소드를 구현함으로써 모든 neural network가 high level에서는 동일한 동작을 함을 보장할 수 있습니다.\n",
        "\n",
        "만약 상속 기능을 사용하지 않는다면 모델을 training하는 코드, inference를 하는 코드 등을 neural network 종류마다 새로 짜야 하므로 복잡해집니다.\n",
        "\n",
        "### 구현 관련 배경지식\n",
        "`nn.Module` 클래스를 상속받으면 `__init__()` 생성자와 `forward()` 메소드를 구현해야 합니다. 생성자에서는 모델에서 사용할 기본적인 멤버 변수들을 초기화하게 됩니다. 여기서 멤버 변수로는 크게 두 가지가 있습니다.\n",
        "1. 모델 아키텍쳐와 관련된 dimension들 (각각의 의미는 발제 PPT 참고)\n",
        " - Input vector의 길이\n",
        " - Hidden layer의 길이\n",
        " - Output vector의 길이\n",
        " - Batch size\n",
        "\n",
        "\n",
        "2. 모델에서 사용될 layer들\n",
        " - Pytorch의 `nn` module에서는 neural network에서 사용되는 다양한 layer를 미리 구현해 두었습니다. Convolution layer, pooling layer, linear layer 등이 정의되어 있어서 복잡한 연산을 직접 구현할 필요가 없습니다. 본 과제에서는 해당 layer를 쌓아서 RNN을 구현한다고 보시면 됩니다.\n",
        " - 본 과제에서는 Linear layer만 활용하면 됩니다. 이는 MLP 세션에서 배운 fully connected layer와 같습니다. FC layer이므로 input, output의 size와 bias 사용 유무만 정의해주면 됩니다. https://pytorch.org/docs/stable/generated/torch.nn.Linear.html#torch.nn.Linear\n",
        "\n",
        "\n",
        "생성자를 정의했으면 `forward()` 함수를 정의할 차례입니다. `forward()` 메소드가 모델 구현에서 핵심입니다. 이 메소드는 모델에 input data를 집어넣으면 자동으로 호출되고 argument로 input이 전달됩니다. 앞서 정의한 layer들을 잘 호출해서 메소드를 구현하시면 됩니다.\n",
        "\n",
        "\n",
        "*Backward pass는 모델 train을 할 때 `backward()`가 알아서 해주기 때문에 `forward()`만 정의하는 것입니다."
      ],
      "metadata": {
        "id": "d8mdxxwVzQaJ"
      },
      "id": "d8mdxxwVzQaJ"
    },
    {
      "cell_type": "code",
      "source": [
        "# nn.Module을 상속받아서 CustomRNN class 정의\n",
        "\n",
        "class CustomRNN(nn.Module):\n",
        "    \"\"\"\n",
        "    RNN basic block\n",
        "    \"\"\"\n",
        "    def __init__(self, input_size, hidden_size, output_size):\n",
        "        \"\"\"\n",
        "        input_size: Input vector 길이\n",
        "        hidden_size: Hidden state vector 길이\n",
        "        output_size: Output vector 길이\n",
        "        \"\"\"\n",
        "        super().__init__()\n",
        "        self.input_size = input_size\n",
        "        self.hidden_size = hidden_size\n",
        "        self.output_size = output_size\n",
        "\n",
        "        self.W_xh = nn.Linear(input_size, hidden_size, bias=False)\n",
        "        self.W_hh = nn.Linear(hidden_size, hidden_size, bias=False)\n",
        "        self.W_hy = nn.Linear(hidden_size, output_size, bias=False)\n",
        "\n",
        "    def forward(self, x, hidden_state):\n",
        "        W_xh_x = self.W_xh(x)  # W_xh weight에 input x를 곱해준 결과\n",
        "        W_hh_x = self.W_hh(hidden_state)\n",
        "        hidden_state = nn.Tahn(W_xh_x + W_hh_x)\n",
        "        output = self.W_hy(hidden_state)\n",
        "        return output, hidden_state\n",
        "        "
      ],
      "metadata": {
        "id": "0o-orwWRIXd-"
      },
      "id": "0o-orwWRIXd-",
      "execution_count": 49,
      "outputs": []
    },
    {
      "cell_type": "markdown",
      "source": [
        "## 2. 아래 코드에서 Correct가 나오면 완료입니다."
      ],
      "metadata": {
        "id": "WlOKWj_0zZqW"
      },
      "id": "WlOKWj_0zZqW"
    },
    {
      "cell_type": "code",
      "source": [
        "model = CustomRNN(5, 6, 7)\n",
        "model_str = str(model).splitlines()\n",
        "\n",
        "import numpy\n",
        "stack = []\n",
        "for i in range(1, 4):\n",
        "    stack.append(int(model_str[i][29]))\n",
        "    stack.append(int(model_str[i][45]))\n",
        "\n",
        "prod = numpy.prod(stack)\n",
        "\n",
        "if prod == 45360:\n",
        "    print(\"Correct!!!\")\n",
        "else:\n",
        "    print(\"Incorrect...\")"
      ],
      "metadata": {
        "id": "5hcu_-zazbhO",
        "colab": {
          "base_uri": "https://localhost:8080/"
        },
        "outputId": "90e64cbd-6d6c-48e6-a9af-70004bf1afa2"
      },
      "id": "5hcu_-zazbhO",
      "execution_count": 50,
      "outputs": [
        {
          "output_type": "stream",
          "name": "stdout",
          "text": [
            "Correct!!!\n"
          ]
        }
      ]
    }
  ],
  "metadata": {
    "kernelspec": {
      "display_name": "Full on Python 3.7 (GPU)",
      "language": "python",
      "name": "python3"
    },
    "language_info": {
      "codemirror_mode": {
        "name": "ipython",
        "version": 3
      },
      "file_extension": ".py",
      "mimetype": "text/x-python",
      "name": "python",
      "nbconvert_exporter": "python",
      "pygments_lexer": "ipython3",
      "version": "3.7.11"
    },
    "colab": {
      "provenance": [],
      "include_colab_link": true
    },
    "accelerator": "GPU",
    "gpuClass": "standard"
  },
  "nbformat": 4,
  "nbformat_minor": 5
}
