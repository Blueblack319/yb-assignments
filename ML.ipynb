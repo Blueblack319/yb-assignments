{
  "nbformat": 4,
  "nbformat_minor": 0,
  "metadata": {
    "colab": {
      "provenance": [],
      "include_colab_link": true
    },
    "kernelspec": {
      "name": "python3",
      "display_name": "Python 3"
    },
    "language_info": {
      "name": "python"
    }
  },
  "cells": [
    {
      "cell_type": "markdown",
      "metadata": {
        "id": "view-in-github",
        "colab_type": "text"
      },
      "source": [
        "<a href=\"https://colab.research.google.com/github/Blueblack319/yb-assignments/blob/main/ML.ipynb\" target=\"_parent\"><img src=\"https://colab.research.google.com/assets/colab-badge.svg\" alt=\"Open In Colab\"/></a>"
      ]
    },
    {
      "cell_type": "markdown",
      "source": [
        "실습 및 과제에 해당하는 내용은 [파이썬 머신러닝 완벽가이드]와 kaggle에서 참고했습니다.\n",
        "\n",
        "kaggle 링크 : https://www.kaggle.com/competitions/bike-sharing-demand/data"
      ],
      "metadata": {
        "id": "cP_K39J9V4AO"
      }
    },
    {
      "cell_type": "code",
      "source": [
        "from google.colab import drive\n",
        "drive.mount('/content/drive')"
      ],
      "metadata": {
        "colab": {
          "base_uri": "https://localhost:8080/"
        },
        "id": "FsUkrQzwDjBT",
        "outputId": "16c6b745-1d5f-4ac8-a9c7-90eadd2e1a9b"
      },
      "execution_count": 1,
      "outputs": [
        {
          "output_type": "stream",
          "name": "stdout",
          "text": [
            "Mounted at /content/drive\n"
          ]
        }
      ]
    },
    {
      "cell_type": "code",
      "execution_count": 2,
      "metadata": {
        "id": "kYeGkKxu862E"
      },
      "outputs": [],
      "source": [
        "import numpy as np\n",
        "import pandas as pd\n",
        "import seaborn as sns\n",
        "import matplotlib.pyplot as plt\n",
        "\n",
        "%matplotlib inline\n",
        "\n",
        "import warnings\n",
        "warnings.filterwarnings(\"ignore\", category=RuntimeWarning)"
      ]
    },
    {
      "cell_type": "markdown",
      "source": [
        "# **데이터 설명**\n",
        "*   datetime : hourly date + timetstamp\n",
        "*   season : 1 = 봄, 2 = 여름, 3 = 가을, 4 = 겨울\n",
        "*   holiday : 1 = 토, 일요일의 주말을 제외한 국격일 등의 휴일, 0 =휴일이 아닌 날\n",
        "*   workingday : 1 = 토, 일요일의 주말 및 휴일이 아닌 주중, 0 = 주말 및 휴일\n",
        "*   weather : 1 = 맑음, 약간 구름낀 흐림, 2 = 안개, 안개 + 흐림, 3 = 가벼운 눈, 가벼운 비 + 천둥, 4 = 심한 눈/비, 천둥/번개\n",
        "*   temp : 온도(섭씨)\n",
        "*   atemp :체감온도(섭씨)\n",
        "*   humidity : 상대 습도\n",
        "*   windspeed : 풍속\n",
        "*   casual : 사전에 등록되지 않는 사용자가 대여한 횟수\n",
        "*   registered : 사전에 등록된 사용자가 대여한 횟수\n",
        "*   count : 대여 횟수"
      ],
      "metadata": {
        "id": "mUXYq_F1MDgL"
      }
    },
    {
      "cell_type": "markdown",
      "source": [
        "# 데이터 불러오기"
      ],
      "metadata": {
        "id": "X_VzaAuXNZbq"
      }
    },
    {
      "cell_type": "code",
      "source": [
        "bike_df = pd.read_csv('/content/drive/MyDrive/Colab Notebooks/YBIGTA/ML/bike_train.csv')\n",
        "print(bike_df.shape)\n",
        "bike_df.head()"
      ],
      "metadata": {
        "colab": {
          "base_uri": "https://localhost:8080/",
          "height": 224
        },
        "id": "g45qHgelC0Rn",
        "outputId": "cfc3e893-2865-46e5-9f6c-232ca8b6fcf8"
      },
      "execution_count": 82,
      "outputs": [
        {
          "output_type": "stream",
          "name": "stdout",
          "text": [
            "(10886, 12)\n"
          ]
        },
        {
          "output_type": "execute_result",
          "data": {
            "text/plain": [
              "              datetime  season  holiday  workingday  weather  temp   atemp  \\\n",
              "0  2011-01-01 00:00:00       1        0           0        1  9.84  14.395   \n",
              "1  2011-01-01 01:00:00       1        0           0        1  9.02  13.635   \n",
              "2  2011-01-01 02:00:00       1        0           0        1  9.02  13.635   \n",
              "3  2011-01-01 03:00:00       1        0           0        1  9.84  14.395   \n",
              "4  2011-01-01 04:00:00       1        0           0        1  9.84  14.395   \n",
              "\n",
              "   humidity  windspeed  casual  registered  count  \n",
              "0        81        0.0       3          13     16  \n",
              "1        80        0.0       8          32     40  \n",
              "2        80        0.0       5          27     32  \n",
              "3        75        0.0       3          10     13  \n",
              "4        75        0.0       0           1      1  "
            ],
            "text/html": [
              "\n",
              "  <div id=\"df-1b303c91-d5fa-4709-8b89-bed241e03e75\">\n",
              "    <div class=\"colab-df-container\">\n",
              "      <div>\n",
              "<style scoped>\n",
              "    .dataframe tbody tr th:only-of-type {\n",
              "        vertical-align: middle;\n",
              "    }\n",
              "\n",
              "    .dataframe tbody tr th {\n",
              "        vertical-align: top;\n",
              "    }\n",
              "\n",
              "    .dataframe thead th {\n",
              "        text-align: right;\n",
              "    }\n",
              "</style>\n",
              "<table border=\"1\" class=\"dataframe\">\n",
              "  <thead>\n",
              "    <tr style=\"text-align: right;\">\n",
              "      <th></th>\n",
              "      <th>datetime</th>\n",
              "      <th>season</th>\n",
              "      <th>holiday</th>\n",
              "      <th>workingday</th>\n",
              "      <th>weather</th>\n",
              "      <th>temp</th>\n",
              "      <th>atemp</th>\n",
              "      <th>humidity</th>\n",
              "      <th>windspeed</th>\n",
              "      <th>casual</th>\n",
              "      <th>registered</th>\n",
              "      <th>count</th>\n",
              "    </tr>\n",
              "  </thead>\n",
              "  <tbody>\n",
              "    <tr>\n",
              "      <th>0</th>\n",
              "      <td>2011-01-01 00:00:00</td>\n",
              "      <td>1</td>\n",
              "      <td>0</td>\n",
              "      <td>0</td>\n",
              "      <td>1</td>\n",
              "      <td>9.84</td>\n",
              "      <td>14.395</td>\n",
              "      <td>81</td>\n",
              "      <td>0.0</td>\n",
              "      <td>3</td>\n",
              "      <td>13</td>\n",
              "      <td>16</td>\n",
              "    </tr>\n",
              "    <tr>\n",
              "      <th>1</th>\n",
              "      <td>2011-01-01 01:00:00</td>\n",
              "      <td>1</td>\n",
              "      <td>0</td>\n",
              "      <td>0</td>\n",
              "      <td>1</td>\n",
              "      <td>9.02</td>\n",
              "      <td>13.635</td>\n",
              "      <td>80</td>\n",
              "      <td>0.0</td>\n",
              "      <td>8</td>\n",
              "      <td>32</td>\n",
              "      <td>40</td>\n",
              "    </tr>\n",
              "    <tr>\n",
              "      <th>2</th>\n",
              "      <td>2011-01-01 02:00:00</td>\n",
              "      <td>1</td>\n",
              "      <td>0</td>\n",
              "      <td>0</td>\n",
              "      <td>1</td>\n",
              "      <td>9.02</td>\n",
              "      <td>13.635</td>\n",
              "      <td>80</td>\n",
              "      <td>0.0</td>\n",
              "      <td>5</td>\n",
              "      <td>27</td>\n",
              "      <td>32</td>\n",
              "    </tr>\n",
              "    <tr>\n",
              "      <th>3</th>\n",
              "      <td>2011-01-01 03:00:00</td>\n",
              "      <td>1</td>\n",
              "      <td>0</td>\n",
              "      <td>0</td>\n",
              "      <td>1</td>\n",
              "      <td>9.84</td>\n",
              "      <td>14.395</td>\n",
              "      <td>75</td>\n",
              "      <td>0.0</td>\n",
              "      <td>3</td>\n",
              "      <td>10</td>\n",
              "      <td>13</td>\n",
              "    </tr>\n",
              "    <tr>\n",
              "      <th>4</th>\n",
              "      <td>2011-01-01 04:00:00</td>\n",
              "      <td>1</td>\n",
              "      <td>0</td>\n",
              "      <td>0</td>\n",
              "      <td>1</td>\n",
              "      <td>9.84</td>\n",
              "      <td>14.395</td>\n",
              "      <td>75</td>\n",
              "      <td>0.0</td>\n",
              "      <td>0</td>\n",
              "      <td>1</td>\n",
              "      <td>1</td>\n",
              "    </tr>\n",
              "  </tbody>\n",
              "</table>\n",
              "</div>\n",
              "      <button class=\"colab-df-convert\" onclick=\"convertToInteractive('df-1b303c91-d5fa-4709-8b89-bed241e03e75')\"\n",
              "              title=\"Convert this dataframe to an interactive table.\"\n",
              "              style=\"display:none;\">\n",
              "        \n",
              "  <svg xmlns=\"http://www.w3.org/2000/svg\" height=\"24px\"viewBox=\"0 0 24 24\"\n",
              "       width=\"24px\">\n",
              "    <path d=\"M0 0h24v24H0V0z\" fill=\"none\"/>\n",
              "    <path d=\"M18.56 5.44l.94 2.06.94-2.06 2.06-.94-2.06-.94-.94-2.06-.94 2.06-2.06.94zm-11 1L8.5 8.5l.94-2.06 2.06-.94-2.06-.94L8.5 2.5l-.94 2.06-2.06.94zm10 10l.94 2.06.94-2.06 2.06-.94-2.06-.94-.94-2.06-.94 2.06-2.06.94z\"/><path d=\"M17.41 7.96l-1.37-1.37c-.4-.4-.92-.59-1.43-.59-.52 0-1.04.2-1.43.59L10.3 9.45l-7.72 7.72c-.78.78-.78 2.05 0 2.83L4 21.41c.39.39.9.59 1.41.59.51 0 1.02-.2 1.41-.59l7.78-7.78 2.81-2.81c.8-.78.8-2.07 0-2.86zM5.41 20L4 18.59l7.72-7.72 1.47 1.35L5.41 20z\"/>\n",
              "  </svg>\n",
              "      </button>\n",
              "      \n",
              "  <style>\n",
              "    .colab-df-container {\n",
              "      display:flex;\n",
              "      flex-wrap:wrap;\n",
              "      gap: 12px;\n",
              "    }\n",
              "\n",
              "    .colab-df-convert {\n",
              "      background-color: #E8F0FE;\n",
              "      border: none;\n",
              "      border-radius: 50%;\n",
              "      cursor: pointer;\n",
              "      display: none;\n",
              "      fill: #1967D2;\n",
              "      height: 32px;\n",
              "      padding: 0 0 0 0;\n",
              "      width: 32px;\n",
              "    }\n",
              "\n",
              "    .colab-df-convert:hover {\n",
              "      background-color: #E2EBFA;\n",
              "      box-shadow: 0px 1px 2px rgba(60, 64, 67, 0.3), 0px 1px 3px 1px rgba(60, 64, 67, 0.15);\n",
              "      fill: #174EA6;\n",
              "    }\n",
              "\n",
              "    [theme=dark] .colab-df-convert {\n",
              "      background-color: #3B4455;\n",
              "      fill: #D2E3FC;\n",
              "    }\n",
              "\n",
              "    [theme=dark] .colab-df-convert:hover {\n",
              "      background-color: #434B5C;\n",
              "      box-shadow: 0px 1px 3px 1px rgba(0, 0, 0, 0.15);\n",
              "      filter: drop-shadow(0px 1px 2px rgba(0, 0, 0, 0.3));\n",
              "      fill: #FFFFFF;\n",
              "    }\n",
              "  </style>\n",
              "\n",
              "      <script>\n",
              "        const buttonEl =\n",
              "          document.querySelector('#df-1b303c91-d5fa-4709-8b89-bed241e03e75 button.colab-df-convert');\n",
              "        buttonEl.style.display =\n",
              "          google.colab.kernel.accessAllowed ? 'block' : 'none';\n",
              "\n",
              "        async function convertToInteractive(key) {\n",
              "          const element = document.querySelector('#df-1b303c91-d5fa-4709-8b89-bed241e03e75');\n",
              "          const dataTable =\n",
              "            await google.colab.kernel.invokeFunction('convertToInteractive',\n",
              "                                                     [key], {});\n",
              "          if (!dataTable) return;\n",
              "\n",
              "          const docLinkHtml = 'Like what you see? Visit the ' +\n",
              "            '<a target=\"_blank\" href=https://colab.research.google.com/notebooks/data_table.ipynb>data table notebook</a>'\n",
              "            + ' to learn more about interactive tables.';\n",
              "          element.innerHTML = '';\n",
              "          dataTable['output_type'] = 'display_data';\n",
              "          await google.colab.output.renderOutput(dataTable, element);\n",
              "          const docLink = document.createElement('div');\n",
              "          docLink.innerHTML = docLinkHtml;\n",
              "          element.appendChild(docLink);\n",
              "        }\n",
              "      </script>\n",
              "    </div>\n",
              "  </div>\n",
              "  "
            ]
          },
          "metadata": {},
          "execution_count": 82
        }
      ]
    },
    {
      "cell_type": "code",
      "source": [
        "bike_df.info()"
      ],
      "metadata": {
        "colab": {
          "base_uri": "https://localhost:8080/"
        },
        "id": "b2Pd2r6XDAS9",
        "outputId": "c9d9814a-f075-4f93-99a4-4719bc6aa54f"
      },
      "execution_count": 83,
      "outputs": [
        {
          "output_type": "stream",
          "name": "stdout",
          "text": [
            "<class 'pandas.core.frame.DataFrame'>\n",
            "RangeIndex: 10886 entries, 0 to 10885\n",
            "Data columns (total 12 columns):\n",
            " #   Column      Non-Null Count  Dtype  \n",
            "---  ------      --------------  -----  \n",
            " 0   datetime    10886 non-null  object \n",
            " 1   season      10886 non-null  int64  \n",
            " 2   holiday     10886 non-null  int64  \n",
            " 3   workingday  10886 non-null  int64  \n",
            " 4   weather     10886 non-null  int64  \n",
            " 5   temp        10886 non-null  float64\n",
            " 6   atemp       10886 non-null  float64\n",
            " 7   humidity    10886 non-null  int64  \n",
            " 8   windspeed   10886 non-null  float64\n",
            " 9   casual      10886 non-null  int64  \n",
            " 10  registered  10886 non-null  int64  \n",
            " 11  count       10886 non-null  int64  \n",
            "dtypes: float64(3), int64(8), object(1)\n",
            "memory usage: 1020.7+ KB\n"
          ]
        }
      ]
    },
    {
      "cell_type": "markdown",
      "source": [
        "# Feature Engineering"
      ],
      "metadata": {
        "id": "I8bGGDXyNeK9"
      }
    },
    {
      "cell_type": "markdown",
      "source": [
        "기본으로 주어진 FE이외에 추가로 진행하셔도 됩니다!"
      ],
      "metadata": {
        "id": "YNrUOeG-Vv48"
      }
    },
    {
      "cell_type": "code",
      "source": [
        "# bike_df['atemp'].hist()/\n",
        "# bike_df['workingday'].hist()\n",
        "bike_df['humidity'].hist()"
      ],
      "metadata": {
        "colab": {
          "base_uri": "https://localhost:8080/",
          "height": 283
        },
        "id": "3z444Fn9I31x",
        "outputId": "1397f3f1-9a59-4f04-80ed-fe7ade4dac00"
      },
      "execution_count": 77,
      "outputs": [
        {
          "output_type": "execute_result",
          "data": {
            "text/plain": [
              "<matplotlib.axes._subplots.AxesSubplot at 0x7f5927fa7bb0>"
            ]
          },
          "metadata": {},
          "execution_count": 77
        },
        {
          "output_type": "display_data",
          "data": {
            "text/plain": [
              "<Figure size 432x288 with 1 Axes>"
            ],
            "image/png": "[encoded data removed]"
          },
          "metadata": {
            "needs_background": "light"
          }
        }
      ]
    },
    {
      "cell_type": "code",
      "source": [
        "len(bike_df[bike_df['atemp'] < 10])\n",
        "len(bike_df[bike_df['atemp'] > 37])\n"
      ],
      "metadata": {
        "colab": {
          "base_uri": "https://localhost:8080/"
        },
        "id": "bzEu75e8Jx-z",
        "outputId": "b72f039a-b3cd-4368-b235-60577d2245b4"
      },
      "execution_count": 52,
      "outputs": [
        {
          "output_type": "execute_result",
          "data": {
            "text/plain": [
              "505"
            ]
          },
          "metadata": {},
          "execution_count": 52
        }
      ]
    },
    {
      "cell_type": "code",
      "source": [
        "len(bike_df[bike_df['humidity'] < 27])\n",
        "len(bike_df[bike_df['humidity'] > 90])"
      ],
      "metadata": {
        "colab": {
          "base_uri": "https://localhost:8080/"
        },
        "id": "7yxuAyvQPfpV",
        "outputId": "db85cbad-93aa-4469-cb61-1c8863e92c4e"
      },
      "execution_count": 80,
      "outputs": [
        {
          "output_type": "execute_result",
          "data": {
            "text/plain": [
              "682"
            ]
          },
          "metadata": {},
          "execution_count": 80
        }
      ]
    },
    {
      "cell_type": "code",
      "source": [
        "# 문자열을 datetime 타입으로 변경\n",
        "bike_df['datetime'] = bike_df.datetime.apply(pd.to_datetime)\n",
        "\n",
        "# datetime 타입에서 년, 월, 일, 시간 추출\n",
        "bike_df['year'] = bike_df.datetime.apply(lambda x : x.year)\n",
        "bike_df['month'] = bike_df.datetime.apply(lambda x : x.month)\n",
        "bike_df['day'] = bike_df.datetime.apply(lambda x : x.day)\n",
        "bike_df['hour'] = bike_df.datetime.apply(lambda x : x.hour)\n",
        "bike_df['good_atemp'] = bike_df.atemp.apply(lambda x: 1 if x > 10 and x < 37 else 0)\n",
        "bike_df['good_humidity'] = bike_df.atemp.apply(lambda x: 1 if x > 27 and x < 90 else 0)\n",
        "bike_df.head(3)"
      ],
      "metadata": {
        "colab": {
          "base_uri": "https://localhost:8080/",
          "height": 143
        },
        "id": "DhzZ9wxIEdis",
        "outputId": "231f4628-02ba-4344-c730-a5130ac04b55"
      },
      "execution_count": 84,
      "outputs": [
        {
          "output_type": "execute_result",
          "data": {
            "text/plain": [
              "             datetime  season  holiday  workingday  weather  temp   atemp  \\\n",
              "0 2011-01-01 00:00:00       1        0           0        1  9.84  14.395   \n",
              "1 2011-01-01 01:00:00       1        0           0        1  9.02  13.635   \n",
              "2 2011-01-01 02:00:00       1        0           0        1  9.02  13.635   \n",
              "\n",
              "   humidity  windspeed  casual  registered  count  year  month  day  hour  \\\n",
              "0        81        0.0       3          13     16  2011      1    1     0   \n",
              "1        80        0.0       8          32     40  2011      1    1     1   \n",
              "2        80        0.0       5          27     32  2011      1    1     2   \n",
              "\n",
              "   good_atemp  good_humidity  \n",
              "0           1              0  \n",
              "1           1              0  \n",
              "2           1              0  "
            ],
            "text/html": [
              "\n",
              "  <div id=\"df-45f4fb11-3eb4-49fc-b559-169cfa7ab120\">\n",
              "    <div class=\"colab-df-container\">\n",
              "      <div>\n",
              "<style scoped>\n",
              "    .dataframe tbody tr th:only-of-type {\n",
              "        vertical-align: middle;\n",
              "    }\n",
              "\n",
              "    .dataframe tbody tr th {\n",
              "        vertical-align: top;\n",
              "    }\n",
              "\n",
              "    .dataframe thead th {\n",
              "        text-align: right;\n",
              "    }\n",
              "</style>\n",
              "<table border=\"1\" class=\"dataframe\">\n",
              "  <thead>\n",
              "    <tr style=\"text-align: right;\">\n",
              "      <th></th>\n",
              "      <th>datetime</th>\n",
              "      <th>season</th>\n",
              "      <th>holiday</th>\n",
              "      <th>workingday</th>\n",
              "      <th>weather</th>\n",
              "      <th>temp</th>\n",
              "      <th>atemp</th>\n",
              "      <th>humidity</th>\n",
              "      <th>windspeed</th>\n",
              "      <th>casual</th>\n",
              "      <th>registered</th>\n",
              "      <th>count</th>\n",
              "      <th>year</th>\n",
              "      <th>month</th>\n",
              "      <th>day</th>\n",
              "      <th>hour</th>\n",
              "      <th>good_atemp</th>\n",
              "      <th>good_humidity</th>\n",
              "    </tr>\n",
              "  </thead>\n",
              "  <tbody>\n",
              "    <tr>\n",
              "      <th>0</th>\n",
              "      <td>2011-01-01 00:00:00</td>\n",
              "      <td>1</td>\n",
              "      <td>0</td>\n",
              "      <td>0</td>\n",
              "      <td>1</td>\n",
              "      <td>9.84</td>\n",
              "      <td>14.395</td>\n",
              "      <td>81</td>\n",
              "      <td>0.0</td>\n",
              "      <td>3</td>\n",
              "      <td>13</td>\n",
              "      <td>16</td>\n",
              "      <td>2011</td>\n",
              "      <td>1</td>\n",
              "      <td>1</td>\n",
              "      <td>0</td>\n",
              "      <td>1</td>\n",
              "      <td>0</td>\n",
              "    </tr>\n",
              "    <tr>\n",
              "      <th>1</th>\n",
              "      <td>2011-01-01 01:00:00</td>\n",
              "      <td>1</td>\n",
              "      <td>0</td>\n",
              "      <td>0</td>\n",
              "      <td>1</td>\n",
              "      <td>9.02</td>\n",
              "      <td>13.635</td>\n",
              "      <td>80</td>\n",
              "      <td>0.0</td>\n",
              "      <td>8</td>\n",
              "      <td>32</td>\n",
              "      <td>40</td>\n",
              "      <td>2011</td>\n",
              "      <td>1</td>\n",
              "      <td>1</td>\n",
              "      <td>1</td>\n",
              "      <td>1</td>\n",
              "      <td>0</td>\n",
              "    </tr>\n",
              "    <tr>\n",
              "      <th>2</th>\n",
              "      <td>2011-01-01 02:00:00</td>\n",
              "      <td>1</td>\n",
              "      <td>0</td>\n",
              "      <td>0</td>\n",
              "      <td>1</td>\n",
              "      <td>9.02</td>\n",
              "      <td>13.635</td>\n",
              "      <td>80</td>\n",
              "      <td>0.0</td>\n",
              "      <td>5</td>\n",
              "      <td>27</td>\n",
              "      <td>32</td>\n",
              "      <td>2011</td>\n",
              "      <td>1</td>\n",
              "      <td>1</td>\n",
              "      <td>2</td>\n",
              "      <td>1</td>\n",
              "      <td>0</td>\n",
              "    </tr>\n",
              "  </tbody>\n",
              "</table>\n",
              "</div>\n",
              "      <button class=\"colab-df-convert\" onclick=\"convertToInteractive('df-45f4fb11-3eb4-49fc-b559-169cfa7ab120')\"\n",
              "              title=\"Convert this dataframe to an interactive table.\"\n",
              "              style=\"display:none;\">\n",
              "        \n",
              "  <svg xmlns=\"http://www.w3.org/2000/svg\" height=\"24px\"viewBox=\"0 0 24 24\"\n",
              "       width=\"24px\">\n",
              "    <path d=\"M0 0h24v24H0V0z\" fill=\"none\"/>\n",
              "    <path d=\"M18.56 5.44l.94 2.06.94-2.06 2.06-.94-2.06-.94-.94-2.06-.94 2.06-2.06.94zm-11 1L8.5 8.5l.94-2.06 2.06-.94-2.06-.94L8.5 2.5l-.94 2.06-2.06.94zm10 10l.94 2.06.94-2.06 2.06-.94-2.06-.94-.94-2.06-.94 2.06-2.06.94z\"/><path d=\"M17.41 7.96l-1.37-1.37c-.4-.4-.92-.59-1.43-.59-.52 0-1.04.2-1.43.59L10.3 9.45l-7.72 7.72c-.78.78-.78 2.05 0 2.83L4 21.41c.39.39.9.59 1.41.59.51 0 1.02-.2 1.41-.59l7.78-7.78 2.81-2.81c.8-.78.8-2.07 0-2.86zM5.41 20L4 18.59l7.72-7.72 1.47 1.35L5.41 20z\"/>\n",
              "  </svg>\n",
              "      </button>\n",
              "      \n",
              "  <style>\n",
              "    .colab-df-container {\n",
              "      display:flex;\n",
              "      flex-wrap:wrap;\n",
              "      gap: 12px;\n",
              "    }\n",
              "\n",
              "    .colab-df-convert {\n",
              "      background-color: #E8F0FE;\n",
              "      border: none;\n",
              "      border-radius: 50%;\n",
              "      cursor: pointer;\n",
              "      display: none;\n",
              "      fill: #1967D2;\n",
              "      height: 32px;\n",
              "      padding: 0 0 0 0;\n",
              "      width: 32px;\n",
              "    }\n",
              "\n",
              "    .colab-df-convert:hover {\n",
              "      background-color: #E2EBFA;\n",
              "      box-shadow: 0px 1px 2px rgba(60, 64, 67, 0.3), 0px 1px 3px 1px rgba(60, 64, 67, 0.15);\n",
              "      fill: #174EA6;\n",
              "    }\n",
              "\n",
              "    [theme=dark] .colab-df-convert {\n",
              "      background-color: #3B4455;\n",
              "      fill: #D2E3FC;\n",
              "    }\n",
              "\n",
              "    [theme=dark] .colab-df-convert:hover {\n",
              "      background-color: #434B5C;\n",
              "      box-shadow: 0px 1px 3px 1px rgba(0, 0, 0, 0.15);\n",
              "      filter: drop-shadow(0px 1px 2px rgba(0, 0, 0, 0.3));\n",
              "      fill: #FFFFFF;\n",
              "    }\n",
              "  </style>\n",
              "\n",
              "      <script>\n",
              "        const buttonEl =\n",
              "          document.querySelector('#df-45f4fb11-3eb4-49fc-b559-169cfa7ab120 button.colab-df-convert');\n",
              "        buttonEl.style.display =\n",
              "          google.colab.kernel.accessAllowed ? 'block' : 'none';\n",
              "\n",
              "        async function convertToInteractive(key) {\n",
              "          const element = document.querySelector('#df-45f4fb11-3eb4-49fc-b559-169cfa7ab120');\n",
              "          const dataTable =\n",
              "            await google.colab.kernel.invokeFunction('convertToInteractive',\n",
              "                                                     [key], {});\n",
              "          if (!dataTable) return;\n",
              "\n",
              "          const docLinkHtml = 'Like what you see? Visit the ' +\n",
              "            '<a target=\"_blank\" href=https://colab.research.google.com/notebooks/data_table.ipynb>data table notebook</a>'\n",
              "            + ' to learn more about interactive tables.';\n",
              "          element.innerHTML = '';\n",
              "          dataTable['output_type'] = 'display_data';\n",
              "          await google.colab.output.renderOutput(dataTable, element);\n",
              "          const docLink = document.createElement('div');\n",
              "          docLink.innerHTML = docLinkHtml;\n",
              "          element.appendChild(docLink);\n",
              "        }\n",
              "      </script>\n",
              "    </div>\n",
              "  </div>\n",
              "  "
            ]
          },
          "metadata": {},
          "execution_count": 84
        }
      ]
    },
    {
      "cell_type": "code",
      "source": [
        "drop_columns = ['datetime', 'casual', 'registered']\n",
        "bike_df.drop(drop_columns, axis=1, inplace=True)"
      ],
      "metadata": {
        "id": "_Mdo2CQDFC3G"
      },
      "execution_count": 85,
      "outputs": []
    },
    {
      "cell_type": "markdown",
      "source": [
        "# 평가지표 설정"
      ],
      "metadata": {
        "id": "ZhR6nOxoNk5d"
      }
    },
    {
      "cell_type": "markdown",
      "source": [
        "캐글에서 요구한 성능 평가 방법은 RMSLE(Root Mean Square Log Error)입니다. 즉, 오류 값의 로그에 대한 RMSE 입니다. 사이킷런에서 직접 제공하는 함수가 없기 때문에 평가지표 함수를 만들고, 다른 평가 지표인 MSE, RMSE를 함께 모두 계산할 수 있는 함수도 추가로 만들었습니다."
      ],
      "metadata": {
        "id": "JaklSzUlNn1S"
      }
    },
    {
      "cell_type": "code",
      "source": [
        "from sklearn.metrics import mean_squared_error, mean_absolute_error\n",
        "\n",
        "# log 값 변환 시 NaN등의 이슈로 log() 가 아닌 log1p() 를 이용하여 RMSLE 계산\n",
        "# log1p() = 1 + log()\n",
        "# 이렇게 변환된 값은 다시 expm1()함수로 쉽게 원래 스케일로 복원 가능\n",
        "def rmsle(y, pred):\n",
        "    log_y = np.log1p(y)\n",
        "    log_pred = np.log1p(pred)\n",
        "    squared_error = (log_y - log_pred) ** 2\n",
        "    rmsle = np.sqrt(np.mean(squared_error))\n",
        "    return rmsle\n",
        "\n",
        "# 사이킷런의 mean_square_error() 를 이용하여 RMSE 계산\n",
        "def rmse(y,pred):\n",
        "    return np.sqrt(mean_squared_error(y,pred))\n",
        "\n",
        "# MSE, RMSE, RMSLE 를 모두 계산 \n",
        "def evaluate_regr(y,pred):\n",
        "    rmsle_val = rmsle(y,pred)\n",
        "    rmse_val = rmse(y,pred)\n",
        "    # MAE 는 scikit learn의 mean_absolute_error() 로 계산\n",
        "    mae_val = mean_absolute_error(y,pred)\n",
        "    print('RMSLE: {0:.3f}, RMSE: {1:.3F}, MAE: {2:.3F}'.format(rmsle_val, rmse_val, mae_val))"
      ],
      "metadata": {
        "id": "8LYqILUUHd8W"
      },
      "execution_count": 60,
      "outputs": []
    },
    {
      "cell_type": "markdown",
      "source": [
        "# 모델 학습/예측/평가"
      ],
      "metadata": {
        "id": "DfjPCS5mOcPP"
      }
    },
    {
      "cell_type": "code",
      "source": [
        "from sklearn.model_selection import train_test_split , GridSearchCV\n",
        "from sklearn.linear_model import LinearRegression , Ridge , Lasso\n",
        "\n",
        "y_target = bike_df['count']\n",
        "X_features = bike_df.drop(['count'],axis=1,inplace=False)\n",
        "\n",
        "y_target.hist()"
      ],
      "metadata": {
        "colab": {
          "base_uri": "https://localhost:8080/",
          "height": 283
        },
        "id": "bQk8S5hePz2A",
        "outputId": "1cbaf432-8b68-47ca-f018-10455feb4dc6"
      },
      "execution_count": 61,
      "outputs": [
        {
          "output_type": "execute_result",
          "data": {
            "text/plain": [
              "<matplotlib.axes._subplots.AxesSubplot at 0x7f59284f1ac0>"
            ]
          },
          "metadata": {},
          "execution_count": 61
        },
        {
          "output_type": "display_data",
          "data": {
            "text/plain": [
              "<Figure size 432x288 with 1 Axes>"
            ],
            "image/png": "[encoded data removed]"
          },
          "metadata": {
            "needs_background": "light"
          }
        }
      ]
    },
    {
      "cell_type": "code",
      "source": [
        "# 타깃 칼럼인 count 값을 log1p로 로그 변환\n",
        "# 변환하는 이유는 count의 분포를 보게 되면 0~200 사이에 왜곡됨을 볼 수 있음.\n",
        "# 정규 분포 형태로 바꾸기 위해 로그를 적용하여 변환(정규성을 높여 정확한 결과를 얻기 위함)\n",
        "y_target_log = np.log1p(y_target)\n",
        "\n",
        "# 로그 변환된 y_target_log를 반영하여 학습/테스트 데이터 셋 분할\n",
        "X_train, X_test, y_train, y_test = train_test_split(X_features, y_target_log, test_size=0.3, random_state=0)\n",
        "lr_reg = LinearRegression()\n",
        "lr_reg.fit(X_train, y_train)\n",
        "pred = lr_reg.predict(X_test)\n",
        "\n",
        "# 테스트 데이터 셋의 Target 값은 Log 변환되었으므로 다시 expm1를 이용하여 원래 scale로 변환\n",
        "y_test_exp = np.expm1(y_test)\n",
        "\n",
        "# 예측 값 역시 Log 변환된 타깃 기반으로 학습되어 예측되었으므로 다시 exmpl으로 scale변환\n",
        "pred_exp = np.expm1(pred)\n",
        "\n",
        "evaluate_regr(y_test_exp ,pred_exp)\n"
      ],
      "metadata": {
        "colab": {
          "base_uri": "https://localhost:8080/"
        },
        "id": "9Urg0mLYJeFd",
        "outputId": "3c9bb20f-b403-411b-deca-64694d02a5d6"
      },
      "execution_count": 62,
      "outputs": [
        {
          "output_type": "stream",
          "name": "stdout",
          "text": [
            "RMSLE: 1.016, RMSE: 161.632, MAE: 108.517\n"
          ]
        }
      ]
    },
    {
      "cell_type": "code",
      "source": [
        "y_target_log.hist()"
      ],
      "metadata": {
        "colab": {
          "base_uri": "https://localhost:8080/",
          "height": 283
        },
        "id": "G2FqTA7xD5hD",
        "outputId": "5a609d5d-9f35-4bd6-bf20-32df085b84a0"
      },
      "execution_count": 63,
      "outputs": [
        {
          "output_type": "execute_result",
          "data": {
            "text/plain": [
              "<matplotlib.axes._subplots.AxesSubplot at 0x7f5928566cd0>"
            ]
          },
          "metadata": {},
          "execution_count": 63
        },
        {
          "output_type": "display_data",
          "data": {
            "text/plain": [
              "<Figure size 432x288 with 1 Axes>"
            ],
            "image/png": "[encoded data removed]"
          },
          "metadata": {
            "needs_background": "light"
          }
        }
      ]
    },
    {
      "cell_type": "markdown",
      "source": [
        "각 feature에 대한 회귀 계숫값 시각화"
      ],
      "metadata": {
        "id": "OVkz8dQ0QGHR"
      }
    },
    {
      "cell_type": "code",
      "source": [
        "coef = pd.Series(lr_reg.coef_, index=X_features.columns)\n",
        "coef_sort = coef.sort_values(ascending=False)\n",
        "sns.barplot(x=coef_sort.values, y=coef_sort.index)\n",
        "plt.savefig('log_transform.tif', format='tif', dpi=300, bbox_inches='tight')"
      ],
      "metadata": {
        "colab": {
          "base_uri": "https://localhost:8080/",
          "height": 265
        },
        "id": "5xnFjru7JrLN",
        "outputId": "530693e4-e585-4b8c-9d0d-946f0d54de2f"
      },
      "execution_count": 64,
      "outputs": [
        {
          "output_type": "display_data",
          "data": {
            "text/plain": [
              "<Figure size 432x288 with 1 Axes>"
            ],
            "image/png": "[encoded data removed]"
          },
          "metadata": {
            "needs_background": "light"
          }
        }
      ]
    },
    {
      "cell_type": "markdown",
      "source": [
        "# one-hot encoding"
      ],
      "metadata": {
        "id": "NxAEjK0yQSg4"
      }
    },
    {
      "cell_type": "code",
      "source": [
        "# 'year', month', 'day', hour'등의 피처들을 One Hot Encoding\n",
        "X_features_ohe = pd.get_dummies(X_features, columns=['year', 'month','day', 'hour', 'holiday',\n",
        "                                              'workingday','season','weather'])"
      ],
      "metadata": {
        "id": "MAWTrb2gJskN"
      },
      "execution_count": 86,
      "outputs": []
    },
    {
      "cell_type": "code",
      "source": [
        "X_features_ohe.head()"
      ],
      "metadata": {
        "colab": {
          "base_uri": "https://localhost:8080/",
          "height": 299
        },
        "id": "kUCOR0klE-q0",
        "outputId": "d4a53e17-a511-4340-b44c-ddd6f352e4d6"
      },
      "execution_count": 87,
      "outputs": [
        {
          "output_type": "execute_result",
          "data": {
            "text/plain": [
              "   temp   atemp  humidity  windspeed  good  year_2011  year_2012  month_1  \\\n",
              "0  9.84  14.395        81        0.0     1          1          0        1   \n",
              "1  9.02  13.635        80        0.0     1          1          0        1   \n",
              "2  9.02  13.635        80        0.0     1          1          0        1   \n",
              "3  9.84  14.395        75        0.0     1          1          0        1   \n",
              "4  9.84  14.395        75        0.0     1          1          0        1   \n",
              "\n",
              "   month_2  month_3  ...  workingday_0  workingday_1  season_1  season_2  \\\n",
              "0        0        0  ...             1             0         1         0   \n",
              "1        0        0  ...             1             0         1         0   \n",
              "2        0        0  ...             1             0         1         0   \n",
              "3        0        0  ...             1             0         1         0   \n",
              "4        0        0  ...             1             0         1         0   \n",
              "\n",
              "   season_3  season_4  weather_1  weather_2  weather_3  weather_4  \n",
              "0         0         0          1          0          0          0  \n",
              "1         0         0          1          0          0          0  \n",
              "2         0         0          1          0          0          0  \n",
              "3         0         0          1          0          0          0  \n",
              "4         0         0          1          0          0          0  \n",
              "\n",
              "[5 rows x 74 columns]"
            ],
            "text/html": [
              "\n",
              "  <div id=\"df-41c58ce6-f541-4fff-9829-47ea47bf5f60\">\n",
              "    <div class=\"colab-df-container\">\n",
              "      <div>\n",
              "<style scoped>\n",
              "    .dataframe tbody tr th:only-of-type {\n",
              "        vertical-align: middle;\n",
              "    }\n",
              "\n",
              "    .dataframe tbody tr th {\n",
              "        vertical-align: top;\n",
              "    }\n",
              "\n",
              "    .dataframe thead th {\n",
              "        text-align: right;\n",
              "    }\n",
              "</style>\n",
              "<table border=\"1\" class=\"dataframe\">\n",
              "  <thead>\n",
              "    <tr style=\"text-align: right;\">\n",
              "      <th></th>\n",
              "      <th>temp</th>\n",
              "      <th>atemp</th>\n",
              "      <th>humidity</th>\n",
              "      <th>windspeed</th>\n",
              "      <th>good</th>\n",
              "      <th>year_2011</th>\n",
              "      <th>year_2012</th>\n",
              "      <th>month_1</th>\n",
              "      <th>month_2</th>\n",
              "      <th>month_3</th>\n",
              "      <th>...</th>\n",
              "      <th>workingday_0</th>\n",
              "      <th>workingday_1</th>\n",
              "      <th>season_1</th>\n",
              "      <th>season_2</th>\n",
              "      <th>season_3</th>\n",
              "      <th>season_4</th>\n",
              "      <th>weather_1</th>\n",
              "      <th>weather_2</th>\n",
              "      <th>weather_3</th>\n",
              "      <th>weather_4</th>\n",
              "    </tr>\n",
              "  </thead>\n",
              "  <tbody>\n",
              "    <tr>\n",
              "      <th>0</th>\n",
              "      <td>9.84</td>\n",
              "      <td>14.395</td>\n",
              "      <td>81</td>\n",
              "      <td>0.0</td>\n",
              "      <td>1</td>\n",
              "      <td>1</td>\n",
              "      <td>0</td>\n",
              "      <td>1</td>\n",
              "      <td>0</td>\n",
              "      <td>0</td>\n",
              "      <td>...</td>\n",
              "      <td>1</td>\n",
              "      <td>0</td>\n",
              "      <td>1</td>\n",
              "      <td>0</td>\n",
              "      <td>0</td>\n",
              "      <td>0</td>\n",
              "      <td>1</td>\n",
              "      <td>0</td>\n",
              "      <td>0</td>\n",
              "      <td>0</td>\n",
              "    </tr>\n",
              "    <tr>\n",
              "      <th>1</th>\n",
              "      <td>9.02</td>\n",
              "      <td>13.635</td>\n",
              "      <td>80</td>\n",
              "      <td>0.0</td>\n",
              "      <td>1</td>\n",
              "      <td>1</td>\n",
              "      <td>0</td>\n",
              "      <td>1</td>\n",
              "      <td>0</td>\n",
              "      <td>0</td>\n",
              "      <td>...</td>\n",
              "      <td>1</td>\n",
              "      <td>0</td>\n",
              "      <td>1</td>\n",
              "      <td>0</td>\n",
              "      <td>0</td>\n",
              "      <td>0</td>\n",
              "      <td>1</td>\n",
              "      <td>0</td>\n",
              "      <td>0</td>\n",
              "      <td>0</td>\n",
              "    </tr>\n",
              "    <tr>\n",
              "      <th>2</th>\n",
              "      <td>9.02</td>\n",
              "      <td>13.635</td>\n",
              "      <td>80</td>\n",
              "      <td>0.0</td>\n",
              "      <td>1</td>\n",
              "      <td>1</td>\n",
              "      <td>0</td>\n",
              "      <td>1</td>\n",
              "      <td>0</td>\n",
              "      <td>0</td>\n",
              "      <td>...</td>\n",
              "      <td>1</td>\n",
              "      <td>0</td>\n",
              "      <td>1</td>\n",
              "      <td>0</td>\n",
              "      <td>0</td>\n",
              "      <td>0</td>\n",
              "      <td>1</td>\n",
              "      <td>0</td>\n",
              "      <td>0</td>\n",
              "      <td>0</td>\n",
              "    </tr>\n",
              "    <tr>\n",
              "      <th>3</th>\n",
              "      <td>9.84</td>\n",
              "      <td>14.395</td>\n",
              "      <td>75</td>\n",
              "      <td>0.0</td>\n",
              "      <td>1</td>\n",
              "      <td>1</td>\n",
              "      <td>0</td>\n",
              "      <td>1</td>\n",
              "      <td>0</td>\n",
              "      <td>0</td>\n",
              "      <td>...</td>\n",
              "      <td>1</td>\n",
              "      <td>0</td>\n",
              "      <td>1</td>\n",
              "      <td>0</td>\n",
              "      <td>0</td>\n",
              "      <td>0</td>\n",
              "      <td>1</td>\n",
              "      <td>0</td>\n",
              "      <td>0</td>\n",
              "      <td>0</td>\n",
              "    </tr>\n",
              "    <tr>\n",
              "      <th>4</th>\n",
              "      <td>9.84</td>\n",
              "      <td>14.395</td>\n",
              "      <td>75</td>\n",
              "      <td>0.0</td>\n",
              "      <td>1</td>\n",
              "      <td>1</td>\n",
              "      <td>0</td>\n",
              "      <td>1</td>\n",
              "      <td>0</td>\n",
              "      <td>0</td>\n",
              "      <td>...</td>\n",
              "      <td>1</td>\n",
              "      <td>0</td>\n",
              "      <td>1</td>\n",
              "      <td>0</td>\n",
              "      <td>0</td>\n",
              "      <td>0</td>\n",
              "      <td>1</td>\n",
              "      <td>0</td>\n",
              "      <td>0</td>\n",
              "      <td>0</td>\n",
              "    </tr>\n",
              "  </tbody>\n",
              "</table>\n",
              "<p>5 rows × 74 columns</p>\n",
              "</div>\n",
              "      <button class=\"colab-df-convert\" onclick=\"convertToInteractive('df-41c58ce6-f541-4fff-9829-47ea47bf5f60')\"\n",
              "              title=\"Convert this dataframe to an interactive table.\"\n",
              "              style=\"display:none;\">\n",
              "        \n",
              "  <svg xmlns=\"http://www.w3.org/2000/svg\" height=\"24px\"viewBox=\"0 0 24 24\"\n",
              "       width=\"24px\">\n",
              "    <path d=\"M0 0h24v24H0V0z\" fill=\"none\"/>\n",
              "    <path d=\"M18.56 5.44l.94 2.06.94-2.06 2.06-.94-2.06-.94-.94-2.06-.94 2.06-2.06.94zm-11 1L8.5 8.5l.94-2.06 2.06-.94-2.06-.94L8.5 2.5l-.94 2.06-2.06.94zm10 10l.94 2.06.94-2.06 2.06-.94-2.06-.94-.94-2.06-.94 2.06-2.06.94z\"/><path d=\"M17.41 7.96l-1.37-1.37c-.4-.4-.92-.59-1.43-.59-.52 0-1.04.2-1.43.59L10.3 9.45l-7.72 7.72c-.78.78-.78 2.05 0 2.83L4 21.41c.39.39.9.59 1.41.59.51 0 1.02-.2 1.41-.59l7.78-7.78 2.81-2.81c.8-.78.8-2.07 0-2.86zM5.41 20L4 18.59l7.72-7.72 1.47 1.35L5.41 20z\"/>\n",
              "  </svg>\n",
              "      </button>\n",
              "      \n",
              "  <style>\n",
              "    .colab-df-container {\n",
              "      display:flex;\n",
              "      flex-wrap:wrap;\n",
              "      gap: 12px;\n",
              "    }\n",
              "\n",
              "    .colab-df-convert {\n",
              "      background-color: #E8F0FE;\n",
              "      border: none;\n",
              "      border-radius: 50%;\n",
              "      cursor: pointer;\n",
              "      display: none;\n",
              "      fill: #1967D2;\n",
              "      height: 32px;\n",
              "      padding: 0 0 0 0;\n",
              "      width: 32px;\n",
              "    }\n",
              "\n",
              "    .colab-df-convert:hover {\n",
              "      background-color: #E2EBFA;\n",
              "      box-shadow: 0px 1px 2px rgba(60, 64, 67, 0.3), 0px 1px 3px 1px rgba(60, 64, 67, 0.15);\n",
              "      fill: #174EA6;\n",
              "    }\n",
              "\n",
              "    [theme=dark] .colab-df-convert {\n",
              "      background-color: #3B4455;\n",
              "      fill: #D2E3FC;\n",
              "    }\n",
              "\n",
              "    [theme=dark] .colab-df-convert:hover {\n",
              "      background-color: #434B5C;\n",
              "      box-shadow: 0px 1px 3px 1px rgba(0, 0, 0, 0.15);\n",
              "      filter: drop-shadow(0px 1px 2px rgba(0, 0, 0, 0.3));\n",
              "      fill: #FFFFFF;\n",
              "    }\n",
              "  </style>\n",
              "\n",
              "      <script>\n",
              "        const buttonEl =\n",
              "          document.querySelector('#df-41c58ce6-f541-4fff-9829-47ea47bf5f60 button.colab-df-convert');\n",
              "        buttonEl.style.display =\n",
              "          google.colab.kernel.accessAllowed ? 'block' : 'none';\n",
              "\n",
              "        async function convertToInteractive(key) {\n",
              "          const element = document.querySelector('#df-41c58ce6-f541-4fff-9829-47ea47bf5f60');\n",
              "          const dataTable =\n",
              "            await google.colab.kernel.invokeFunction('convertToInteractive',\n",
              "                                                     [key], {});\n",
              "          if (!dataTable) return;\n",
              "\n",
              "          const docLinkHtml = 'Like what you see? Visit the ' +\n",
              "            '<a target=\"_blank\" href=https://colab.research.google.com/notebooks/data_table.ipynb>data table notebook</a>'\n",
              "            + ' to learn more about interactive tables.';\n",
              "          element.innerHTML = '';\n",
              "          dataTable['output_type'] = 'display_data';\n",
              "          await google.colab.output.renderOutput(dataTable, element);\n",
              "          const docLink = document.createElement('div');\n",
              "          docLink.innerHTML = docLinkHtml;\n",
              "          element.appendChild(docLink);\n",
              "        }\n",
              "      </script>\n",
              "    </div>\n",
              "  </div>\n",
              "  "
            ]
          },
          "metadata": {},
          "execution_count": 87
        }
      ]
    },
    {
      "cell_type": "markdown",
      "source": [
        "# one-hot encoding 후 다시 성능 평가"
      ],
      "metadata": {
        "id": "shk4peZpQfEZ"
      }
    },
    {
      "cell_type": "markdown",
      "source": [
        "성능 평가를 위한 함수 생성"
      ],
      "metadata": {
        "id": "aaL_NjjBRHDd"
      }
    },
    {
      "cell_type": "code",
      "source": [
        "# 모델과 학습/테스트 데이터 셋을 입력하면 성능 평가 수치를 반환\n",
        "def get_model_predict(model, X_train, X_test, y_train, y_test, is_expm1=False):\n",
        "    model.fit(X_train, y_train)\n",
        "    pred = model.predict(X_test)\n",
        "    if is_expm1 :\n",
        "        y_test = np.expm1(y_test)\n",
        "        pred = np.expm1(pred)\n",
        "    print('###',model.__class__.__name__,'###')\n",
        "    evaluate_regr(y_test, pred)"
      ],
      "metadata": {
        "id": "PSSkImkdQ6oB"
      },
      "execution_count": 67,
      "outputs": []
    },
    {
      "cell_type": "markdown",
      "source": [
        "성능 평가 진행"
      ],
      "metadata": {
        "id": "aCMVUFPcRJsZ"
      }
    },
    {
      "cell_type": "code",
      "source": [
        "# 원-핫 인코딩이 적용된 feature 데이터 세트 기반으로 학습/예측 데이터 분할. \n",
        "X_train, X_test, y_train, y_test = train_test_split(X_features_ohe, y_target_log,\n",
        "                                                    test_size=0.3, random_state=0)\n",
        "\n",
        "# model 별로 평가 수행\n",
        "lr_reg = LinearRegression()\n",
        "ridge_reg = Ridge(alpha=10)\n",
        "lasso_reg = Lasso(alpha=0.01)\n",
        "\n",
        "for model in [lr_reg, ridge_reg, lasso_reg]:\n",
        "    get_model_predict(model,X_train, X_test, y_train, y_test,is_expm1=True)"
      ],
      "metadata": {
        "colab": {
          "base_uri": "https://localhost:8080/"
        },
        "id": "sjJKKpQ9Q1nB",
        "outputId": "6d3b5e11-164b-4e5a-c795-6ec6994abbf2"
      },
      "execution_count": 88,
      "outputs": [
        {
          "output_type": "stream",
          "name": "stdout",
          "text": [
            "### LinearRegression ###\n",
            "RMSLE: 0.588, RMSE: 95.758, MAE: 62.455\n",
            "### Ridge ###\n",
            "RMSLE: 0.588, RMSE: 96.669, MAE: 62.923\n",
            "### Lasso ###\n",
            "RMSLE: 0.633, RMSE: 112.053, MAE: 72.110\n"
          ]
        }
      ]
    },
    {
      "cell_type": "markdown",
      "source": [
        "회귀 계수 확인"
      ],
      "metadata": {
        "id": "28V5QQ5iRNFJ"
      }
    },
    {
      "cell_type": "code",
      "source": [
        "coef = pd.Series(lr_reg.coef_ , index=X_features_ohe.columns)\n",
        "coef_sort = coef.sort_values(ascending=False)[:20]\n",
        "sns.barplot(x=coef_sort.values , y=coef_sort.index)"
      ],
      "metadata": {
        "colab": {
          "base_uri": "https://localhost:8080/",
          "height": 296
        },
        "id": "L8NbbUQmJv4d",
        "outputId": "886cf66e-3c9a-46bf-dc69-f22f15a3fc65"
      },
      "execution_count": 89,
      "outputs": [
        {
          "output_type": "execute_result",
          "data": {
            "text/plain": [
              "<matplotlib.axes._subplots.AxesSubplot at 0x7f5927e197f0>"
            ]
          },
          "metadata": {},
          "execution_count": 89
        },
        {
          "output_type": "display_data",
          "data": {
            "text/plain": [
              "<Figure size 432x288 with 1 Axes>"
            ],
            "image/png": "[encoded data removed]"
          },
          "metadata": {
            "needs_background": "light"
          }
        }
      ]
    },
    {
      "cell_type": "code",
      "source": [],
      "metadata": {
        "id": "4pan00aLLAYu"
      },
      "execution_count": null,
      "outputs": []
    },
    {
      "cell_type": "markdown",
      "source": [
        "one-hot encoding을 통해 성능도 올라갔고, featrue 들의 영향도도 달라졌음을 알 수 있다. 항상 one-hot encoding이 성능을 올린다고 할 수는 없지만 선형 회귀의 경우 중요 카테고리성 feature들은 one-hot encoding을 하는 것이 중요한 영향을 미칠 수 있다."
      ],
      "metadata": {
        "id": "b15fguKtRTif"
      }
    },
    {
      "cell_type": "markdown",
      "source": [
        "# 다양한 모델을 통한 실험"
      ],
      "metadata": {
        "id": "L64YAgtFRzfR"
      }
    },
    {
      "cell_type": "code",
      "source": [
        "from sklearn.ensemble import RandomForestRegressor, GradientBoostingRegressor\n",
        "from xgboost import XGBRegressor\n",
        "from lightgbm import LGBMRegressor\n",
        "\n",
        "# 랜덤 포레스트, GBM, XGBoost, LightGBM model 별로 평가 수행\n",
        "# n_estimators를 변경할 수 있습니다. \n",
        "# 구글링을 통해 모델별로 추가 parameter 튜닝하셔도 됩니다.\n",
        "n_estimators = [10, 50, 100, 200]\n",
        "max_depth = [3, 10, 20, 40]\n",
        "rf_reg = RandomForestRegressor(n_estimators=n_estimators[3], max_depth=max_depth[2])\n",
        "gbm_reg = GradientBoostingRegressor(n_estimators=n_estimators[3], max_depth=max_depth[2])\n",
        "xgb_reg = XGBRegressor(n_estimators=n_estimators[3], max_depth=max_depth[2])\n",
        "lgbm_reg = LGBMRegressor(n_estimators=n_estimators[3], max_depth=max_depth[2])"
      ],
      "metadata": {
        "id": "RVhBfpDnJxqu"
      },
      "execution_count": 98,
      "outputs": []
    },
    {
      "cell_type": "code",
      "source": [
        "model = rf_reg  # 변경 가능\n",
        "\n",
        "get_model_predict(model,X_train.values, X_test.values, y_train.values, y_test.values,is_expm1=True)\n",
        " "
      ],
      "metadata": {
        "colab": {
          "base_uri": "https://localhost:8080/"
        },
        "id": "U6jyaL35SP4q",
        "outputId": "c66f34be-c802-47d9-e205-661229158c57"
      },
      "execution_count": 72,
      "outputs": [
        {
          "output_type": "stream",
          "name": "stdout",
          "text": [
            "### RandomForestRegressor ###\n",
            "RMSLE: 0.355, RMSE: 50.536, MAE: 31.246\n"
          ]
        }
      ]
    },
    {
      "cell_type": "code",
      "source": [
        "get_model_predict(rf_reg, X_train.values, X_test.values, y_train.values, y_test.values,is_expm1=True)\n",
        "get_model_predict(gbm_reg, X_train.values, X_test.values, y_train.values, y_test.values,is_expm1=True)\n",
        "get_model_predict(xgb_reg, X_train.values, X_test.values, y_train.values, y_test.values,is_expm1=True)\n",
        "get_model_predict(lgbm_reg, X_train.values, X_test.values, y_train.values, y_test.values,is_expm1=True)\n",
        " "
      ],
      "metadata": {
        "colab": {
          "base_uri": "https://localhost:8080/"
        },
        "id": "SjakfxNqHSuE",
        "outputId": "5e39222a-d7a4-4ff2-b760-8abf19235259"
      },
      "execution_count": 99,
      "outputs": [
        {
          "output_type": "stream",
          "name": "stdout",
          "text": [
            "### RandomForestRegressor ###\n",
            "RMSLE: 0.377, RMSE: 63.134, MAE: 39.884\n",
            "### GradientBoostingRegressor ###\n",
            "RMSLE: 0.389, RMSE: 53.434, MAE: 32.621\n",
            "[07:51:22] WARNING: /workspace/src/objective/regression_obj.cu:152: reg:linear is now deprecated in favor of reg:squarederror.\n",
            "### XGBRegressor ###\n",
            "RMSLE: 0.342, RMSE: 48.952, MAE: 29.888\n",
            "### LGBMRegressor ###\n",
            "RMSLE: 0.321, RMSE: 48.059, MAE: 29.640\n"
          ]
        }
      ]
    },
    {
      "cell_type": "markdown",
      "source": [
        "### 두 모델을 혼합하여 계산"
      ],
      "metadata": {
        "id": "efMnS6ShUyJd"
      }
    },
    {
      "cell_type": "markdown",
      "source": [
        "여러 모델의 결과를 받고 가중치에 따른 계산을 하는 방법입니다. (단일 모델에서 가장 성능이 좋은 두 모델을 결합하였는데 더 좋지 않은 성능을 보일 수도 있습니다.)"
      ],
      "metadata": {
        "id": "rYAqZCmpU8D6"
      }
    },
    {
      "cell_type": "code",
      "source": [
        "# 모델과 학습/테스트 데이터 셋을 입력하면 성능 평가 수치를 반환\n",
        "def get_two_models_predict(model1,model2, X_train, X_test, y_train, y_test, is_expm1=False):\n",
        "    model1.fit(X_train, y_train)\n",
        "    model1_pred = model1.predict(X_test)\n",
        "    model2.fit(X_train, y_train)\n",
        "    model2_pred = model2.predict(X_test)\n",
        "    \n",
        "    pred = 0.4*model1_pred + 0.6*model2_pred # 가중치 변경 가능!\n",
        "\n",
        "    if is_expm1 :\n",
        "        y_test = np.expm1(y_test)\n",
        "        pred = np.expm1(pred)\n",
        "    print('### Two Models ###')\n",
        "    evaluate_regr(y_test, pred)"
      ],
      "metadata": {
        "id": "foCZLQ9fSnvH"
      },
      "execution_count": 74,
      "outputs": []
    },
    {
      "cell_type": "code",
      "source": [
        "model1 = xgb_reg  # 변경 가능\n",
        "model2 = lgbm_reg  # 변경 가능\n",
        "\n",
        "get_two_models_predict(model1,model2,X_train.values, X_test.values, y_train.values, y_test.values,is_expm1=True)\n",
        " "
      ],
      "metadata": {
        "colab": {
          "base_uri": "https://localhost:8080/"
        },
        "id": "ybfNNZkYJzZO",
        "outputId": "d8d29392-30ab-4906-f6bc-eb23bb99af79"
      },
      "execution_count": 100,
      "outputs": [
        {
          "output_type": "stream",
          "name": "stdout",
          "text": [
            "[07:53:25] WARNING: /workspace/src/objective/regression_obj.cu:152: reg:linear is now deprecated in favor of reg:squarederror.\n",
            "### Two Models ###\n",
            "RMSLE: 0.317, RMSE: 46.511, MAE: 28.641\n"
          ]
        }
      ]
    },
    {
      "cell_type": "markdown",
      "source": [
        "# 과제"
      ],
      "metadata": {
        "id": "v7KMDIe-UJuI"
      }
    },
    {
      "cell_type": "markdown",
      "source": [
        "자유롭게 FE를 진행하시고 모델 튜닝 및 모델 선택을 진행하여서 RMSLE가 0.32 이하가 나온 것을 캡쳐해서 아래에 업로드 해주시면 됩니다. (0.32 이하가 나오지 않아도 노력한 흔적이 있으면 되기 때문에 해당 결과를 올리셔도 됩니다.)\n",
        "\n",
        "\n",
        "(해당 결과는 train dataset에서 나눈 data set을 test data로 만든 것이기 때문에 실제 test 결과와는 다릅니다. 즉, 캐글 점수와는 다를 것입니다.)"
      ],
      "metadata": {
        "id": "EE6StLU3UPkm"
      }
    },
    {
      "cell_type": "markdown",
      "source": [
        "이미지 제출\n",
        "![result.png](data:image/png;base64,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)"
      ],
      "metadata": {
        "id": "xr6VObtLWIjt"
      }
    }
  ]
}